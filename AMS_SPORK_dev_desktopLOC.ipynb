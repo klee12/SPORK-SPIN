{
 "cells": [
  {
   "cell_type": "code",
   "execution_count": 1,
   "metadata": {},
   "outputs": [
    {
     "name": "stdout",
     "output_type": "stream",
     "text": [
      "\n",
      "## You are using the Python ARM Radar Toolkit (Py-ART), an open source\n",
      "## library for working with weather radar data. Py-ART is partly\n",
      "## supported by the U.S. Department of Energy as part of the Atmospheric\n",
      "## Radiation Measurement (ARM) Climate Research Facility, an Office of\n",
      "## Science user facility.\n",
      "##\n",
      "## If you use this software to prepare a publication, please cite:\n",
      "##\n",
      "##     JJ Helmus and SM Collis, JORS 2016, doi: 10.5334/jors.119\n",
      "\n"
     ]
    },
    {
     "name": "stderr",
     "output_type": "stream",
     "text": [
      "C:\\Users\\matts\\AppData\\Local\\Continuum\\anaconda3\\envs\\radar\\lib\\site-packages\\pyart\\graph\\cm.py:104: FutureWarning: elementwise comparison failed; returning scalar instead, but in the future will perform elementwise comparison\n",
      "  if 'red' in spec:\n",
      "C:\\Users\\matts\\AppData\\Local\\Continuum\\anaconda3\\envs\\radar\\lib\\site-packages\\pyart\\graph\\cm_colorblind.py:32: FutureWarning: elementwise comparison failed; returning scalar instead, but in the future will perform elementwise comparison\n",
      "  if 'red' in spec:\n",
      "C:\\Users\\matts\\AppData\\Local\\Continuum\\anaconda3\\envs\\radar\\lib\\site-packages\\numba\\types\\containers.py:3: DeprecationWarning: Using or importing the ABCs from 'collections' instead of from 'collections.abc' is deprecated, and in 3.8 it will stop working\n",
      "  from collections import Iterable\n"
     ]
    }
   ],
   "source": [
    "from ridiculous_framework_dev import multi_case_algorithm_ML1_dev\n",
    "from ridiculous_framework_local_dev import multi_case_algorithm_ML1_devLOCAL\n",
    "from ridiculous_framework_devSPIN import multi_case_algorithm_ML1_devSPIN\n",
    "from ridiculous_framework_devSPINLOCAL import multi_case_algorithm_ML1_devSPINLOCAL\n",
    "\n",
    "import numpy as np\n",
    "import pandas as pd\n",
    "from datetime import datetime, timedelta\n",
    "#from partone import multi_case_algorithm_ML1\n",
    "#from RidiculousUnaltered import multi_case_algorithm_ML1"
   ]
  },
  {
   "cell_type": "code",
   "execution_count": null,
   "metadata": {},
   "outputs": [],
   "source": [
    "#Array for storms A, B, BB, CC, D, DD, EE\n",
    "#Duration for B has been changed from 2.1 to 0.2 for testing\n",
    "storm_relative_dirs = np.asarray([190, 180, 190, 190, 180, 160, 200])\n",
    "zdrlevs = np.asarray([3.25, 3.25, 3.25, 3.25, 3.25, 3.25, 3.25])\n",
    "kdplevs = np.asarray([1.5, 1.5, 1.5, 1.5, 1.5, 1.5, 1.5])\n",
    "REFlevs = np.asarray([45, 45, 45, 45, 45, 43, 30])\n",
    "REFlev1s = np.asarray([50, 50, 50, 50, 50, 48, 35])\n",
    "big_storms = np.asarray([300, 300, 300, 300, 300, 300, 300])\n",
    "zero_z_triggers = np.asarray([17, 17, 17, 17, 17, 17, 17])\n",
    "storm_to_tracks = np.asarray([1, 1, 3, 0, 2, 2, 6])\n",
    "years = np.asarray([2013, 2013, 2013, 2013, 2012, 2013, 2012])\n",
    "months = np.asarray([8, 4, 5, 6, 3, 11, 6])\n",
    "days = np.asarray([31, 17, 20, 19, 3, 17, 9])\n",
    "hours = np.asarray([0, 22, 20, 22, 1, 17, 0])\n",
    "start_mins = np.asarray([0, 0, 24, 10, 15, 50, 0])\n",
    "durations = np.asarray([1.1, 2.1, 1.6, 1.1, 1.8, 0.9, 1.1])#KBIS should be 1.1, KFDR 2.1, KINX 1.6, KLBB 1.1, KFFC 1.8, KLOT 0.9\n",
    "#calibrations = np.asarray([-.33, 0.354, 0.404, -.36, -0.23, -0.22, -0.1])\n",
    "calibrations = np.asarray([-0.31838281, -0.09084971,  0.10155261, -0.23676067, -0.12648345, -0.46375372, -0.08756084])\n",
    "h_calstm = np.asarray([3927, 4181, 3973, 3935, 3269, 2825, 3424])\n",
    "#h_calstm = np.asarray([3600, 3900, 3800, 3675, 3200, 2500, 3450])\n",
    "stations = ['KBIS', 'KFDR', 'KINX', 'KLBB', 'KFFC', 'KLOT', 'KMQT']"
   ]
  },
  {
   "cell_type": "code",
   "execution_count": null,
   "metadata": {},
   "outputs": [],
   "source": [
    "#Array for storms F, FF, H, HH, I, II, J\n",
    "storm_relative_dirs = np.asarray([180, 230, 150, 210, 160, 190, 170])\n",
    "zdrlevs = np.asarray([3.25, 3.25, 3.25, 3.25, 3.25, 3.25, 3.25])\n",
    "kdplevs = np.asarray([1.5, 1.5, 1.5, 1.5, 1.5, 1.5, 1.5])\n",
    "REFlevs = np.asarray([45, 40, 45, 45, 45, 45, 45])\n",
    "REFlev1s = np.asarray([50, 45, 50, 50, 50, 50, 50])\n",
    "big_storms = np.asarray([300, 300, 300, 300, 300, 300, 300])\n",
    "zero_z_triggers = np.asarray([17, 17, 17, 17, 17, 17, 17])\n",
    "storm_to_tracks = np.asarray([1, 2, 5, 0, 3, 3, 1])\n",
    "years = np.asarray([2012, 2012, 2013, 2013, 2013, 2013, 2012])\n",
    "months = np.asarray([3, 4, 5, 3, 3, 5, 4])\n",
    "days = np.asarray([2, 26, 20, 31, 18, 31, 30])\n",
    "hours = np.asarray([15, 23, 21, 3, 21, 23, 22])\n",
    "start_mins = np.asarray([0, 30, 0, 20, 25, 0, 0])\n",
    "durations = np.asarray([1.5, 1.5, 1.1, 1.4, 1.3, 2.1, 2.0])\n",
    "#calibrations = np.asarray([-0.68, 0.39, -0.14, -0.27, -0.57, -0.45, 0.356])\n",
    "calibrations = np.asarray([-0.69077418,  0.27381103, -0.35858997, -0.3725277,  -0.33369859, -0.48638681, 0.34267983])\n",
    "h_calstm = np.asarray([3349, 3627, 3799, 3105, 3208, 4379, 3395])\n",
    "#h_calstm = np.asarray([3200, 3500, 3800, 2975, 2900, 4000, 3200])\n",
    "stations = ['KHTX', 'KOHX', 'KEAX', 'KSRX', 'KFFC', 'KTLX', 'KDDC']"
   ]
  },
  {
   "cell_type": "code",
   "execution_count": 2,
   "metadata": {},
   "outputs": [],
   "source": [
    "#Array for storms K, M, O, R, W, X, Y, Z\n",
    "#Storms of index 1 and 6 will need local files\n",
    "storm_relative_dirs = np.asarray([120, 190, 170, 200, 190, 170, 150, 190])\n",
    "zdrlevs = np.asarray([3.25, 3.25, 3.25, 3.25, 3.25, 3.25, 3.25, 3.25])\n",
    "kdplevs = np.asarray([1.5, 1.5, 1.5, 1.5, 1.5, 1.5, 1.5, 1.5])\n",
    "REFlevs = np.asarray([45, 45, 45, 45, 45, 45, 45, 45])\n",
    "REFlev1s = np.asarray([50, 50, 50, 50, 50, 50, 50, 50])\n",
    "big_storms = np.asarray([300, 300, 300, 300, 300, 300, 300, 300])\n",
    "zero_z_triggers = np.asarray([17, 17, 17, 17, 17, 17, 17, 17])\n",
    "storm_to_tracks = np.asarray([1, 0, 1, 2, 0, 0, 1, 1])\n",
    "years = np.asarray([2012, 2013, 2012, 2013, 2013, 2013, 2013, 2013])\n",
    "months = np.asarray([5, 2, 4, 5, 8, 5, 11, 5])\n",
    "days = np.asarray([10, 18, 15, 15, 14, 5, 17, 31])\n",
    "hours = np.asarray([18, 22, 0, 23, 23, 0, 19, 0])\n",
    "start_mins = np.asarray([0, 43, 14, 0, 26, 9, 15, 11])\n",
    "durations = np.asarray([1.0, 1.2, 2.6, 1.5, 1.9, 1.5, 1.1, 1.0])\n",
    "#calibrations = np.asarray([0.055, -0.37, 0.382, -0.05, 0.339, 0.713, -0.2, 0.11])\n",
    "h_calstm = np.asarray([3955, 2833, 3780, 3738, 3693, 4073, 3318, 3967])\n",
    "#h_calstm = np.asarray([3975, 2850, 3750, 3650, 3400, 3950, 3100, 3900])\n",
    "calibrations = np.asarray([-0.258938393, 0.11164869, 0.266559857, -0.19640628,  0.24966193,  0.60389074, -0.25374424, 0.117557395])\n",
    "stations = ['KEWX', 'KSHV', 'KTWX', 'KFWS', 'KAMA', 'KJAX', 'KVWX', 'KINX']\n",
    "localfolder = ['','StormM','','','','','StormY','']"
   ]
  },
  {
   "cell_type": "code",
   "execution_count": null,
   "metadata": {},
   "outputs": [],
   "source": [
    "#Storms L and S, and running storms C and GG\n",
    "storm_relative_dirs = np.asarray([170, 160, 180, 180])\n",
    "zdrlevs = np.asarray([3.25, 3.25, 3.25, 3.25])\n",
    "kdplevs = np.asarray([1.5, 1.5, 1.5, 1.5])\n",
    "REFlevs = np.asarray([45, 45, 40, 45])\n",
    "REFlev1s = np.asarray([50, 50, 45, 50])\n",
    "big_storms = np.asarray([300, 300, 300, 300])\n",
    "zero_z_triggers = np.asarray([17, 17, 17, 17])\n",
    "storm_to_tracks = np.asarray([1, 3, 0, 0])\n",
    "years = np.asarray([2013, 2013, 2013, 2013])\n",
    "months = np.asarray([11, 11, 12, 6])\n",
    "days = np.asarray([17, 17, 20, 18])\n",
    "hours = np.asarray([21, 20, 22, 22])\n",
    "start_mins = np.asarray([0, 0, 40, 0])\n",
    "durations = np.asarray([1.3, 1.2, 1.2, 0.9])\n",
    "#calibrations = np.asarray([-0.09, 0.156, 0.323, -0.75])\n",
    "calibrations = np.asarray([-0.23157741,  0.12283485,  0.34443355, -0.63117572])\n",
    "h_calstm = np.asarray([3628,3066,3833,4381])\n",
    "#h_calstm = np.asarray([3250, 3250, 3800, 4075])#Using 3250 for KIND since 2100 seems waaaayyyy too low\n",
    "stations = ['KHPX', 'KIND', 'KDGX', 'KRAX']"
   ]
  },
  {
   "cell_type": "code",
   "execution_count": null,
   "metadata": {},
   "outputs": [],
   "source": [
    "#Re-run storm E\n",
    "storm_relative_dirs = np.asarray([230])\n",
    "zdrlevs = np.asarray([3.25])\n",
    "kdplevs = np.asarray([1.5])\n",
    "REFlevs = np.asarray([45])\n",
    "REFlev1s = np.asarray([50])\n",
    "big_storms = np.asarray([300])\n",
    "zero_z_triggers = np.asarray([17])\n",
    "storm_to_tracks = np.asarray([0])\n",
    "years = np.asarray([2013])\n",
    "months = np.asarray([8])\n",
    "days = np.asarray([28])\n",
    "hours = np.asarray([3])\n",
    "start_mins = np.asarray([10])\n",
    "durations = np.asarray([1.0])\n",
    "#calibrations = np.asarray([-0.71])\n",
    "h_calstm = np.asarray([4628])\n",
    "#h_calstm = np.asarray([4200])\n",
    "calibrations = np.asarray([-0.399802913])\n",
    "stations = ['KDTX']"
   ]
  },
  {
   "cell_type": "code",
   "execution_count": null,
   "metadata": {},
   "outputs": [],
   "source": [
    "#Now start on the nontornadic storms\n",
    "#Storms 1, 2, 3, 4, 5, 6, 7\n",
    "#Storms 5 and 6 need local files and 7 is missing a sounding\n",
    "storm_relative_dirs = np.asarray([140, 140, 220, 220, 190, 190, 160])\n",
    "zdrlevs = np.asarray([3.25, 3.25, 3.25, 3.25, 3.25, 3.25, 3.25])\n",
    "kdplevs = np.asarray([1.5, 1.5, 1.5, 1.5, 1.5, 1.5, 1.5])\n",
    "REFlevs = np.asarray([45, 45, 45, 45, 45, 45, 45])\n",
    "REFlev1s = np.asarray([50, 50, 50, 50, 50, 50, 50])\n",
    "big_storms = np.asarray([300, 300, 300, 300, 300, 300, 300])\n",
    "zero_z_triggers = np.asarray([17, 17, 17, 17, 17, 17, 17])\n",
    "storm_to_tracks = np.asarray([0, 2, 2, 1, 1, 4, 3])\n",
    "years = np.asarray([2013, 2013, 2013, 2013, 2013, 2013, 2012])\n",
    "months = np.asarray([4, 4, 5, 5, 4, 4, 4])\n",
    "days = np.asarray([27, 27, 30, 30, 22, 22, 30])\n",
    "hours = np.asarray([1, 1, 18, 18, 23, 23, 4])\n",
    "start_mins = np.asarray([0, 0, 9, 9, 20, 25, 25])\n",
    "durations = np.asarray([2.2, 3.0, 1.6, 2.3, 1.7, 1.8, 1.5])\n",
    "#calibrations = np.asarray([-0.742, -0.455, -0.279, -0.379, 0.02, -0.017, 0.224])\n",
    "h_calstm = np.asarray([3314, 3314, 3835, 3835, 2986, 2986, 3069])\n",
    "calibrations = np.asarray([-0.902011267,-0.902011267,-0.50719614,-0.50719614,-0.100394186378,-0.100394186378,-9999])\n",
    "stations = ['KTLX', 'KTLX', 'KTLX', 'KTLX', 'KVNX', 'KVNX', 'KAMA']\n",
    "localfolder = ['','','','','Storm5and6','Storm5and6','']"
   ]
  },
  {
   "cell_type": "code",
   "execution_count": null,
   "metadata": {},
   "outputs": [],
   "source": [
    "#Storms 10, 13, 14, 16, 19, 21, 23, 24\n",
    "#Storm 15 skipped since it only produces 1 very small arc object, and storm 22 skipped because it produces none\n",
    "##Storms 10 and 21 need to be redone, error is probably that zero_Z_trigger is too low\n",
    "storm_relative_dirs = np.asarray([170, 150, 160, 180, 200, 150, 180, 190])\n",
    "zdrlevs = np.asarray([3.25, 3.25, 3.25, 3.25, 3.25, 3.25, 3.25, 3.25])\n",
    "kdplevs = np.asarray([1.5, 1.5, 1.5, 1.5, 1.5, 1.5, 1.5, 1.5])\n",
    "REFlevs = np.asarray([45, 45, 45, 45, 45, 45, 47, 45])\n",
    "REFlev1s = np.asarray([50, 50, 50, 50, 50, 50, 52, 50])\n",
    "big_storms = np.asarray([300, 300, 300, 300, 300, 300, 300, 300])\n",
    "zero_z_triggers = np.asarray([25, 17, 17, 17, 17, 25, 17, 17])\n",
    "storm_to_tracks = np.asarray([1, 1, 1, 0, 4, 2, 0, 1])\n",
    "years = np.asarray([2014, 2013, 2013, 2013, 2013, 2014, 2014, 2013])\n",
    "months = np.asarray([9, 10, 3, 6, 10, 4, 5, 8])\n",
    "days = np.asarray([4, 14, 18, 17, 27, 3, 21, 6])\n",
    "hours = np.asarray([5, 19, 20, 19, 0, 2, 1, 23])\n",
    "start_mins = np.asarray([20, 38, 0, 30, 0, 0, 30, 0])\n",
    "durations = np.asarray([1.3, 0.9, 1.1, 1.2, 1.2, 1.8, 0.9, 1.1])#KBIS should be 1.3\n",
    "#calibrations = np.asarray([-0.623, 0.332, -0.0679, -0.356, -0.281, 0.113, 0.163, 0.206]) 87\n",
    "h_calstm = np.asarray([3782, 3075, 3347, 3044, 3292, 3588, 4014, 3647])\n",
    "#h_calstm = np.asarray([3650, 2050, 3200, 3950, 3000, 3075, 3700, 3400])#check freezing levels on these\n",
    "calibrations = np.asarray([-0.8593222, 0.29232981, -0.27243836,-0.33237107,-0.21629284,0.06499876,-0.07566869,-0.09450731])\n",
    "stations = ['KBIS', 'KDDC', 'KDGX', 'KDTX', 'KFWS', 'KICT', 'KLOT', 'KMPX']"
   ]
  },
  {
   "cell_type": "code",
   "execution_count": null,
   "metadata": {},
   "outputs": [],
   "source": [
    "#Storms 26, 27, 28, 29, 30, 32\n",
    "storm_relative_dirs = np.asarray([200, 160, 180, 180, 210, 160])\n",
    "zdrlevs = np.asarray([3.25, 3.25, 3.25, 3.25, 3.25, 3.25])\n",
    "kdplevs = np.asarray([1.5, 1.5, 1.5, 1.5, 1.5, 1.5])\n",
    "REFlevs = np.asarray([40, 45, 45, 45, 45, 45])\n",
    "REFlev1s = np.asarray([45, 50, 50, 50, 50, 50])\n",
    "big_storms = np.asarray([300, 300, 300, 300, 300, 300])\n",
    "zero_z_triggers = np.asarray([17, 17, 17, 17, 17, 17])\n",
    "storm_to_tracks = np.asarray([0, 0, 3, 0, 0, 0])\n",
    "years = np.asarray([2013, 2013, 2013, 2013, 2013,2014])\n",
    "months = np.asarray([4, 7, 5, 5, 7, 5])\n",
    "days = np.asarray([7, 9, 21, 25, 23, 20])\n",
    "hours = np.asarray([23, 23, 1, 21, 20, 21])\n",
    "start_mins = np.asarray([10, 20, 30, 0, 0, 0])\n",
    "durations = np.asarray([1.4, 1.0, 0.7, 1.1, 1.0, 1.0])\n",
    "#calibrations = np.asarray([-0.01, 0.095, 0.15, -0.2143, -0.415, 0.101])\n",
    "h_calstm = np.asarray([2966, 3682, 3364, 3075, 3556, 2242])\n",
    "#h_calstm = np.asarray([2950, 3250, 3500, 2850, 3500, 2100])\n",
    "calibrations = np.asarray([-0.11826437,  0.13982464,  0.10946657, -0.22040076, -0.38976698, -0.13929619])\n",
    "stations = ['KSGF', 'KABR', 'KDMX', 'KUDX', 'KUDX', 'KFTG']"
   ]
  },
  {
   "cell_type": "code",
   "execution_count": null,
   "metadata": {},
   "outputs": [],
   "source": [
    "#Re-run storms 15 and 22\n",
    "storm_relative_dirs = np.asarray([170, 130])\n",
    "zdrlevs = np.asarray([3.25, 3.25])\n",
    "kdplevs = np.asarray([1.5, 1.5])\n",
    "REFlevs = np.asarray([42, 40])\n",
    "REFlev1s = np.asarray([47, 45])\n",
    "big_storms = np.asarray([300, 300])\n",
    "zero_z_triggers = np.asarray([17, 17])\n",
    "storm_to_tracks = np.asarray([0, 2])\n",
    "years = np.asarray([2013, 2013])\n",
    "months = np.asarray([8, 7])\n",
    "days = np.asarray([13, 4])\n",
    "hours = np.asarray([12, 23])\n",
    "start_mins = np.asarray([20, 0])\n",
    "durations = np.asarray([1.0, 1.6])\n",
    "#calibrations = np.asarray([-0.122, -0.1045])\n",
    "h_calstm = np.asarray([4108,3977])\n",
    "calibrations = np.asarray([-0.31812048,  0.04635963])\n",
    "stations = ['KDIX', 'KJKL']"
   ]
  },
  {
   "cell_type": "code",
   "execution_count": null,
   "metadata": {},
   "outputs": [],
   "source": [
    "#Let's start on the CI to tornadogenesis cases, using the tm ending\n",
    "#Case 3 (7/11/17 MVX) may need a slightly lower upper Z threshold\n",
    "storm_relative_dirs = np.asarray([180, 200, 225, 190, 225, 190, 180, 190, 160, 170, 190, 165, 150])\n",
    "zdrlevs = np.asarray([3.00, 3.25, 3.25, 3.25, 3.25, 3.25, 3.25, 3.25, 3.25, 3.25, 3.25, 3.25, 3.25])\n",
    "kdplevs = np.asarray([1.5, 1.5, 1.5, 1.5, 1.5, 1.5, 1.5, 1.5, 1.5, 1.5, 1.5, 1.5, 1.5])\n",
    "#Lowering both Z thresholds for storm 1 as an experiment to see if it tracks better\n",
    "#6/13 case (index 6) changed to higher thresholds for better tracking\n",
    "REFlevs = np.asarray([40, 45, 45, 45, 45, 45, 45, 45, 45, 45, 45, 40, 45])\n",
    "REFlev1s = np.asarray([45, 50, 50, 50, 50, 50, 51, 50, 50, 50, 50, 45, 50])\n",
    "#Storm 0 and 4 big_storm thresholds changed to 3000 to fix suprious storm issues\n",
    "big_storms = np.asarray([3000, 300, 300, 300, 3000, 300, 300, 600, 300, 300, 300, 300, 300])\n",
    "zero_z_triggers = np.asarray([25, 25, 25, 25, 25, 25, 25, 25, 25, 25, 25, 25, 25])\n",
    "storm_to_tracks = np.asarray([6, 6, 6, 6, 6, 6, 6, 6, 6, 6, 6, 6, 6])\n",
    "years = np.asarray([2017, 2016, 2017, 2017, 2015, 2018, 2016, 2014, 2014, 2017, 2016, 2018, 2015])\n",
    "months = np.asarray([4, 8, 2, 7, 7, 6, 6, 6, 5, 5, 5, 5, 11])\n",
    "#days = np.asarray([2, 27, 7, 11, 14, 11, 13, 18, 11, 18, 24, 29, 16])\n",
    "#Arrays for starting each before definite CI\n",
    "days = np.asarray([2, 27, 7, 11, 13, 11, 13, 18, 11, 18, 24, 29, 16])\n",
    "hours = np.asarray([17, 19, 20, 22, 23, 21, 22, 2, 19, 17, 22, 20, 22]) #1 should be 19, 2 should be 20, 3 should be 22\n",
    "start_mins = np.asarray([0, 30, 31, 0, 30, 30, 0, 30, 30, 30, 0, 35, 0]) #1 should be 30, 2 should be 11\n",
    "durations = np.asarray([2.5, 4.1, 2.7, 3.3, 3.5, 1.7, 3.6, 2.6, 2.2, 2.7, 2.1, 2.1, 3.2])#3.3 for 711MVX, 2.6 for FSD, Should be 17:00 and 2.5 for KPOE, 2 should be 2.7\n",
    "#calibrations = np.asarray([0.0, 0.0, 0.0, 0.0, 0.0, 0.0, 0.0, 0.0, 0.0, 0.0, 0.0, 0.0, 0.0])\n",
    "#hours = np.asarray([17, 19, 20, 22, 0, 21, 22, 2, 19, 18, 22, 20, 22])\n",
    "#start_mins = np.asarray([30, 30, 30, 0, 0, 30, 0, 30, 55, 17, 18, 35, 25])\n",
    "#durations = np.asarray([2.0, 2.1, 2.2, 3.3, 3.0, 1.7, 3.6, 2.6, 1.7, 1.9, 1.5, 2.1, 2.7])\n",
    "h_calstm = np.asarray([4222, 2814, 3262, 3879, 4322, 4337, -9999, 4239, -9999, 3996, 3622, 3607, 2836])\n",
    "calibrations = np.asarray([0.24654077,-0.29092033,-0.04043363,-0.40814037,0.01141649,-0.10784184, -9999, -0.37320317, -9999, 0.12815689,-0.11664482,0.13532972,-0.00115097])\n",
    "stations = ['KPOE', 'KMVX', 'KDGX', 'KMVX', 'KIND', 'KOAX', 'KAMA', 'KFSD', 'KUEX', 'KFDR', 'KDDC', 'KDDC', 'KAMA']"
   ]
  },
  {
   "cell_type": "code",
   "execution_count": null,
   "metadata": {},
   "outputs": [],
   "source": [
    "#Loses track of KTLX storm twice\n",
    "storm_relative_dirs = np.asarray([180, 155, 180, 120, 130])\n",
    "zdrlevs = np.asarray([3.25, 3.25, 3.25, 3.25, 3.25])\n",
    "kdplevs = np.asarray([1.5, 1.5, 1.5, 1.5, 1.5])\n",
    "REFlevs = np.asarray([45, 45, 45, 45, 45])\n",
    "REFlev1s = np.asarray([50, 50, 50, 50, 50])\n",
    "big_storms = np.asarray([300, 300, 300, 300, 300])\n",
    "zero_z_triggers = np.asarray([25, 25, 25, 25, 25])\n",
    "storm_to_tracks = np.asarray([6, 6, 6, 6, 6])\n",
    "years = np.asarray([2015, 2016, 2018, 2016, 2017])\n",
    "months = np.asarray([5, 3, 10, 5, 3])\n",
    "days = np.asarray([6, 30, 13, 9, 28])\n",
    "hours = np.asarray([20, 23, 11, 20, 18])\n",
    "start_mins = np.asarray([30, 0, 30, 30, 0])\n",
    "durations = np.asarray([1.0, 2.5, 2.6, 3.0, 2.5])#) should be 2.7\n",
    "#calibrations = np.asarray([0.0, 0.0, 0.0, 0.0, 0.0])\n",
    "calibrations = np.asarray([-0.52033732,  0.02887196,  0.00513626, -0.23103036, -0.25405067])\n",
    "h_calstm = np.asarray([3543, 3329, 3696, 3043, 3326])\n",
    "stations = ['KTLX', 'KINX', 'KSJT', 'KOAX', 'KLBB']"
   ]
  },
  {
   "cell_type": "code",
   "execution_count": null,
   "metadata": {},
   "outputs": [],
   "source": [
    "#2015 cases that need the local radar files\n",
    "storm_relative_dirs = np.asarray([260, 190, 180, 140, 190])\n",
    "zdrlevs = np.asarray([3.25, 3.25, 3.25, 3.25, 3.25])\n",
    "kdplevs = np.asarray([1.5, 1.5, 1.5, 1.5, 1.5])\n",
    "REFlevs = np.asarray([45, 45, 45, 43, 45])\n",
    "REFlev1s = np.asarray([50, 48, 50, 48, 50])\n",
    "big_storms = np.asarray([300, 300, 300, 300, 300])\n",
    "zero_z_triggers = np.asarray([25, 25, 25, 25, 25])\n",
    "storm_to_tracks = np.asarray([6, 6, 6, 6, 6])\n",
    "years = np.asarray([2015, 2015, 2015, 2015, 2015])\n",
    "months = np.asarray([6, 6, 5, 5, 5])\n",
    "days = np.asarray([27, 23, 6, 9, 27])\n",
    "hours = np.asarray([21, 20, 20, 21, 19])\n",
    "start_mins = np.asarray([0, 30, 30, 0, 0])\n",
    "durations = np.asarray([3.0, 2.1, 2.6, 2.1, 2.6])\n",
    "#calibrations = np.asarray([0.0, 0.0, 0.0, 0.0, 0.0])\n",
    "calibrations = np.asarray([-0.33430473,  0.06680731,  0.04059035,  0.18540907, -0.01869792])\n",
    "stations = ['KMVX', 'KDVN', 'KVNX', 'KFDR', 'KDDC']\n",
    "localfolder = ['June27MVX','June22DVN','May6VNX','May9FDR','May27DDC']"
   ]
  },
  {
   "cell_type": "code",
   "execution_count": null,
   "metadata": {},
   "outputs": [],
   "source": [
    "#Arrays for nontornadic storms\n",
    "#May need to rerun 0, 6\n",
    "#indices 2 and 4 now produce memoryerrors\n",
    "storm_relative_dirs = np.asarray([180, 190, 190, 220, 180, 220, 170, 170, 160])\n",
    "zdrlevs = np.asarray([3.25, 3.25, 3.25, 3.25, 3.25, 3.25, 3.25, 3.25, 3.25])\n",
    "kdplevs = np.asarray([1.5, 1.5, 1.5, 1.5, 1.5, 1.5, 1.5, 1.5, 1.5])\n",
    "REFlevs = np.asarray([45, 45, 45, 45, 45, 45, 45, 45, 45])\n",
    "REFlev1s = np.asarray([50, 50, 50, 50, 50, 50, 50, 50, 50])\n",
    "big_storms = np.asarray([300, 300, 300, 300, 300, 300, 300, 300, 300])\n",
    "zero_z_triggers = np.asarray([25, 25, 25, 25, 25, 25, 25, 25, 25])\n",
    "storm_to_tracks = np.asarray([2, 2, 2, 2, 2, 2, 2, 2, 2])\n",
    "years = np.asarray([2018, 2018, 2018, 2017, 2016, 2017, 2018, 2016, 2016])\n",
    "months = np.asarray([5, 5, 7, 7, 7, 8, 5, 1, 1])\n",
    "days = np.asarray([1, 1, 2, 7, 18, 12, 19, 8, 21])\n",
    "hours = np.asarray([19, 21, 22, 23, 19, 19, 23, 23, 21])\n",
    "start_mins = np.asarray([30, 30, 0, 40, 30, 30, 0, 0, 0])\n",
    "durations = np.asarray([3.2, 1.6, 4.5, 2.3, 4.5, 4.4, 3.5, 3.0, 1.5])\n",
    "#calibrations = np.asarray([0.0, 0.0, 0.0, 0.0, 0.0, 0.0, 0.0, 0.0, 0.0])\n",
    "h_calstm = np.asarray([3523, 3581, 4094, 3731, 3470, 3491, -9999, 3236, 2828])\n",
    "calibrations = np.asarray([-0.44381133,  0.23969144, -0.50558182, -0.4124405,  -0.08722788, -0.09027468, -9999, -0.20789162, -0.06548173])\n",
    "stations = ['KUEX', 'KDDC', 'KLNX', 'KGLD', 'KUDX', 'KLNX', 'KLBB', 'KHGX', 'KDGX']"
   ]
  },
  {
   "cell_type": "code",
   "execution_count": null,
   "metadata": {},
   "outputs": [],
   "source": [
    "#Arrays for 2015 nontor cases\n",
    "#indices 2, ... will need 2015 local files\n",
    "storm_relative_dirs = np.asarray([150, 215, 210, 190, 190, 200, 140])\n",
    "zdrlevs = np.asarray([3.25, 3.25, 3.25, 3.25, 3.25, 3.25, 3.25])\n",
    "kdplevs = np.asarray([1.5, 1.5, 1.5, 1.5, 1.5, 1.5, 1.5])\n",
    "REFlevs = np.asarray([45, 45, 45, 45, 45, 45, 45])\n",
    "REFlev1s = np.asarray([50, 50, 50, 50, 50, 50, 50])\n",
    "big_storms = np.asarray([300, 300, 300, 300, 300, 300, 300])\n",
    "zero_z_triggers = np.asarray([25, 25, 25, 25, 25, 25, 25])\n",
    "storm_to_tracks = np.asarray([2, 2, 2, 2, 2, 2, 2])\n",
    "years = np.asarray([2015, 2015, 2015, 2015, 2015, 2015, 2015])\n",
    "months = np.asarray([5, 6, 7, 8, 4, 5, 9])\n",
    "days = np.asarray([8, 3, 13, 4, 11, 27, 18])\n",
    "hours = np.asarray([19, 23, 21, 18, 21, 20, 12])\n",
    "start_mins = np.asarray([0, 0, 0, 0, 0, 0, 30])\n",
    "durations = np.asarray([1.5, 3.5, 2.5, 2.0, 4.0, 2.8, 1.6])#DDC should be 3.5\n",
    "#calibrations = np.asarray([0.0, 0.0, 0.0, 0.0, 0.0, 0.0, 0.0, 0.0])\n",
    "h_calstm = np.asarray([3564, -9999, 4304, -9999, -9999, 3134, 3995])\n",
    "calibrations = np.asarray([-0.71047751, -9999, 0.0557052622239, -9999, -9999,  0.10558389, -0.34540444])\n",
    "stations = ['KLBB', 'KDDC', 'KDVN', 'KGLD', 'KAMA', 'KAMA', 'KUEX']\n",
    "localfolder = ['','','July13DVN','','','','']"
   ]
  },
  {
   "cell_type": "code",
   "execution_count": null,
   "metadata": {},
   "outputs": [],
   "source": [
    "#Array for KUEX 8/9/14 nontornadic cycling case\n",
    "storm_relative_dirs = np.asarray([195])\n",
    "zdrlevs = np.asarray([3.25])\n",
    "kdplevs = np.asarray([1.5])\n",
    "REFlevs = np.asarray([46])\n",
    "REFlev1s = np.asarray([51])\n",
    "big_storms = np.asarray([300])\n",
    "zero_z_triggers = np.asarray([25])\n",
    "storm_to_tracks = np.asarray([2])\n",
    "years = np.asarray([2014])\n",
    "months = np.asarray([8])\n",
    "days = np.asarray([9])\n",
    "hours = np.asarray([23])\n",
    "start_mins = np.asarray([30])\n",
    "durations = np.asarray([2.0])\n",
    "h_calstm = np.asarray([4206])\n",
    "calibrations = np.asarray([-0.239268128574])\n",
    "stations = ['KUEX']"
   ]
  },
  {
   "cell_type": "code",
   "execution_count": null,
   "metadata": {},
   "outputs": [],
   "source": [
    "#Setting up arrays for new tornadic supercells\n",
    "storm_relative_dirs = np.asarray([190, 165, 160, 180, 185, 130, 210])\n",
    "zdrlevs = np.asarray([3.25, 3.25, 3.25, 3.25, 3.25, 3.25, 3.25])\n",
    "kdplevs = np.asarray([1.5, 1.5, 1.5, 1.5, 1.5, 1.5, 1.5])\n",
    "REFlevs = np.asarray([35, 45, 45, 45, 45, 40, 35])\n",
    "REFlev1s = np.asarray([40, 50, 50, 50, 50, 45, 40])\n",
    "big_storms = np.asarray([300, 300, 300, 300, 300, 300, 300])\n",
    "zero_z_triggers = np.asarray([25, 25, 25, 25, 25, 25, 25])\n",
    "storm_to_tracks = np.asarray([2, 2, 2, 2, 2, 2, 2])\n",
    "years = np.asarray([2016, 2016, 2017, 2016, 2016, 2015, 2014])\n",
    "months = np.asarray([5, 11, 10, 3, 11, 12, 9])\n",
    "days = np.asarray([10, 29, 21, 31, 30, 25, 10])\n",
    "hours = np.asarray([19, 20, 21, 22, 0, 21, 20])\n",
    "start_mins = np.asarray([0, 30, 0, 0, 40, 0, 0])\n",
    "durations = np.asarray([2.0, 2.6, 2.6, 3.0, 1.3, 2.6, 2.5])\n",
    "#calibrations = np.asarray([0.0, 0.0, 0.0, 0.0, 0.0, 0.0, 0.0])\n",
    "calibrations = np.asarray([-0.1070254,  -0.12881671, -0.13162509,  0.1080139,  -0.01120928,  0.24232373, -0.0229002])\n",
    "h_calstm = np.asarray([3606, 3932, 3722, 3689, 3616, 4002, 4058])\n",
    "stations = ['KPAH', 'KDGX', 'KFDR', 'KGWX', 'KGWX', 'KBMX', 'KCLE']"
   ]
  },
  {
   "cell_type": "code",
   "execution_count": null,
   "metadata": {},
   "outputs": [],
   "source": [
    "#Array for new nontornadic cases\n",
    "storm_relative_dirs = np.asarray([185, 185, 150, 165])\n",
    "zdrlevs = np.asarray([3.25, 3.25, 3.25, 3.25])\n",
    "kdplevs = np.asarray([1.5, 1.5, 1.5, 1.5])\n",
    "REFlevs = np.asarray([45, 45, 42, 45])\n",
    "REFlev1s = np.asarray([50, 50, 47, 50])\n",
    "big_storms = np.asarray([300, 300, 300, 300])\n",
    "zero_z_triggers = np.asarray([25, 25, 25, 25])\n",
    "storm_to_tracks = np.asarray([2, 2, 2, 2])\n",
    "years = np.asarray([2018, 2016, 2016, 2016])\n",
    "months = np.asarray([5, 5, 4, 4])\n",
    "days = np.asarray([14, 24, 10, 11])\n",
    "hours = np.asarray([19, 0, 20, 0])\n",
    "start_mins = np.asarray([30, 30, 30, 30])\n",
    "durations = np.asarray([3.0, 3.5, 2.6, 3.0])\n",
    "#calibrations = np.asarray([0.0, 0.0, 0.0, 0.0])\n",
    "h_calstm = np.asarray([3856, 3607, 3213, 3571])\n",
    "calibrations = np.asarray([-0.30550674, -0.12547699, -0.05773242, -0.15629388])\n",
    "h_calstm = np.asarray([3856, 3607, 3213, 3571])\n",
    "stations = ['KSJT', 'KUEX', 'KLBB', 'KFDR']"
   ]
  },
  {
   "cell_type": "code",
   "execution_count": null,
   "metadata": {},
   "outputs": [],
   "source": [
    "#Last array for new cases (NOT all including CI)\n",
    "storm_relative_dirs = np.asarray([165, 170, 155, 145, 175, 200, 185, 170])\n",
    "zdrlevs = np.asarray([3.25, 3.25, 3.25, 3.25, 3.25, 3.25, 3.25, 3.25])\n",
    "kdplevs = np.asarray([1.5, 1.5, 1.5, 1.5, 1.5, 1.5, 1.5, 1.5])\n",
    "REFlevs = np.asarray([45, 45, 45, 45, 45, 45, 45, 45])\n",
    "REFlev1s = np.asarray([50, 50, 50, 50, 50, 50, 50, 50])\n",
    "big_storms = np.asarray([300, 300, 300, 300, 300, 300, 300, 300])\n",
    "zero_z_triggers = np.asarray([25,25,25,25,25,25,25,25])\n",
    "storm_to_tracks = np.asarray([2,2,2,2,2,2,2,2])\n",
    "years = np.asarray([2015, 2016, 2017, 2018, 2015, 2019, 2019, 2019])\n",
    "months = np.asarray([5, 3, 2, 12, 6, 3, 3, 3])\n",
    "days = np.asarray([16, 16, 28, 1, 20, 3, 23, 14])\n",
    "hours = np.asarray([21, 0, 21, 22, 2, 19, 22, 23])\n",
    "start_mins = np.asarray([50, 0, 0, 0, 30, 0, 0, 0])\n",
    "#h_calstm = [0,0,0,0,0,3269,2905,3959]\n",
    "h_calstm = np.asarray([3791, 3143, 2661, 2299, 3919, 3269, 2905, 3959])\n",
    "durations = np.asarray([2.0, 2.0, 2.0, 2.0, 1.5, 1.5, 2.0, 3.0])#KMXX 1.5\n",
    "calibrations = np.asarray([-0.065252547, -0.241651445, -0.076593783, -0.016421991, -0.535985114, -0.282475955, -0.247420073, -0.328112491])\n",
    "stations = ['KFDR', 'KILX', 'KDVN', 'KILX', 'KUDX', 'KMXX', 'KTLX', 'KBMX']\n",
    "localfolder = ['Elmer','','','','','','','']"
   ]
  },
  {
   "cell_type": "code",
   "execution_count": 2,
   "metadata": {},
   "outputs": [],
   "source": [
    "#Arrays for environmental variability tor cases\n",
    "#Don't run 1, 2, 4, 5, 7\n",
    "#Arrays for environmental variability tor cases\n",
    "storm_relative_dirs = np.asarray([180, 215, 205, 190, 120, 165, 190, 190, 180, 220])\n",
    "zdrlevs = np.asarray([3.25, 3.25, 3.25, 3.25, 3.25, 3.25, 3.25, 3.25, 3.25, 3.25])\n",
    "kdplevs = np.asarray([1.5, 1.5, 1.5, 1.5, 1.5, 1.5, 1.5, 1.5, 1.5, 1.5])\n",
    "REFlevs = np.asarray([45, 45, 45, 43, 45, 45, 45, 45, 45, 45])\n",
    "REFlev1s = np.asarray([50, 50, 50, 48, 50, 50, 50, 50, 50, 50])\n",
    "big_storms = np.asarray([300, 300, 300, 300, 300, 300, 300, 300, 300, 300])\n",
    "zero_z_triggers = np.asarray([25, 25, 25, 25, 25, 25, 25, 25, 25, 25])\n",
    "storm_to_tracks = np.asarray([2, 2, 2, 2, 2, 2, 2, 2, 2, 2])\n",
    "years = np.asarray([2012, 2013, 2013, 2013, 2013, 2013, 2012, 2013, 2012, 2012])\n",
    "months = np.asarray([4, 5, 5, 4, 4, 4, 2, 5, 3, 5])\n",
    "days = np.asarray([15, 17, 20, 18, 11, 9, 29, 23, 2, 30])\n",
    "hours = np.asarray([0, 23, 21, 0, 23, 2, 0, 19, 21, 22])\n",
    "start_mins = np.asarray([30, 30, 0, 30, 30, 0, 0, 0, 0, 15])\n",
    "durations = np.asarray([1.6, 1.6, 2.2, 1.6, 1.5, 1.1, 1.0, 1.6, 2.6, 2.8])\n",
    "#calibrations = np.asarray([0.04, -0.10, -0.14, 0.38, -0.09, -0.14, 0.07, -0.22, 0.12, -0.23])\n",
    "h_calstm = np.asarray([4450, 5300, 4950, 5400, 5550, 4025, 4325, 4800, 4400, 5425])-1500\n",
    "calibrations = np.asarray([ 0.14438501,-0.01733875,-0.09234088,0.05243196,-0.12549855,-0.44892982,0.09709701,-0.2125953,0.06406146,-0.36826425])\n",
    "stations = ['KDDC', 'KDYX', 'KDYX', 'KFDR', 'KFFC', 'KGLD', 'KICT', 'KLBB', 'KOHX', 'KSJT']"
   ]
  },
  {
   "cell_type": "code",
   "execution_count": 5,
   "metadata": {},
   "outputs": [],
   "source": [
    "#Next array for env var tor cases\n",
    "#Dont run 1,5,6,8,10\n",
    "storm_relative_dirs = np.asarray([145, 180, 170, 195, 170, 180, 125, 170, 175, 140, 120])\n",
    "zdrlevs = np.asarray([3.25, 3.25, 3.25, 3.25, 3.25, 3.25, 3.25, 3.25, 3.25, 3.25, 3.25])\n",
    "kdplevs = np.asarray([1.5, 1.5, 1.5, 1.5, 1.5, 1.5, 1.5, 1.5, 1.5, 1.5, 1.5])\n",
    "REFlevs = np.asarray([45, 45, 45, 45, 45, 47, 45, 45, 45, 45, 45])\n",
    "REFlev1s = np.asarray([50, 50, 50, 50, 50, 52, 50, 50, 50, 50, 50])\n",
    "big_storms = np.asarray([300, 300, 300, 300, 300, 300, 300, 300, 300, 300, 300])\n",
    "zero_z_triggers = np.asarray([25, 25, 25, 25, 25, 25, 25, 25, 25, 25, 25])\n",
    "storm_to_tracks = np.asarray([2, 2, 2, 2, 2, 2, 2, 2, 2, 2, 2])\n",
    "years = np.asarray([2013, 2013, 2013, 2013, 2012, 2013, 2013, 2013, 2014, 2013, 2013])\n",
    "months = np.asarray([1, 2, 4, 5, 2, 5, 6, 7, 7, 6, 6])\n",
    "days = np.asarray([29, 25, 14, 20, 29, 27, 6, 9, 7, 4, 27])\n",
    "hours = np.asarray([20, 18, 19, 19, 1, 22, 11, 20, 2, 18, 18])\n",
    "start_mins = np.asarray([30, 0, 30, 0, 30, 15, 45, 0, 30, 0, 0])\n",
    "durations = np.asarray([1.0, 1.0, 1.0, 2.0, 1.5, 2.7, 1.0, 1.0, 2.2, 2.0, 1.0])\n",
    "#calibrations = np.asarray([-0.52, -0.10, 0.0, -0.24, 0.21, -0.01, -0.12, -0.36, -0.40, -0.21, 0.04])\n",
    "h_calstm = np.asarray([4700, 4900, 5300, 5100, 4450, 5275, 5575, 4575, 5300, 5575, 5475])-1500\n",
    "calibrations = np.asarray([-0.34449871,0.04987141,-0.09060952,-0.53722918,0.07064053,-0.13477933,0.09973725,-0.22293442,-0.38307349,-0.05275349,0.16399596])\n",
    "stations = ['KSRX', 'KTLH', 'KTLH', 'KTLX', 'KTWX', 'KUEX', 'KAMX', 'KBIS', 'KBIS', 'KCAE', 'KCCX']"
   ]
  },
  {
   "cell_type": "code",
   "execution_count": 7,
   "metadata": {},
   "outputs": [],
   "source": [
    "#More env var tor cases\n",
    "#don't run 1,3,4,6,9\n",
    "storm_relative_dirs = np.asarray([205, 150, 110, 190, 215, 165, 75, 150, 170, 135])\n",
    "zdrlevs = np.asarray([3.25, 3.25, 3.25, 3.25, 3.25, 3.25, 3.25, 3.25, 3.25, 3.25])\n",
    "kdplevs = np.asarray([1.5, 1.5, 1.5, 1.5, 1.5, 1.5, 1.5, 1.5, 1.5, 1.5])\n",
    "REFlevs = np.asarray([45, 45, 35, 45, 45, 45, 45, 45, 45, 45])\n",
    "REFlev1s = np.asarray([50, 50, 40, 50, 50, 50, 50, 50, 50, 50])\n",
    "big_storms = np.asarray([300, 300, 300, 300, 300, 300, 300, 300, 300, 300])\n",
    "zero_z_triggers = np.asarray([25, 25, 25, 25, 25, 25, 25, 25, 25, 25])\n",
    "storm_to_tracks = np.asarray([2, 2, 2, 2, 2, 2, 2, 2, 2, 2])\n",
    "years = np.asarray([2013, 2013, 2013, 2013, 2013, 2013, 2013, 2013, 2013, 2013])\n",
    "months = np.asarray([8, 6, 8, 7, 6, 6, 7, 11, 6, 6])\n",
    "days = np.asarray([7, 22, 18, 15, 17, 2, 7, 17, 12, 13])\n",
    "hours = np.asarray([18, 21, 23, 21, 22, 19, 0, 16, 21, 18])\n",
    "start_mins = np.asarray([0, 0, 0, 0, 0, 30, 0, 30, 0, 30])\n",
    "durations = np.asarray([2.0, 1.1, 1.1, 1.1, 1.5, 1.1, 1.0, 1.1, 1.0, 0.6])\n",
    "h_calstm = np.asarray([5350, 3900, 5700, 5000, 4100, 5400, 5350, 4200, 5600, 5450])-1500\n",
    "#calibrations = np.asarray([-0.20, -0.04, -0.42, -0.39, -0.40, -0.54, -0.45, -0.06, 0.06, 0.03])\n",
    "calibrations = np.asarray([-0.08850059,-0.0138818,0.03303496,-0.74955061,-0.40869113,-0.33007224,-0.13974519,-0.16262346,-0.05938777,-0.04589936])\n",
    "stations = ['KCLE', 'KCYS', 'KFFC', 'KGGW', 'KGLD', 'KGSP', 'KHPX', 'KILX', 'KLOT', 'KLWX']"
   ]
  },
  {
   "cell_type": "code",
   "execution_count": 9,
   "metadata": {},
   "outputs": [],
   "source": [
    "#Last array for env var tor cases\n",
    "#all ok?\n",
    "storm_relative_dirs = np.asarray([125, 140, 220, 170, 180])\n",
    "zdrlevs = np.asarray([3.25, 3.25, 3.25, 3.25, 3.25, 3.25, 3.25, 3.25, 3.25, 3.25])\n",
    "kdplevs = np.asarray([1.5, 1.5, 1.5, 1.5, 1.5, 1.5, 1.5, 1.5, 1.5, 1.5])\n",
    "REFlevs = np.asarray([30, 45, 45, 45, 45, 45, 45, 45, 45, 45])\n",
    "REFlev1s = np.asarray([35, 50, 50, 50, 50, 50, 50, 50, 50, 50])\n",
    "big_storms = np.asarray([300, 300, 300, 300, 300, 300, 300, 300, 300, 300])\n",
    "zero_z_triggers = np.asarray([25, 25, 25, 25, 25, 25, 25, 25, 25, 25])\n",
    "storm_to_tracks = np.asarray([2, 2, 2, 2, 2, 2, 2, 2, 2, 2])\n",
    "years = np.asarray([2013, 2013, 2013, 2013, 2013])\n",
    "months = np.asarray([7, 12, 7, 10, 11])\n",
    "days = np.asarray([1, 21, 21, 4, 17])\n",
    "hours = np.asarray([23, 0, 22, 3, 19])\n",
    "start_mins = np.asarray([0, 0, 30, 0, 0])\n",
    "durations = np.asarray([1.0, 1.0, 1.6, 1.0, 1.0])\n",
    "#calibrations = np.asarray([0.09, -0.23, 0.12, -0.38, -0.06])\n",
    "h_calstm = np.asarray([5700, 5150, 5600, 5200, 4600])-1500\n",
    "calibrations = np.asarray([0.26853497, -0.10508618, -0.04983709, -0.45382416, -0.00231145])\n",
    "stations = ['KLWX', 'KLZK', 'KMBX', 'KOAX', 'KPAH']"
   ]
  },
  {
   "cell_type": "code",
   "execution_count": 11,
   "metadata": {},
   "outputs": [],
   "source": [
    "#Starting nontor env variability cases\n",
    "#Get rid of indices 5, 10, 11\n",
    "storm_relative_dirs = np.asarray([150, 140, 165, 170, 130, 170, 180, 170, 180, 125, 160, 150])\n",
    "zdrlevs = np.asarray([3.25, 3.25, 3.25, 3.25, 3.25, 3.25, 3.25, 3.25, 3.25, 3.25, 3.25, 3.25])\n",
    "kdplevs = np.asarray([1.5, 1.5, 1.5, 1.5, 1.5, 1.5, 1.5, 1.5, 1.5, 1.5, 1.5, 1.5])\n",
    "REFlevs = np.asarray([45, 45, 45, 45, 45, 45, 45, 45, 45, 45, 45, 45])\n",
    "REFlev1s = np.asarray([50, 50, 50, 50, 50, 50, 50, 50, 50, 50, 50, 50])\n",
    "big_storms = np.asarray([300, 300, 300, 300, 300, 300, 300, 300, 300, 300, 300, 300])\n",
    "zero_z_triggers = np.asarray([25, 25, 25, 25, 25, 25, 25, 25, 25, 25, 25, 25])\n",
    "storm_to_tracks = np.asarray([2, 2, 2, 2, 2, 2, 2, 2, 2, 2, 2, 2])\n",
    "years = np.asarray([2013, 2012, 2014, 2014, 2014, 2013, 2013, 2014, 2013, 2014, 2013, 2012])\n",
    "months = np.asarray([8, 4, 7, 3, 7, 2, 5, 5, 6, 4, 3, 4])\n",
    "days = np.asarray([10, 29, 7, 15, 3, 10, 10, 21, 17, 29, 20, 28])\n",
    "hours = np.asarray([18, 8, 20, 21, 19, 8, 2, 1, 19, 19, 7, 22])\n",
    "start_mins = np.asarray([0, 0, 30, 0, 30, 0, 0, 30, 30, 30, 0, 30])\n",
    "durations = np.asarray([1.0, 1.0, 1.6, 1.5, 1.7, 1.1, 1.1, 1.8, 2.3, 2.0, 1.0, 1.5])\n",
    "#calibrations = np.asarray([-0.05, -0.03, -0.36, -0.24, -0.11, -0.14, -0.31, -0.33, -0.57, 0.08, 0.20, 0.29])\n",
    "h_calstm = np.asarray([5900, 5000, 5500, 3800, 5500, 4700, 5300, 4000, 4475, 3600, 4800, 5200])-1500\n",
    "calibrations = np.asarray([-0.03755074,-0.02629698,-0.33006383,-0.22271409,-0.1494719,-0.2057301,-0.28715707,-0.24579403,-0.54047477,-0.01852107,-0.00469297,-0.07877997])\n",
    "stations = ['KAKQ', 'KAMA', 'KBOX', 'KDYX', 'KENX', 'KEWX', 'KEWX', 'KGLD', 'KGRB', 'KGRR', 'KHGX', 'KLSX']"
   ]
  },
  {
   "cell_type": "code",
   "execution_count": null,
   "metadata": {},
   "outputs": [],
   "source": [
    "#Starting new cases collected in 2019\n",
    "#One skipped detection on 3 might be worth rerunning tracking for\n",
    "storm_relative_dirs = np.asarray([115, 150, 150, 175, 200, 115])\n",
    "zdrlevs = np.asarray([3.25, 3.25, 3.25, 3.25, 3.25, 3.25])\n",
    "kdplevs = np.asarray([1.5, 1.5, 1.5, 1.5, 1.5, 1.5])\n",
    "REFlevs = np.asarray([45, 45, 45, 45, 45, 45])\n",
    "REFlev1s = np.asarray([50, 50, 50, 50, 50, 50])\n",
    "big_storms = np.asarray([300, 300, 300, 300, 300, 300])\n",
    "zero_z_triggers = np.asarray([25, 25, 25, 25, 25, 25])\n",
    "storm_to_tracks = np.asarray([2, 2, 2, 2, 2, 2])\n",
    "years = np.asarray([2014, 2016, 2017, 2017, 2018, 2018])\n",
    "months = np.asarray([5, 11, 1, 1, 5, 5])\n",
    "days = np.asarray([21, 27, 21, 21, 14, 31])\n",
    "hours = np.asarray([19, 22, 22, 23, 22, 20])\n",
    "start_mins = np.asarray([0, 0, 0, 0, 0, 30])\n",
    "durations = np.asarray([2.1, 1.6, 2.1, 2.1, 2.1, 2.6])\n",
    "#calibrationstm = np.asarray([0.0])\n",
    "stations = ['KFTG', 'KUEX', 'KSHV', 'KPOE', 'KICT', 'KSFX']\n",
    "h_calstm = np.asarray([2587, 2227, 2999, 3259, 4099, 2300])\n",
    "calibrations = np.asarray([-0.201346984,0.084549832,0.010542098,0.258184749,-0.012327199,-0.104307122])"
   ]
  },
  {
   "cell_type": "code",
   "execution_count": null,
   "metadata": {},
   "outputs": [],
   "source": [
    "#Rerun 0,1,2,3--update: these have been run\n",
    "#Some duplicates/qc issues exist for 5\n",
    "storm_relative_dirs = np.asarray([160, 120, 180, 155, 160, 180])\n",
    "zdrlevs = np.asarray([3.25, 3.25, 3.25, 3.25, 3.25, 3.25])\n",
    "kdplevs = np.asarray([1.5, 1.5, 1.5, 1.5, 1.5, 1.5])\n",
    "REFlevs = np.asarray([43, 40, 40, 40, 40, 45])\n",
    "REFlev1s = np.asarray([48, 45, 45, 45, 45, 50])\n",
    "big_storms = np.asarray([10000, 300, 300, 300, 300, 300])\n",
    "zero_z_triggers = np.asarray([25, 25, 25, 25, 25, 25])\n",
    "storm_to_tracks = np.asarray([2, 2, 2, 2, 2, 2])\n",
    "years = np.asarray([2019, 2019, 2019, 2019, 2019, 2019])\n",
    "months = np.asarray([4, 4, 4, 5, 4, 5])\n",
    "days = np.asarray([13, 14, 30, 1, 30, 5])\n",
    "hours = np.asarray([14, 18, 18, 0, 20, 21])\n",
    "start_mins = np.asarray([0, 0, 0, 0, 30, 0])\n",
    "durations = np.asarray([2.1, 1.6, 3.1, 2.1, 2.6, 3.1])\n",
    "#calibrationstm = np.asarray([0.0])\n",
    "stations = ['KGRK', 'KILN', 'KINX', 'KSGF', 'KFDR', 'KLBB']\n",
    "h_calstm = np.asarray([3940, 2971, 4009, 3682, 4167, 3223])\n",
    "calibrations = np.asarray([-0.345184658,-0.141269421,-0.007423393,0.020613763,-0.34237761,-0.160463976])"
   ]
  },
  {
   "cell_type": "code",
   "execution_count": null,
   "metadata": {},
   "outputs": [],
   "source": [
    "#Rerun 1, 2, 3-successfully rerun\n",
    "#0 has some duplicate/qc issues\n",
    "storm_relative_dirs = np.asarray([225, 210, 180, 155, 180, 185])\n",
    "zdrlevs = np.asarray([3.25, 3.25, 3.25, 3.25, 3.25, 3.25])\n",
    "kdplevs = np.asarray([1.5, 1.5, 1.5, 1.5, 1.5, 1.5])\n",
    "REFlevs = np.asarray([45, 45, 45, 45, 45, 45])\n",
    "REFlev1s = np.asarray([50, 50, 50, 50, 50, 50])\n",
    "big_storms = np.asarray([300, 300, 300, 300, 300, 300])\n",
    "zero_z_triggers = np.asarray([25, 25, 25, 25, 25, 25])\n",
    "storm_to_tracks = np.asarray([2, 2, 2, 2, 2, 2])\n",
    "years = np.asarray([2019, 2019, 2019, 2019, 2019, 2019])\n",
    "months = np.asarray([5, 5, 5, 5, 5, 5])\n",
    "days = np.asarray([5, 6, 7, 18, 18, 18])\n",
    "hours = np.asarray([21, 0, 20, 0, 5, 10])\n",
    "start_mins = np.asarray([0, 0, 0, 30, 30, 0])\n",
    "durations = np.asarray([4.1, 3.1, 2.1, 3.1, 2.6, 1.6])\n",
    "#calibrationstm = np.asarray([0.0])\n",
    "stations = ['KDDC', 'KICT', 'KLBB', 'KDDC', 'KSJT', 'KDYX']\n",
    "h_calstm = np.asarray([3191, 3280, 3229, 3508, 3809, 3695])\n",
    "calibrations = np.asarray([-0.054343798,-0.03147713,-0.094012759,0.115299988,-0.138308572,0.011225569])"
   ]
  },
  {
   "cell_type": "code",
   "execution_count": null,
   "metadata": {},
   "outputs": [],
   "source": [
    "#rerun 0, 1 w/ better tracking--update: 0 is good, 1 needs smaller tracking radius?\n",
    "#2 has 1 duplicate storm 0 that should be manually removed, rerun it anyway--has been rerun\n",
    "#5 will need two tracks merged\n",
    "storm_relative_dirs = np.asarray([170, 135, 185, 195, 155, 160])\n",
    "zdrlevs = np.asarray([3.25, 3.25, 3.25, 3.25, 3.25, 3.25])\n",
    "kdplevs = np.asarray([1.5, 1.5, 1.5, 1.5, 1.5, 1.5])\n",
    "REFlevs = np.asarray([40, 40, 45, 45, 45, 45])\n",
    "REFlev1s = np.asarray([45, 45, 50, 50, 50, 50])\n",
    "big_storms = np.asarray([300, 300, 300, 300, 300, 300])\n",
    "zero_z_triggers = np.asarray([25, 25, 25, 25, 25, 25])\n",
    "storm_to_tracks = np.asarray([2, 2, 2, 2, 2, 2])\n",
    "years = np.asarray([2019, 2019, 2019, 2019, 2019, 2019])\n",
    "months = np.asarray([5, 5, 5, 5, 5, 5])\n",
    "days = np.asarray([20, 21, 23, 23, 24, 25])\n",
    "hours = np.asarray([19, 22, 1, 1, 18, 21])\n",
    "start_mins = np.asarray([30, 30, 0, 30, 0, 0])\n",
    "durations = np.asarray([1.5, 1.6, 2.1, 1.6, 2.1, 2.1])\n",
    "#calibrationstm = np.asarray([0.0])\n",
    "stations = ['KTLX', 'KTWX', 'KINX', 'KSGF', 'KILX', 'KLBB']\n",
    "h_calstm = np.asarray([4152, 2864, 4237, 4090, 4230, 3694])\n",
    "calibrations = np.asarray([-0.214722048,0.053339201,-0.094625008,0.141795146,0.050397762,-0.074167319])"
   ]
  },
  {
   "cell_type": "code",
   "execution_count": null,
   "metadata": {},
   "outputs": [],
   "source": [
    "#Redo tracking on 2, look into errors on 4, run 5 and 6 for first time-update : all except 4 ok, 4 may need to be tossed\n",
    "#due to tracking issues\n",
    "#Weird jump from 3:09 to 3:20 on 0\n",
    "storm_relative_dirs = np.asarray([230, 225, 180, 165, 175, 245, 155])\n",
    "zdrlevs = np.asarray([3.25, 3.25, 3.25, 3.25, 3.25, 3.25, 3.25])\n",
    "kdplevs = np.asarray([1.5, 1.5, 1.5, 1.5, 1.5, 1.5, 1.5])\n",
    "REFlevs = np.asarray([45, 45, 45, 45, 42, 45, 45])\n",
    "REFlev1s = np.asarray([50, 50, 50, 50, 47, 50, 50])\n",
    "big_storms = np.asarray([300, 300, 300, 300, 300, 300, 300])\n",
    "zero_z_triggers = np.asarray([25, 25, 25, 25, 25, 25, 25])\n",
    "storm_to_tracks = np.asarray([2, 2, 2, 2, 2, 2, 2])\n",
    "years = np.asarray([2019, 2019, 2019, 2019, 2019, 2019, 2019])\n",
    "months = np.asarray([5, 6, 6, 8, 8, 8, 9])\n",
    "days = np.asarray([28, 9, 24, 11, 13, 15, 29])\n",
    "hours = np.asarray([2, 1, 20, 23, 1, 23, 20])\n",
    "start_mins = np.asarray([0, 0, 0, 0, 0, 30, 0])#4 should be 0\n",
    "durations = np.asarray([2.1, 2.1, 4.1, 2.1, 2.1, 3.1, 2.1])#4 should be 2.1\n",
    "#calibrationstm = np.asarray([0.0])\n",
    "stations = ['KILN', 'KGLD', 'KSJT', 'KGLD', 'KILX', 'KTWX', 'KILX']\n",
    "h_calstm = np.asarray([3812, 3781, 3821, 4145, 4918, 4329, 4188])\n",
    "calibrations = np.asarray([-0.28598503,0.115038666,0.008330403,-0.065630999,0.180579129,-0.005830233,0.113976934])"
   ]
  },
  {
   "cell_type": "code",
   "execution_count": null,
   "metadata": {},
   "outputs": [],
   "source": [
    "#Start of 2019 nontor cases\n",
    "#Check on weird gap at 1:20 in KUEX 7/15, consider redoing tracking\n",
    "#redo tracking on 3, 4\n",
    "\n",
    "storm_relative_dirs = np.asarray([195, 160, 160, 175, 170, 180])\n",
    "zdrlevs = np.asarray([3.25, 3.25, 3.25, 3.25, 3.25, 3.25])\n",
    "kdplevs = np.asarray([1.5, 1.5, 1.5, 1.5, 1.5, 1.5])\n",
    "REFlevs = np.asarray([45, 45, 45, 42, 45, 45])\n",
    "REFlev1s = np.asarray([50, 50, 50, 47, 50, 50])\n",
    "big_storms = np.asarray([300, 300, 300, 300, 300, 300])\n",
    "zero_z_triggers = np.asarray([25, 25, 25, 25, 25, 25])\n",
    "storm_to_tracks = np.asarray([2, 2, 2, 2, 2, 2])\n",
    "years = np.asarray([2015, 2015, 2015, 2017, 2018, 2019])\n",
    "months = np.asarray([6, 7, 7, 3, 8, 4])\n",
    "days = np.asarray([1, 16, 15, 26, 6, 4])\n",
    "hours = np.asarray([23, 0, 23, 22, 20, 0])\n",
    "start_mins = np.asarray([0, 0, 0, 30, 0, 0])\n",
    "durations = np.asarray([2.1, 2.1, 2.1, 1.6, 2.1, 2.1])\n",
    "#calibrationstm = np.asarray([0.0])\n",
    "stations = ['KUDX', 'KUEX', 'KTWX', 'KTLX', 'KPUX', 'KFDR']\n",
    "h_calstm = np.asarray([3426, 4437, 4551, 3274, 3515, 3108])\n",
    "calibrations = np.asarray([-0.1087511,-0.119518411,0.18185671,-0.293961857,-0.166763571,-0.430197037])"
   ]
  },
  {
   "cell_type": "code",
   "execution_count": null,
   "metadata": {},
   "outputs": [],
   "source": [
    "storm_relative_dirs = np.asarray([145, 205, 200, 220, 180, 175])\n",
    "zdrlevs = np.asarray([3.25, 3.25, 3.25, 3.25, 3.25, 3.25])\n",
    "kdplevs = np.asarray([1.5, 1.5, 1.5, 1.5, 1.5, 1.5])\n",
    "REFlevs = np.asarray([45, 45, 45, 45, 45, 45])\n",
    "REFlev1s = np.asarray([50, 50, 50, 50, 50, 50])\n",
    "big_storms = np.asarray([300, 300, 300, 300, 300, 300])\n",
    "zero_z_triggers = np.asarray([25, 25, 25, 25, 25, 25])\n",
    "storm_to_tracks = np.asarray([2, 2, 2, 2, 2, 2])\n",
    "years = np.asarray([2019, 2019, 2019, 2019, 2019, 2019])\n",
    "months = np.asarray([4, 4, 5, 5, 5, 5])\n",
    "days = np.asarray([13, 28, 3, 5, 8, 22])\n",
    "hours = np.asarray([11, 22, 20, 21, 9, 23])\n",
    "start_mins = np.asarray([0, 0, 0, 30, 30, 0])\n",
    "durations = np.asarray([2.1, 2.1, 2.1, 1.5, 2.1, 2.1])\n",
    "#calibrationstm = np.asarray([0.0])\n",
    "stations = ['KDFX', 'KGLD', 'KMAF', 'KUEX', 'KSJT', 'KFDR']\n",
    "h_calstm = np.asarray([3438, 3047, 2946, 2821, 3631, 4535])\n",
    "calibrations = np.asarray([-0.328652651,0.022225182,-0.128828107,-0.122907107,-0.252498989,-0.143309465])"
   ]
  },
  {
   "cell_type": "code",
   "execution_count": null,
   "metadata": {},
   "outputs": [],
   "source": [
    "# Redo tracking on 0, 1\n",
    "storm_relative_dirs = np.asarray([135, 200, 235, 180, 180, 175, 225, 155])\n",
    "zdrlevs = np.asarray([3.25, 3.25, 3.25, 3.25, 3.25, 3.25, 3.25, 3.25])\n",
    "kdplevs = np.asarray([1.5, 1.5, 1.5, 1.5, 1.5, 1.5, 1.5, 1.5])\n",
    "REFlevs = np.asarray([45, 40, 45, 45, 45, 45, 45, 45])\n",
    "REFlev1s = np.asarray([50, 45, 50, 50, 50, 50, 50, 50])\n",
    "big_storms = np.asarray([300, 300, 300, 300, 300, 300, 300, 300])\n",
    "zero_z_triggers = np.asarray([25, 25, 25, 25, 25, 25, 25, 25])\n",
    "storm_to_tracks = np.asarray([2, 2, 2, 2, 2, 2, 2, 2])\n",
    "years = np.asarray([2019, 2019, 2019, 2019, 2019, 2019, 2019, 2019])\n",
    "months = np.asarray([5, 5, 6, 6, 6, 6, 7, 8])\n",
    "days = np.asarray([24, 23, 11, 16, 19, 25, 26, 10])\n",
    "hours = np.asarray([0, 22, 23, 23, 0, 1, 23, 22])\n",
    "start_mins = np.asarray([0, 0, 0, 30, 0, 0, 0, 0])\n",
    "durations = np.asarray([2.1, 3.1, 2.1, 2.6, 2.1, 2.1, 1.6, 1.1])\n",
    "#calibrationstm = np.asarray([0.0])\n",
    "stations = ['KLBB', 'KRLX', 'KDDC', 'KSJT', 'KAMA', 'KLBB', 'KMPX', 'KUDX']\n",
    "h_calstm = np.asarray([3860, 3865, 3230, 3828, 3521, 3716, 4002, 3181])\n",
    "calibrations = np.asarray([-0.099956282,0.185417253,-0.119196012,0.024559553,-0.237675289,-0.104838337,0.018243539,-0.198426286])"
   ]
  },
  {
   "cell_type": "code",
   "execution_count": 3,
   "metadata": {},
   "outputs": [
    {
     "name": "stdout",
     "output_type": "stream",
     "text": [
      "2020-02-10 20:03:22.572817\n"
     ]
    },
    {
     "name": "stderr",
     "output_type": "stream",
     "text": [
      "C:\\Users\\matts\\AppData\\Local\\Continuum\\anaconda3\\envs\\radar\\lib\\site-packages\\sklearn\\base.py:306: UserWarning: Trying to unpickle estimator DecisionTreeClassifier from version 0.19.0 when using version 0.21.2. This might lead to breaking code or invalid results. Use at your own risk.\n",
      "  UserWarning)\n",
      "C:\\Users\\matts\\AppData\\Local\\Continuum\\anaconda3\\envs\\radar\\lib\\site-packages\\sklearn\\base.py:306: UserWarning: Trying to unpickle estimator RandomForestClassifier from version 0.19.0 when using version 0.21.2. This might lead to breaking code or invalid results. Use at your own risk.\n",
      "  UserWarning)\n"
     ]
    },
    {
     "name": "stdout",
     "output_type": "stream",
     "text": [
      "File Reading\n",
      "Pre-grid Organization Section\n",
      "0.5358887\n",
      "bad split cut\n",
      "0.52734375\n",
      "0.8745117\n",
      "bad split cut\n",
      "0.87890625\n",
      "1.3316116\n",
      "bad split cut\n",
      "1.3183594\n",
      "1.80867\n",
      "2.408142\n",
      "3.1260223\n",
      "4.005951\n",
      "5.1008606\n",
      "6.4661865\n",
      "7.9865723\n",
      "10.025497\n",
      "12.47847\n",
      "15.652481\n",
      "19.494019\n",
      "KDP Section\n",
      "Grid Section\n"
     ]
    },
    {
     "name": "stderr",
     "output_type": "stream",
     "text": [
      "C:\\Users\\matts\\AppData\\Local\\Continuum\\anaconda3\\envs\\radar\\lib\\site-packages\\pyart\\map\\gates_to_grid.py:177: DeprecationWarning: Barnes weighting function is deprecated. Please use Barnes 2 to be consistent with Pauley and Wu 1990.\n",
      "  \" Pauley and Wu 1990.\", DeprecationWarning)\n",
      "C:\\Users\\matts\\AppData\\Local\\Continuum\\anaconda3\\envs\\radar\\lib\\site-packages\\pyart\\map\\gates_to_grid.py:177: DeprecationWarning: Barnes weighting function is deprecated. Please use Barnes 2 to be consistent with Pauley and Wu 1990.\n",
      "  \" Pauley and Wu 1990.\", DeprecationWarning)\n"
     ]
    },
    {
     "name": "stdout",
     "output_type": "stream",
     "text": [
      "Gradient Analysis and Masking\n"
     ]
    },
    {
     "name": "stderr",
     "output_type": "stream",
     "text": [
      "C:\\Users\\matts\\AppData\\Local\\Continuum\\anaconda3\\envs\\radar\\lib\\site-packages\\metpy\\xarray.py:570: MetpyDeprecationWarning: The get_wind_dir function was deprecated in version 0.9. This function has been renamed wind_direction.\n",
      "  return func(*args, **kwargs)\n",
      "C:\\Users\\matts\\AppData\\Local\\Continuum\\anaconda3\\envs\\radar\\lib\\site-packages\\metpy\\xarray.py:570: MetpyDeprecationWarning: The get_wind_speed function was deprecated in version 0.9. This function has been renamed wind_speed.\n",
      "  return func(*args, **kwargs)\n"
     ]
    },
    {
     "name": "stdout",
     "output_type": "stream",
     "text": [
      "[[  0   1   2 ... 497 498 499]\n",
      " [  0   1   2 ... 497 498 499]\n",
      " [  0   1   2 ... 497 498 499]\n",
      " ...\n",
      " [  0   1   2 ... 497 498 499]\n",
      " [  0   1   2 ... 497 498 499]\n",
      " [  0   1   2 ... 497 498 499]]\n",
      "(500, 500)\n"
     ]
    },
    {
     "name": "stderr",
     "output_type": "stream",
     "text": [
      "C:\\Users\\matts\\AppData\\Local\\Continuum\\anaconda3\\envs\\radar\\lib\\site-packages\\metpy\\xarray.py:570: MetpyDeprecationWarning: The get_wind_dir function was deprecated in version 0.9. This function has been renamed wind_direction.\n",
      "  return func(*args, **kwargs)\n"
     ]
    },
    {
     "name": "stdout",
     "output_type": "stream",
     "text": [
      "(-94.84111022949219, 31.45055389404297, <cartopy.crs.PlateCarree object at 0x0000018B8778EF68>)\n",
      "Testfig Saved\n"
     ]
    },
    {
     "name": "stderr",
     "output_type": "stream",
     "text": [
      "C:\\Users\\matts\\AppData\\Local\\Continuum\\anaconda3\\envs\\radar\\lib\\site-packages\\metpy\\xarray.py:570: MetpyDeprecationWarning: The get_wind_components function was deprecated in version 0.9. This function has been renamed wind_components.\n",
      "  return func(*args, **kwargs)\n",
      "C:\\Users\\matts\\AppData\\Local\\Continuum\\anaconda3\\envs\\radar\\lib\\site-packages\\metpy\\xarray.py:570: MetpyDeprecationWarning: The get_wind_components function was deprecated in version 0.9. This function has been renamed wind_components.\n",
      "  return func(*args, **kwargs)\n",
      "C:\\Users\\matts\\AppData\\Local\\Continuum\\anaconda3\\envs\\radar\\lib\\site-packages\\metpy\\xarray.py:570: MetpyDeprecationWarning: The get_wind_components function was deprecated in version 0.9. This function has been renamed wind_components.\n",
      "  return func(*args, **kwargs)\n",
      "C:\\Users\\matts\\AppData\\Local\\Continuum\\anaconda3\\envs\\radar\\lib\\site-packages\\metpy\\xarray.py:570: MetpyDeprecationWarning: The get_wind_components function was deprecated in version 0.9. This function has been renamed wind_components.\n",
      "  return func(*args, **kwargs)\n",
      "C:\\Users\\matts\\AppData\\Local\\Continuum\\anaconda3\\envs\\radar\\lib\\site-packages\\metpy\\xarray.py:570: MetpyDeprecationWarning: The get_wind_components function was deprecated in version 0.9. This function has been renamed wind_components.\n",
      "  return func(*args, **kwargs)\n",
      "C:\\Users\\matts\\AppData\\Local\\Continuum\\anaconda3\\envs\\radar\\lib\\site-packages\\metpy\\xarray.py:570: MetpyDeprecationWarning: The get_wind_components function was deprecated in version 0.9. This function has been renamed wind_components.\n",
      "  return func(*args, **kwargs)\n",
      "C:\\Users\\matts\\Documents\\Python Scripts\\SPORK\\ridiculous_framework_devSPINLOCAL.py:692: RuntimeWarning: invalid value encountered in double_scalars\n",
      "  col_con_centroid_lon.append(np.sum(weighted_lons_col) / np.sum(col_areas_arr[np.where(col_storm_lon == max_lons_c[i[0]])]))\n",
      "C:\\Users\\matts\\Documents\\Python Scripts\\SPORK\\ridiculous_framework_devSPINLOCAL.py:694: RuntimeWarning: invalid value encountered in double_scalars\n",
      "  col_con_centroid_lat.append(np.sum(weighted_lats_col) / np.sum(col_areas_arr[np.where(col_storm_lon == max_lons_c[i[0]])]))\n",
      "C:\\Users\\matts\\Documents\\Python Scripts\\SPORK\\ridiculous_framework_devSPINLOCAL.py:780: RuntimeWarning: invalid value encountered in true_divide\n",
      "  shaped_ang = (180-np.abs(shaped_ang))*(shaped_ang/np.abs(shaped_ang))\n"
     ]
    },
    {
     "name": "stdout",
     "output_type": "stream",
     "text": [
      "Figure Saved\n",
      "[0, 2.034568128666512, 0]\n",
      "[0, 1.815764475783349, 0]\n",
      "[0, 1.6207479112031704, 0]\n",
      "[0, 1.7538777199978415, 0]\n",
      "File Reading\n",
      "Pre-grid Organization Section\n",
      "0.5008621\n",
      "bad split cut\n",
      "0.48339844\n",
      "0.8731003\n",
      "bad split cut\n",
      "0.87890625\n",
      "1.3689346\n",
      "bad split cut\n",
      "1.3623047\n",
      "1.8092804\n",
      "2.4059906\n",
      "3.1262054\n",
      "4.005905\n",
      "5.1082306\n",
      "6.4646144\n",
      "7.987107\n",
      "10.025635\n",
      "12.481294\n",
      "15.604538\n",
      "19.494644\n",
      "KDP Section\n",
      "Grid Section\n"
     ]
    },
    {
     "name": "stderr",
     "output_type": "stream",
     "text": [
      "C:\\Users\\matts\\AppData\\Local\\Continuum\\anaconda3\\envs\\radar\\lib\\site-packages\\pyart\\map\\gates_to_grid.py:177: DeprecationWarning: Barnes weighting function is deprecated. Please use Barnes 2 to be consistent with Pauley and Wu 1990.\n",
      "  \" Pauley and Wu 1990.\", DeprecationWarning)\n",
      "C:\\Users\\matts\\AppData\\Local\\Continuum\\anaconda3\\envs\\radar\\lib\\site-packages\\pyart\\map\\gates_to_grid.py:177: DeprecationWarning: Barnes weighting function is deprecated. Please use Barnes 2 to be consistent with Pauley and Wu 1990.\n",
      "  \" Pauley and Wu 1990.\", DeprecationWarning)\n"
     ]
    },
    {
     "name": "stdout",
     "output_type": "stream",
     "text": [
      "Gradient Analysis and Masking\n"
     ]
    },
    {
     "name": "stderr",
     "output_type": "stream",
     "text": [
      "C:\\Users\\matts\\AppData\\Local\\Continuum\\anaconda3\\envs\\radar\\lib\\site-packages\\metpy\\xarray.py:570: MetpyDeprecationWarning: The get_wind_dir function was deprecated in version 0.9. This function has been renamed wind_direction.\n",
      "  return func(*args, **kwargs)\n",
      "C:\\Users\\matts\\AppData\\Local\\Continuum\\anaconda3\\envs\\radar\\lib\\site-packages\\metpy\\xarray.py:570: MetpyDeprecationWarning: The get_wind_speed function was deprecated in version 0.9. This function has been renamed wind_speed.\n",
      "  return func(*args, **kwargs)\n"
     ]
    },
    {
     "name": "stdout",
     "output_type": "stream",
     "text": [
      "[[  0   1   2 ... 497 498 499]\n",
      " [  0   1   2 ... 497 498 499]\n",
      " [  0   1   2 ... 497 498 499]\n",
      " ...\n",
      " [  0   1   2 ... 497 498 499]\n",
      " [  0   1   2 ... 497 498 499]\n",
      " [  0   1   2 ... 497 498 499]]\n",
      "(500, 500)\n",
      "(-94.84111022949219, 31.45055389404297, <cartopy.crs.PlateCarree object at 0x0000018B8778EFC0>)\n",
      "Testfig Saved\n"
     ]
    },
    {
     "name": "stderr",
     "output_type": "stream",
     "text": [
      "C:\\Users\\matts\\AppData\\Local\\Continuum\\anaconda3\\envs\\radar\\lib\\site-packages\\metpy\\xarray.py:570: MetpyDeprecationWarning: The get_wind_components function was deprecated in version 0.9. This function has been renamed wind_components.\n",
      "  return func(*args, **kwargs)\n",
      "C:\\Users\\matts\\AppData\\Local\\Continuum\\anaconda3\\envs\\radar\\lib\\site-packages\\metpy\\xarray.py:570: MetpyDeprecationWarning: The get_wind_components function was deprecated in version 0.9. This function has been renamed wind_components.\n",
      "  return func(*args, **kwargs)\n",
      "C:\\Users\\matts\\AppData\\Local\\Continuum\\anaconda3\\envs\\radar\\lib\\site-packages\\metpy\\xarray.py:570: MetpyDeprecationWarning: The get_wind_components function was deprecated in version 0.9. This function has been renamed wind_components.\n",
      "  return func(*args, **kwargs)\n",
      "C:\\Users\\matts\\AppData\\Local\\Continuum\\anaconda3\\envs\\radar\\lib\\site-packages\\metpy\\xarray.py:570: MetpyDeprecationWarning: The get_wind_components function was deprecated in version 0.9. This function has been renamed wind_components.\n",
      "  return func(*args, **kwargs)\n",
      "C:\\Users\\matts\\Documents\\Python Scripts\\SPORK\\ridiculous_framework_devSPINLOCAL.py:692: RuntimeWarning: invalid value encountered in double_scalars\n",
      "  col_con_centroid_lon.append(np.sum(weighted_lons_col) / np.sum(col_areas_arr[np.where(col_storm_lon == max_lons_c[i[0]])]))\n",
      "C:\\Users\\matts\\Documents\\Python Scripts\\SPORK\\ridiculous_framework_devSPINLOCAL.py:694: RuntimeWarning: invalid value encountered in double_scalars\n",
      "  col_con_centroid_lat.append(np.sum(weighted_lats_col) / np.sum(col_areas_arr[np.where(col_storm_lon == max_lons_c[i[0]])]))\n",
      "C:\\Users\\matts\\Documents\\Python Scripts\\SPORK\\ridiculous_framework_devSPINLOCAL.py:780: RuntimeWarning: invalid value encountered in true_divide\n",
      "  shaped_ang = (180-np.abs(shaped_ang))*(shaped_ang/np.abs(shaped_ang))\n"
     ]
    },
    {
     "name": "stdout",
     "output_type": "stream",
     "text": [
      "Figure Saved\n",
      "[0, 2.1858861713332716, 0]\n",
      "[0, 2.12671006403272, 0]\n",
      "[0, 2.071638483881205, 0]\n",
      "[1.6130577951246226, 2.060925060345323, 0]\n",
      "File Reading\n",
      "Pre-grid Organization Section\n",
      "0.50440216\n",
      "bad split cut\n",
      "0.48339844\n",
      "0.8719177\n",
      "bad split cut\n",
      "0.87890625\n",
      "1.3327942\n",
      "bad split cut\n",
      "1.3209534\n",
      "1.8091125\n",
      "2.4073029\n",
      "3.126419\n",
      "4.005966\n",
      "5.0986023\n",
      "6.467102\n",
      "7.9886622\n",
      "10.024414\n",
      "12.475586\n",
      "15.604233\n",
      "19.495178\n",
      "KDP Section\n",
      "Grid Section\n"
     ]
    },
    {
     "name": "stderr",
     "output_type": "stream",
     "text": [
      "C:\\Users\\matts\\AppData\\Local\\Continuum\\anaconda3\\envs\\radar\\lib\\site-packages\\pyart\\map\\gates_to_grid.py:177: DeprecationWarning: Barnes weighting function is deprecated. Please use Barnes 2 to be consistent with Pauley and Wu 1990.\n",
      "  \" Pauley and Wu 1990.\", DeprecationWarning)\n",
      "C:\\Users\\matts\\AppData\\Local\\Continuum\\anaconda3\\envs\\radar\\lib\\site-packages\\pyart\\map\\gates_to_grid.py:177: DeprecationWarning: Barnes weighting function is deprecated. Please use Barnes 2 to be consistent with Pauley and Wu 1990.\n",
      "  \" Pauley and Wu 1990.\", DeprecationWarning)\n"
     ]
    },
    {
     "name": "stdout",
     "output_type": "stream",
     "text": [
      "Gradient Analysis and Masking\n"
     ]
    },
    {
     "name": "stderr",
     "output_type": "stream",
     "text": [
      "C:\\Users\\matts\\AppData\\Local\\Continuum\\anaconda3\\envs\\radar\\lib\\site-packages\\metpy\\xarray.py:570: MetpyDeprecationWarning: The get_wind_dir function was deprecated in version 0.9. This function has been renamed wind_direction.\n",
      "  return func(*args, **kwargs)\n",
      "C:\\Users\\matts\\AppData\\Local\\Continuum\\anaconda3\\envs\\radar\\lib\\site-packages\\metpy\\xarray.py:570: MetpyDeprecationWarning: The get_wind_speed function was deprecated in version 0.9. This function has been renamed wind_speed.\n",
      "  return func(*args, **kwargs)\n"
     ]
    },
    {
     "name": "stdout",
     "output_type": "stream",
     "text": [
      "[[  0   1   2 ... 497 498 499]\n",
      " [  0   1   2 ... 497 498 499]\n",
      " [  0   1   2 ... 497 498 499]\n",
      " ...\n",
      " [  0   1   2 ... 497 498 499]\n",
      " [  0   1   2 ... 497 498 499]\n",
      " [  0   1   2 ... 497 498 499]]\n",
      "(500, 500)\n",
      "(-94.84111022949219, 31.45055389404297, <cartopy.crs.PlateCarree object at 0x0000018BE66D0DB0>)\n",
      "Testfig Saved\n"
     ]
    },
    {
     "name": "stderr",
     "output_type": "stream",
     "text": [
      "C:\\Users\\matts\\AppData\\Local\\Continuum\\anaconda3\\envs\\radar\\lib\\site-packages\\metpy\\xarray.py:570: MetpyDeprecationWarning: The get_wind_components function was deprecated in version 0.9. This function has been renamed wind_components.\n",
      "  return func(*args, **kwargs)\n",
      "C:\\Users\\matts\\AppData\\Local\\Continuum\\anaconda3\\envs\\radar\\lib\\site-packages\\metpy\\xarray.py:570: MetpyDeprecationWarning: The get_wind_components function was deprecated in version 0.9. This function has been renamed wind_components.\n",
      "  return func(*args, **kwargs)\n",
      "C:\\Users\\matts\\AppData\\Local\\Continuum\\anaconda3\\envs\\radar\\lib\\site-packages\\metpy\\xarray.py:570: MetpyDeprecationWarning: The get_wind_components function was deprecated in version 0.9. This function has been renamed wind_components.\n",
      "  return func(*args, **kwargs)\n",
      "C:\\Users\\matts\\AppData\\Local\\Continuum\\anaconda3\\envs\\radar\\lib\\site-packages\\metpy\\xarray.py:570: MetpyDeprecationWarning: The get_wind_components function was deprecated in version 0.9. This function has been renamed wind_components.\n",
      "  return func(*args, **kwargs)\n",
      "C:\\Users\\matts\\AppData\\Local\\Continuum\\anaconda3\\envs\\radar\\lib\\site-packages\\metpy\\xarray.py:570: MetpyDeprecationWarning: The get_wind_components function was deprecated in version 0.9. This function has been renamed wind_components.\n",
      "  return func(*args, **kwargs)\n",
      "C:\\Users\\matts\\AppData\\Local\\Continuum\\anaconda3\\envs\\radar\\lib\\site-packages\\metpy\\xarray.py:570: MetpyDeprecationWarning: The get_wind_components function was deprecated in version 0.9. This function has been renamed wind_components.\n",
      "  return func(*args, **kwargs)\n",
      "C:\\Users\\matts\\Documents\\Python Scripts\\SPORK\\ridiculous_framework_devSPINLOCAL.py:692: RuntimeWarning: invalid value encountered in double_scalars\n",
      "  col_con_centroid_lon.append(np.sum(weighted_lons_col) / np.sum(col_areas_arr[np.where(col_storm_lon == max_lons_c[i[0]])]))\n",
      "C:\\Users\\matts\\Documents\\Python Scripts\\SPORK\\ridiculous_framework_devSPINLOCAL.py:694: RuntimeWarning: invalid value encountered in double_scalars\n",
      "  col_con_centroid_lat.append(np.sum(weighted_lats_col) / np.sum(col_areas_arr[np.where(col_storm_lon == max_lons_c[i[0]])]))\n",
      "C:\\Users\\matts\\Documents\\Python Scripts\\SPORK\\ridiculous_framework_devSPINLOCAL.py:546: RuntimeWarning: invalid value encountered in double_scalars\n",
      "  hail_con_centroid_lon.append(np.sum(weighted_lons_hail) / np.sum(hail_areas_arr[np.where(hail_storm_lon == max_lons_c[i[0]])]))\n",
      "C:\\Users\\matts\\Documents\\Python Scripts\\SPORK\\ridiculous_framework_devSPINLOCAL.py:548: RuntimeWarning: invalid value encountered in double_scalars\n",
      "  hail_con_centroid_lat.append(np.sum(weighted_lats_hail) / np.sum(hail_areas_arr[np.where(hail_storm_lon == max_lons_c[i[0]])]))\n",
      "C:\\Users\\matts\\Documents\\Python Scripts\\SPORK\\ridiculous_framework_devSPINLOCAL.py:780: RuntimeWarning: invalid value encountered in true_divide\n",
      "  shaped_ang = (180-np.abs(shaped_ang))*(shaped_ang/np.abs(shaped_ang))\n"
     ]
    },
    {
     "name": "stdout",
     "output_type": "stream",
     "text": [
      "Figure Saved\n",
      "[0, 0, 2.827136526688073, 0]\n",
      "[0, 0, 2.870008579087244, 0]\n",
      "[0, 0, 2.887183924619675, 0]\n",
      "[0, 1.5649306629513324, 2.706967936678204, 0]\n",
      "File Reading\n",
      "Pre-grid Organization Section\n",
      "0.50354767\n",
      "bad split cut\n",
      "0.48339844\n",
      "0.872139\n",
      "bad split cut\n",
      "0.87890625\n",
      "1.369812\n",
      "bad split cut\n",
      "1.3623047\n",
      "1.80896\n",
      "2.40596\n",
      "3.1266937\n",
      "4.0061493\n",
      "5.1007843\n",
      "6.466355\n",
      "7.988434\n",
      "10.025269\n",
      "12.476899\n",
      "15.604202\n",
      "19.49582\n",
      "KDP Section\n",
      "Grid Section\n"
     ]
    },
    {
     "name": "stderr",
     "output_type": "stream",
     "text": [
      "C:\\Users\\matts\\AppData\\Local\\Continuum\\anaconda3\\envs\\radar\\lib\\site-packages\\pyart\\map\\gates_to_grid.py:177: DeprecationWarning: Barnes weighting function is deprecated. Please use Barnes 2 to be consistent with Pauley and Wu 1990.\n",
      "  \" Pauley and Wu 1990.\", DeprecationWarning)\n",
      "C:\\Users\\matts\\AppData\\Local\\Continuum\\anaconda3\\envs\\radar\\lib\\site-packages\\pyart\\map\\gates_to_grid.py:177: DeprecationWarning: Barnes weighting function is deprecated. Please use Barnes 2 to be consistent with Pauley and Wu 1990.\n",
      "  \" Pauley and Wu 1990.\", DeprecationWarning)\n"
     ]
    },
    {
     "name": "stdout",
     "output_type": "stream",
     "text": [
      "Gradient Analysis and Masking\n"
     ]
    },
    {
     "name": "stderr",
     "output_type": "stream",
     "text": [
      "C:\\Users\\matts\\AppData\\Local\\Continuum\\anaconda3\\envs\\radar\\lib\\site-packages\\metpy\\xarray.py:570: MetpyDeprecationWarning: The get_wind_dir function was deprecated in version 0.9. This function has been renamed wind_direction.\n",
      "  return func(*args, **kwargs)\n",
      "C:\\Users\\matts\\AppData\\Local\\Continuum\\anaconda3\\envs\\radar\\lib\\site-packages\\metpy\\xarray.py:570: MetpyDeprecationWarning: The get_wind_speed function was deprecated in version 0.9. This function has been renamed wind_speed.\n",
      "  return func(*args, **kwargs)\n"
     ]
    },
    {
     "name": "stdout",
     "output_type": "stream",
     "text": [
      "[[  0   1   2 ... 497 498 499]\n",
      " [  0   1   2 ... 497 498 499]\n",
      " [  0   1   2 ... 497 498 499]\n",
      " ...\n",
      " [  0   1   2 ... 497 498 499]\n",
      " [  0   1   2 ... 497 498 499]\n",
      " [  0   1   2 ... 497 498 499]]\n",
      "(500, 500)\n",
      "(-94.84111022949219, 31.45055389404297, <cartopy.crs.PlateCarree object at 0x0000018B87B69150>)\n",
      "Testfig Saved\n"
     ]
    },
    {
     "name": "stderr",
     "output_type": "stream",
     "text": [
      "C:\\Users\\matts\\AppData\\Local\\Continuum\\anaconda3\\envs\\radar\\lib\\site-packages\\metpy\\xarray.py:570: MetpyDeprecationWarning: The get_wind_components function was deprecated in version 0.9. This function has been renamed wind_components.\n",
      "  return func(*args, **kwargs)\n",
      "C:\\Users\\matts\\AppData\\Local\\Continuum\\anaconda3\\envs\\radar\\lib\\site-packages\\metpy\\xarray.py:570: MetpyDeprecationWarning: The get_wind_components function was deprecated in version 0.9. This function has been renamed wind_components.\n",
      "  return func(*args, **kwargs)\n",
      "C:\\Users\\matts\\AppData\\Local\\Continuum\\anaconda3\\envs\\radar\\lib\\site-packages\\metpy\\xarray.py:570: MetpyDeprecationWarning: The get_wind_components function was deprecated in version 0.9. This function has been renamed wind_components.\n",
      "  return func(*args, **kwargs)\n",
      "C:\\Users\\matts\\AppData\\Local\\Continuum\\anaconda3\\envs\\radar\\lib\\site-packages\\metpy\\xarray.py:570: MetpyDeprecationWarning: The get_wind_components function was deprecated in version 0.9. This function has been renamed wind_components.\n",
      "  return func(*args, **kwargs)\n",
      "C:\\Users\\matts\\AppData\\Local\\Continuum\\anaconda3\\envs\\radar\\lib\\site-packages\\metpy\\xarray.py:570: MetpyDeprecationWarning: The get_wind_components function was deprecated in version 0.9. This function has been renamed wind_components.\n",
      "  return func(*args, **kwargs)\n",
      "C:\\Users\\matts\\AppData\\Local\\Continuum\\anaconda3\\envs\\radar\\lib\\site-packages\\metpy\\xarray.py:570: MetpyDeprecationWarning: The get_wind_components function was deprecated in version 0.9. This function has been renamed wind_components.\n",
      "  return func(*args, **kwargs)\n",
      "C:\\Users\\matts\\AppData\\Local\\Continuum\\anaconda3\\envs\\radar\\lib\\site-packages\\metpy\\xarray.py:570: MetpyDeprecationWarning: The get_wind_components function was deprecated in version 0.9. This function has been renamed wind_components.\n",
      "  return func(*args, **kwargs)\n",
      "C:\\Users\\matts\\Documents\\Python Scripts\\SPORK\\ridiculous_framework_devSPINLOCAL.py:692: RuntimeWarning: invalid value encountered in double_scalars\n",
      "  col_con_centroid_lon.append(np.sum(weighted_lons_col) / np.sum(col_areas_arr[np.where(col_storm_lon == max_lons_c[i[0]])]))\n",
      "C:\\Users\\matts\\Documents\\Python Scripts\\SPORK\\ridiculous_framework_devSPINLOCAL.py:694: RuntimeWarning: invalid value encountered in double_scalars\n",
      "  col_con_centroid_lat.append(np.sum(weighted_lats_col) / np.sum(col_areas_arr[np.where(col_storm_lon == max_lons_c[i[0]])]))\n",
      "C:\\Users\\matts\\Documents\\Python Scripts\\SPORK\\ridiculous_framework_devSPINLOCAL.py:546: RuntimeWarning: invalid value encountered in double_scalars\n",
      "  hail_con_centroid_lon.append(np.sum(weighted_lons_hail) / np.sum(hail_areas_arr[np.where(hail_storm_lon == max_lons_c[i[0]])]))\n",
      "C:\\Users\\matts\\Documents\\Python Scripts\\SPORK\\ridiculous_framework_devSPINLOCAL.py:548: RuntimeWarning: invalid value encountered in double_scalars\n",
      "  hail_con_centroid_lat.append(np.sum(weighted_lats_hail) / np.sum(hail_areas_arr[np.where(hail_storm_lon == max_lons_c[i[0]])]))\n",
      "C:\\Users\\matts\\Documents\\Python Scripts\\SPORK\\ridiculous_framework_devSPINLOCAL.py:780: RuntimeWarning: invalid value encountered in true_divide\n",
      "  shaped_ang = (180-np.abs(shaped_ang))*(shaped_ang/np.abs(shaped_ang))\n"
     ]
    },
    {
     "name": "stdout",
     "output_type": "stream",
     "text": [
      "Figure Saved\n",
      "[2.174224237937515, 0, 2.598602080387978]\n",
      "[2.2163144351639894, 0, 2.6832497528898855]\n",
      "[2.128912394802374, 0, 2.6208581378076397]\n",
      "[2.1985050275521902, 1.572529930364744, 2.345366085099819]\n",
      "File Reading\n",
      "Pre-grid Organization Section\n",
      "0.50588226\n",
      "bad split cut\n",
      "0.48339844\n",
      "0.8749466\n",
      "bad split cut\n",
      "0.87890625\n",
      "1.3303452\n",
      "bad split cut\n",
      "1.3183594\n",
      "1.8081055\n",
      "2.4063873\n",
      "3.126297\n",
      "4.005768\n",
      "5.0999603\n",
      "6.4653015\n",
      "7.98761\n",
      "10.025604\n",
      "12.478226\n",
      "15.603958\n",
      "19.49356\n",
      "KDP Section\n",
      "Grid Section\n"
     ]
    },
    {
     "name": "stderr",
     "output_type": "stream",
     "text": [
      "C:\\Users\\matts\\AppData\\Local\\Continuum\\anaconda3\\envs\\radar\\lib\\site-packages\\pyart\\map\\gates_to_grid.py:177: DeprecationWarning: Barnes weighting function is deprecated. Please use Barnes 2 to be consistent with Pauley and Wu 1990.\n",
      "  \" Pauley and Wu 1990.\", DeprecationWarning)\n",
      "C:\\Users\\matts\\AppData\\Local\\Continuum\\anaconda3\\envs\\radar\\lib\\site-packages\\pyart\\map\\gates_to_grid.py:177: DeprecationWarning: Barnes weighting function is deprecated. Please use Barnes 2 to be consistent with Pauley and Wu 1990.\n",
      "  \" Pauley and Wu 1990.\", DeprecationWarning)\n"
     ]
    },
    {
     "name": "stdout",
     "output_type": "stream",
     "text": [
      "Gradient Analysis and Masking\n"
     ]
    },
    {
     "name": "stderr",
     "output_type": "stream",
     "text": [
      "C:\\Users\\matts\\AppData\\Local\\Continuum\\anaconda3\\envs\\radar\\lib\\site-packages\\metpy\\xarray.py:570: MetpyDeprecationWarning: The get_wind_dir function was deprecated in version 0.9. This function has been renamed wind_direction.\n",
      "  return func(*args, **kwargs)\n",
      "C:\\Users\\matts\\AppData\\Local\\Continuum\\anaconda3\\envs\\radar\\lib\\site-packages\\metpy\\xarray.py:570: MetpyDeprecationWarning: The get_wind_speed function was deprecated in version 0.9. This function has been renamed wind_speed.\n",
      "  return func(*args, **kwargs)\n"
     ]
    },
    {
     "name": "stdout",
     "output_type": "stream",
     "text": [
      "[[  0   1   2 ... 497 498 499]\n",
      " [  0   1   2 ... 497 498 499]\n",
      " [  0   1   2 ... 497 498 499]\n",
      " ...\n",
      " [  0   1   2 ... 497 498 499]\n",
      " [  0   1   2 ... 497 498 499]\n",
      " [  0   1   2 ... 497 498 499]]\n",
      "(500, 500)\n",
      "(-94.84111022949219, 31.45055389404297, <cartopy.crs.PlateCarree object at 0x0000018B87B69F68>)\n",
      "Testfig Saved\n"
     ]
    },
    {
     "name": "stderr",
     "output_type": "stream",
     "text": [
      "C:\\Users\\matts\\AppData\\Local\\Continuum\\anaconda3\\envs\\radar\\lib\\site-packages\\metpy\\xarray.py:570: MetpyDeprecationWarning: The get_wind_components function was deprecated in version 0.9. This function has been renamed wind_components.\n",
      "  return func(*args, **kwargs)\n",
      "C:\\Users\\matts\\AppData\\Local\\Continuum\\anaconda3\\envs\\radar\\lib\\site-packages\\metpy\\xarray.py:570: MetpyDeprecationWarning: The get_wind_components function was deprecated in version 0.9. This function has been renamed wind_components.\n",
      "  return func(*args, **kwargs)\n",
      "C:\\Users\\matts\\AppData\\Local\\Continuum\\anaconda3\\envs\\radar\\lib\\site-packages\\metpy\\xarray.py:570: MetpyDeprecationWarning: The get_wind_components function was deprecated in version 0.9. This function has been renamed wind_components.\n",
      "  return func(*args, **kwargs)\n",
      "C:\\Users\\matts\\AppData\\Local\\Continuum\\anaconda3\\envs\\radar\\lib\\site-packages\\metpy\\xarray.py:570: MetpyDeprecationWarning: The get_wind_components function was deprecated in version 0.9. This function has been renamed wind_components.\n",
      "  return func(*args, **kwargs)\n",
      "C:\\Users\\matts\\AppData\\Local\\Continuum\\anaconda3\\envs\\radar\\lib\\site-packages\\metpy\\xarray.py:570: MetpyDeprecationWarning: The get_wind_components function was deprecated in version 0.9. This function has been renamed wind_components.\n",
      "  return func(*args, **kwargs)\n",
      "C:\\Users\\matts\\AppData\\Local\\Continuum\\anaconda3\\envs\\radar\\lib\\site-packages\\metpy\\xarray.py:570: MetpyDeprecationWarning: The get_wind_components function was deprecated in version 0.9. This function has been renamed wind_components.\n",
      "  return func(*args, **kwargs)\n",
      "C:\\Users\\matts\\AppData\\Local\\Continuum\\anaconda3\\envs\\radar\\lib\\site-packages\\metpy\\xarray.py:570: MetpyDeprecationWarning: The get_wind_components function was deprecated in version 0.9. This function has been renamed wind_components.\n",
      "  return func(*args, **kwargs)\n",
      "C:\\Users\\matts\\AppData\\Local\\Continuum\\anaconda3\\envs\\radar\\lib\\site-packages\\metpy\\xarray.py:570: MetpyDeprecationWarning: The get_wind_components function was deprecated in version 0.9. This function has been renamed wind_components.\n",
      "  return func(*args, **kwargs)\n",
      "C:\\Users\\matts\\Documents\\Python Scripts\\SPORK\\ridiculous_framework_devSPINLOCAL.py:692: RuntimeWarning: invalid value encountered in double_scalars\n",
      "  col_con_centroid_lon.append(np.sum(weighted_lons_col) / np.sum(col_areas_arr[np.where(col_storm_lon == max_lons_c[i[0]])]))\n",
      "C:\\Users\\matts\\Documents\\Python Scripts\\SPORK\\ridiculous_framework_devSPINLOCAL.py:694: RuntimeWarning: invalid value encountered in double_scalars\n",
      "  col_con_centroid_lat.append(np.sum(weighted_lats_col) / np.sum(col_areas_arr[np.where(col_storm_lon == max_lons_c[i[0]])]))\n",
      "C:\\Users\\matts\\Documents\\Python Scripts\\SPORK\\ridiculous_framework_devSPINLOCAL.py:546: RuntimeWarning: invalid value encountered in double_scalars\n",
      "  hail_con_centroid_lon.append(np.sum(weighted_lons_hail) / np.sum(hail_areas_arr[np.where(hail_storm_lon == max_lons_c[i[0]])]))\n",
      "C:\\Users\\matts\\Documents\\Python Scripts\\SPORK\\ridiculous_framework_devSPINLOCAL.py:548: RuntimeWarning: invalid value encountered in double_scalars\n",
      "  hail_con_centroid_lat.append(np.sum(weighted_lats_hail) / np.sum(hail_areas_arr[np.where(hail_storm_lon == max_lons_c[i[0]])]))\n",
      "C:\\Users\\matts\\Documents\\Python Scripts\\SPORK\\ridiculous_framework_devSPINLOCAL.py:780: RuntimeWarning: invalid value encountered in true_divide\n",
      "  shaped_ang = (180-np.abs(shaped_ang))*(shaped_ang/np.abs(shaped_ang))\n"
     ]
    },
    {
     "name": "stdout",
     "output_type": "stream",
     "text": [
      "Figure Saved\n",
      "[2.0269809803737684, 0, 2.138562239059265]\n",
      "[2.0050335012928153, 0, 2.2055024747104857]\n",
      "[2.0057876711780267, 0, 2.395510523042638]\n",
      "[2.0539826011061093, 0, 2.271561989389438]\n",
      "File Reading\n",
      "Pre-grid Organization Section\n",
      "0.50395966\n",
      "bad split cut\n",
      "0.48339844\n",
      "0.8727493\n",
      "bad split cut\n",
      "0.87890625\n",
      "1.3691483\n",
      "bad split cut\n",
      "1.3623047\n",
      "1.8093262\n",
      "2.4058685\n",
      "3.1260376\n",
      "4.005829\n",
      "5.101715\n",
      "6.4649963\n",
      "7.987534\n",
      "10.025314\n",
      "12.48027\n",
      "15.604951\n",
      "19.49614\n",
      "KDP Section\n",
      "Grid Section\n"
     ]
    },
    {
     "name": "stderr",
     "output_type": "stream",
     "text": [
      "C:\\Users\\matts\\AppData\\Local\\Continuum\\anaconda3\\envs\\radar\\lib\\site-packages\\pyart\\map\\gates_to_grid.py:177: DeprecationWarning: Barnes weighting function is deprecated. Please use Barnes 2 to be consistent with Pauley and Wu 1990.\n",
      "  \" Pauley and Wu 1990.\", DeprecationWarning)\n",
      "C:\\Users\\matts\\AppData\\Local\\Continuum\\anaconda3\\envs\\radar\\lib\\site-packages\\pyart\\map\\gates_to_grid.py:177: DeprecationWarning: Barnes weighting function is deprecated. Please use Barnes 2 to be consistent with Pauley and Wu 1990.\n",
      "  \" Pauley and Wu 1990.\", DeprecationWarning)\n"
     ]
    },
    {
     "name": "stdout",
     "output_type": "stream",
     "text": [
      "Gradient Analysis and Masking\n"
     ]
    },
    {
     "name": "stderr",
     "output_type": "stream",
     "text": [
      "C:\\Users\\matts\\AppData\\Local\\Continuum\\anaconda3\\envs\\radar\\lib\\site-packages\\metpy\\xarray.py:570: MetpyDeprecationWarning: The get_wind_dir function was deprecated in version 0.9. This function has been renamed wind_direction.\n",
      "  return func(*args, **kwargs)\n",
      "C:\\Users\\matts\\AppData\\Local\\Continuum\\anaconda3\\envs\\radar\\lib\\site-packages\\metpy\\xarray.py:570: MetpyDeprecationWarning: The get_wind_speed function was deprecated in version 0.9. This function has been renamed wind_speed.\n",
      "  return func(*args, **kwargs)\n"
     ]
    },
    {
     "name": "stdout",
     "output_type": "stream",
     "text": [
      "[[  0   1   2 ... 497 498 499]\n",
      " [  0   1   2 ... 497 498 499]\n",
      " [  0   1   2 ... 497 498 499]\n",
      " ...\n",
      " [  0   1   2 ... 497 498 499]\n",
      " [  0   1   2 ... 497 498 499]\n",
      " [  0   1   2 ... 497 498 499]]\n",
      "(500, 500)\n",
      "(-94.84111022949219, 31.45055389404297, <cartopy.crs.PlateCarree object at 0x0000018B88099308>)\n",
      "Testfig Saved\n"
     ]
    },
    {
     "name": "stderr",
     "output_type": "stream",
     "text": [
      "C:\\Users\\matts\\AppData\\Local\\Continuum\\anaconda3\\envs\\radar\\lib\\site-packages\\metpy\\xarray.py:570: MetpyDeprecationWarning: The get_wind_components function was deprecated in version 0.9. This function has been renamed wind_components.\n",
      "  return func(*args, **kwargs)\n",
      "C:\\Users\\matts\\AppData\\Local\\Continuum\\anaconda3\\envs\\radar\\lib\\site-packages\\metpy\\xarray.py:570: MetpyDeprecationWarning: The get_wind_components function was deprecated in version 0.9. This function has been renamed wind_components.\n",
      "  return func(*args, **kwargs)\n",
      "C:\\Users\\matts\\AppData\\Local\\Continuum\\anaconda3\\envs\\radar\\lib\\site-packages\\metpy\\xarray.py:570: MetpyDeprecationWarning: The get_wind_components function was deprecated in version 0.9. This function has been renamed wind_components.\n",
      "  return func(*args, **kwargs)\n",
      "C:\\Users\\matts\\AppData\\Local\\Continuum\\anaconda3\\envs\\radar\\lib\\site-packages\\metpy\\xarray.py:570: MetpyDeprecationWarning: The get_wind_components function was deprecated in version 0.9. This function has been renamed wind_components.\n",
      "  return func(*args, **kwargs)\n",
      "C:\\Users\\matts\\AppData\\Local\\Continuum\\anaconda3\\envs\\radar\\lib\\site-packages\\metpy\\xarray.py:570: MetpyDeprecationWarning: The get_wind_components function was deprecated in version 0.9. This function has been renamed wind_components.\n",
      "  return func(*args, **kwargs)\n",
      "C:\\Users\\matts\\AppData\\Local\\Continuum\\anaconda3\\envs\\radar\\lib\\site-packages\\metpy\\xarray.py:570: MetpyDeprecationWarning: The get_wind_components function was deprecated in version 0.9. This function has been renamed wind_components.\n",
      "  return func(*args, **kwargs)\n",
      "C:\\Users\\matts\\AppData\\Local\\Continuum\\anaconda3\\envs\\radar\\lib\\site-packages\\metpy\\xarray.py:570: MetpyDeprecationWarning: The get_wind_components function was deprecated in version 0.9. This function has been renamed wind_components.\n",
      "  return func(*args, **kwargs)\n",
      "C:\\Users\\matts\\AppData\\Local\\Continuum\\anaconda3\\envs\\radar\\lib\\site-packages\\metpy\\xarray.py:570: MetpyDeprecationWarning: The get_wind_components function was deprecated in version 0.9. This function has been renamed wind_components.\n",
      "  return func(*args, **kwargs)\n",
      "C:\\Users\\matts\\AppData\\Local\\Continuum\\anaconda3\\envs\\radar\\lib\\site-packages\\metpy\\xarray.py:570: MetpyDeprecationWarning: The get_wind_components function was deprecated in version 0.9. This function has been renamed wind_components.\n",
      "  return func(*args, **kwargs)\n",
      "C:\\Users\\matts\\Documents\\Python Scripts\\SPORK\\ridiculous_framework_devSPINLOCAL.py:546: RuntimeWarning: invalid value encountered in double_scalars\n",
      "  hail_con_centroid_lon.append(np.sum(weighted_lons_hail) / np.sum(hail_areas_arr[np.where(hail_storm_lon == max_lons_c[i[0]])]))\n",
      "C:\\Users\\matts\\Documents\\Python Scripts\\SPORK\\ridiculous_framework_devSPINLOCAL.py:548: RuntimeWarning: invalid value encountered in double_scalars\n",
      "  hail_con_centroid_lat.append(np.sum(weighted_lats_hail) / np.sum(hail_areas_arr[np.where(hail_storm_lon == max_lons_c[i[0]])]))\n",
      "C:\\Users\\matts\\Documents\\Python Scripts\\SPORK\\ridiculous_framework_devSPINLOCAL.py:692: RuntimeWarning: invalid value encountered in double_scalars\n",
      "  col_con_centroid_lon.append(np.sum(weighted_lons_col) / np.sum(col_areas_arr[np.where(col_storm_lon == max_lons_c[i[0]])]))\n",
      "C:\\Users\\matts\\Documents\\Python Scripts\\SPORK\\ridiculous_framework_devSPINLOCAL.py:694: RuntimeWarning: invalid value encountered in double_scalars\n",
      "  col_con_centroid_lat.append(np.sum(weighted_lats_col) / np.sum(col_areas_arr[np.where(col_storm_lon == max_lons_c[i[0]])]))\n",
      "C:\\Users\\matts\\Documents\\Python Scripts\\SPORK\\ridiculous_framework_devSPINLOCAL.py:780: RuntimeWarning: invalid value encountered in true_divide\n",
      "  shaped_ang = (180-np.abs(shaped_ang))*(shaped_ang/np.abs(shaped_ang))\n"
     ]
    },
    {
     "name": "stdout",
     "output_type": "stream",
     "text": [
      "Figure Saved\n",
      "[1.605061476549411, 2.0117799336843216, 0, 1.8183595762666445]\n",
      "[0, 1.9626640063087941, 0, 2.348562235349486]\n",
      "[0, 1.9855353174357921, 0, 3.0340692642537235]\n",
      "[0, 2.023828308449388, 1.603650725019154, 3.174029594716783]\n",
      "File Reading\n",
      "Pre-grid Organization Section\n",
      "0.5056381\n",
      "bad split cut\n",
      "0.48339844\n",
      "0.8716812\n",
      "bad split cut\n",
      "0.9172592\n",
      "1.314743\n",
      "bad split cut\n",
      "1.3183594\n",
      "1.8110809\n",
      "2.4086456\n",
      "3.126831\n",
      "4.005951\n",
      "5.0982056\n",
      "6.4675145\n",
      "7.989624\n",
      "10.024643\n",
      "12.474702\n",
      "15.604813\n",
      "19.495697\n",
      "KDP Section\n",
      "Grid Section\n"
     ]
    },
    {
     "name": "stderr",
     "output_type": "stream",
     "text": [
      "C:\\Users\\matts\\AppData\\Local\\Continuum\\anaconda3\\envs\\radar\\lib\\site-packages\\pyart\\map\\gates_to_grid.py:177: DeprecationWarning: Barnes weighting function is deprecated. Please use Barnes 2 to be consistent with Pauley and Wu 1990.\n",
      "  \" Pauley and Wu 1990.\", DeprecationWarning)\n",
      "C:\\Users\\matts\\AppData\\Local\\Continuum\\anaconda3\\envs\\radar\\lib\\site-packages\\pyart\\map\\gates_to_grid.py:177: DeprecationWarning: Barnes weighting function is deprecated. Please use Barnes 2 to be consistent with Pauley and Wu 1990.\n",
      "  \" Pauley and Wu 1990.\", DeprecationWarning)\n"
     ]
    },
    {
     "name": "stdout",
     "output_type": "stream",
     "text": [
      "Gradient Analysis and Masking\n"
     ]
    },
    {
     "name": "stderr",
     "output_type": "stream",
     "text": [
      "C:\\Users\\matts\\AppData\\Local\\Continuum\\anaconda3\\envs\\radar\\lib\\site-packages\\metpy\\xarray.py:570: MetpyDeprecationWarning: The get_wind_dir function was deprecated in version 0.9. This function has been renamed wind_direction.\n",
      "  return func(*args, **kwargs)\n",
      "C:\\Users\\matts\\AppData\\Local\\Continuum\\anaconda3\\envs\\radar\\lib\\site-packages\\metpy\\xarray.py:570: MetpyDeprecationWarning: The get_wind_speed function was deprecated in version 0.9. This function has been renamed wind_speed.\n",
      "  return func(*args, **kwargs)\n"
     ]
    },
    {
     "name": "stdout",
     "output_type": "stream",
     "text": [
      "[[  0   1   2 ... 497 498 499]\n",
      " [  0   1   2 ... 497 498 499]\n",
      " [  0   1   2 ... 497 498 499]\n",
      " ...\n",
      " [  0   1   2 ... 497 498 499]\n",
      " [  0   1   2 ... 497 498 499]\n",
      " [  0   1   2 ... 497 498 499]]\n",
      "(500, 500)\n",
      "(-94.84111022949219, 31.45055389404297, <cartopy.crs.PlateCarree object at 0x0000018B87DABDB0>)\n",
      "Testfig Saved\n"
     ]
    },
    {
     "name": "stderr",
     "output_type": "stream",
     "text": [
      "C:\\Users\\matts\\AppData\\Local\\Continuum\\anaconda3\\envs\\radar\\lib\\site-packages\\metpy\\xarray.py:570: MetpyDeprecationWarning: The get_wind_components function was deprecated in version 0.9. This function has been renamed wind_components.\n",
      "  return func(*args, **kwargs)\n",
      "C:\\Users\\matts\\AppData\\Local\\Continuum\\anaconda3\\envs\\radar\\lib\\site-packages\\metpy\\xarray.py:570: MetpyDeprecationWarning: The get_wind_components function was deprecated in version 0.9. This function has been renamed wind_components.\n",
      "  return func(*args, **kwargs)\n",
      "C:\\Users\\matts\\AppData\\Local\\Continuum\\anaconda3\\envs\\radar\\lib\\site-packages\\metpy\\xarray.py:570: MetpyDeprecationWarning: The get_wind_components function was deprecated in version 0.9. This function has been renamed wind_components.\n",
      "  return func(*args, **kwargs)\n",
      "C:\\Users\\matts\\AppData\\Local\\Continuum\\anaconda3\\envs\\radar\\lib\\site-packages\\metpy\\xarray.py:570: MetpyDeprecationWarning: The get_wind_components function was deprecated in version 0.9. This function has been renamed wind_components.\n",
      "  return func(*args, **kwargs)\n",
      "C:\\Users\\matts\\AppData\\Local\\Continuum\\anaconda3\\envs\\radar\\lib\\site-packages\\metpy\\xarray.py:570: MetpyDeprecationWarning: The get_wind_components function was deprecated in version 0.9. This function has been renamed wind_components.\n",
      "  return func(*args, **kwargs)\n",
      "C:\\Users\\matts\\AppData\\Local\\Continuum\\anaconda3\\envs\\radar\\lib\\site-packages\\metpy\\xarray.py:570: MetpyDeprecationWarning: The get_wind_components function was deprecated in version 0.9. This function has been renamed wind_components.\n",
      "  return func(*args, **kwargs)\n",
      "C:\\Users\\matts\\AppData\\Local\\Continuum\\anaconda3\\envs\\radar\\lib\\site-packages\\metpy\\xarray.py:570: MetpyDeprecationWarning: The get_wind_components function was deprecated in version 0.9. This function has been renamed wind_components.\n",
      "  return func(*args, **kwargs)\n",
      "C:\\Users\\matts\\AppData\\Local\\Continuum\\anaconda3\\envs\\radar\\lib\\site-packages\\metpy\\xarray.py:570: MetpyDeprecationWarning: The get_wind_components function was deprecated in version 0.9. This function has been renamed wind_components.\n",
      "  return func(*args, **kwargs)\n",
      "C:\\Users\\matts\\Documents\\Python Scripts\\SPORK\\ridiculous_framework_devSPINLOCAL.py:692: RuntimeWarning: invalid value encountered in double_scalars\n",
      "  col_con_centroid_lon.append(np.sum(weighted_lons_col) / np.sum(col_areas_arr[np.where(col_storm_lon == max_lons_c[i[0]])]))\n",
      "C:\\Users\\matts\\Documents\\Python Scripts\\SPORK\\ridiculous_framework_devSPINLOCAL.py:694: RuntimeWarning: invalid value encountered in double_scalars\n",
      "  col_con_centroid_lat.append(np.sum(weighted_lats_col) / np.sum(col_areas_arr[np.where(col_storm_lon == max_lons_c[i[0]])]))\n",
      "C:\\Users\\matts\\Documents\\Python Scripts\\SPORK\\ridiculous_framework_devSPINLOCAL.py:546: RuntimeWarning: invalid value encountered in double_scalars\n",
      "  hail_con_centroid_lon.append(np.sum(weighted_lons_hail) / np.sum(hail_areas_arr[np.where(hail_storm_lon == max_lons_c[i[0]])]))\n",
      "C:\\Users\\matts\\Documents\\Python Scripts\\SPORK\\ridiculous_framework_devSPINLOCAL.py:548: RuntimeWarning: invalid value encountered in double_scalars\n",
      "  hail_con_centroid_lat.append(np.sum(weighted_lats_hail) / np.sum(hail_areas_arr[np.where(hail_storm_lon == max_lons_c[i[0]])]))\n",
      "C:\\Users\\matts\\Documents\\Python Scripts\\SPORK\\ridiculous_framework_devSPINLOCAL.py:780: RuntimeWarning: invalid value encountered in true_divide\n",
      "  shaped_ang = (180-np.abs(shaped_ang))*(shaped_ang/np.abs(shaped_ang))\n"
     ]
    },
    {
     "name": "stdout",
     "output_type": "stream",
     "text": [
      "Figure Saved\n",
      "[1.7918103255098445, 2.545807006325961, 2.389495478392432]\n",
      "[1.6082212351470848, 2.505217475522445, 2.5713115492606162]\n",
      "[0, 2.510980061725692, 2.603343555634007]\n",
      "[0, 2.571213763017977, 2.3039995866436698]\n",
      "File Reading\n",
      "Pre-grid Organization Section\n",
      "0.5020447\n",
      "bad split cut\n",
      "0.48339844\n",
      "0.87323\n",
      "bad split cut\n",
      "0.87890625\n",
      "1.3692245\n",
      "bad split cut\n",
      "1.3623047\n",
      "1.8089294\n",
      "2.4077454\n",
      "3.1256409\n",
      "4.0060425\n",
      "5.102188\n",
      "6.4649353\n",
      "7.9862366\n",
      "10.026123\n",
      "12.481674\n",
      "15.601411\n",
      "19.49887\n",
      "KDP Section\n",
      "Grid Section\n"
     ]
    },
    {
     "name": "stderr",
     "output_type": "stream",
     "text": [
      "C:\\Users\\matts\\AppData\\Local\\Continuum\\anaconda3\\envs\\radar\\lib\\site-packages\\pyart\\map\\gates_to_grid.py:177: DeprecationWarning: Barnes weighting function is deprecated. Please use Barnes 2 to be consistent with Pauley and Wu 1990.\n",
      "  \" Pauley and Wu 1990.\", DeprecationWarning)\n",
      "C:\\Users\\matts\\AppData\\Local\\Continuum\\anaconda3\\envs\\radar\\lib\\site-packages\\pyart\\map\\gates_to_grid.py:177: DeprecationWarning: Barnes weighting function is deprecated. Please use Barnes 2 to be consistent with Pauley and Wu 1990.\n",
      "  \" Pauley and Wu 1990.\", DeprecationWarning)\n"
     ]
    },
    {
     "name": "stdout",
     "output_type": "stream",
     "text": [
      "Gradient Analysis and Masking\n"
     ]
    },
    {
     "name": "stderr",
     "output_type": "stream",
     "text": [
      "C:\\Users\\matts\\AppData\\Local\\Continuum\\anaconda3\\envs\\radar\\lib\\site-packages\\metpy\\xarray.py:570: MetpyDeprecationWarning: The get_wind_dir function was deprecated in version 0.9. This function has been renamed wind_direction.\n",
      "  return func(*args, **kwargs)\n",
      "C:\\Users\\matts\\AppData\\Local\\Continuum\\anaconda3\\envs\\radar\\lib\\site-packages\\metpy\\xarray.py:570: MetpyDeprecationWarning: The get_wind_speed function was deprecated in version 0.9. This function has been renamed wind_speed.\n",
      "  return func(*args, **kwargs)\n"
     ]
    },
    {
     "name": "stdout",
     "output_type": "stream",
     "text": [
      "[[  0   1   2 ... 497 498 499]\n",
      " [  0   1   2 ... 497 498 499]\n",
      " [  0   1   2 ... 497 498 499]\n",
      " ...\n",
      " [  0   1   2 ... 497 498 499]\n",
      " [  0   1   2 ... 497 498 499]\n",
      " [  0   1   2 ... 497 498 499]]\n",
      "(500, 500)\n",
      "(-94.84111022949219, 31.45055389404297, <cartopy.crs.PlateCarree object at 0x0000018B87E0D1A8>)\n",
      "Testfig Saved\n"
     ]
    },
    {
     "name": "stderr",
     "output_type": "stream",
     "text": [
      "C:\\Users\\matts\\AppData\\Local\\Continuum\\anaconda3\\envs\\radar\\lib\\site-packages\\metpy\\xarray.py:570: MetpyDeprecationWarning: The get_wind_components function was deprecated in version 0.9. This function has been renamed wind_components.\n",
      "  return func(*args, **kwargs)\n",
      "C:\\Users\\matts\\AppData\\Local\\Continuum\\anaconda3\\envs\\radar\\lib\\site-packages\\metpy\\xarray.py:570: MetpyDeprecationWarning: The get_wind_components function was deprecated in version 0.9. This function has been renamed wind_components.\n",
      "  return func(*args, **kwargs)\n",
      "C:\\Users\\matts\\AppData\\Local\\Continuum\\anaconda3\\envs\\radar\\lib\\site-packages\\metpy\\xarray.py:570: MetpyDeprecationWarning: The get_wind_components function was deprecated in version 0.9. This function has been renamed wind_components.\n",
      "  return func(*args, **kwargs)\n",
      "C:\\Users\\matts\\AppData\\Local\\Continuum\\anaconda3\\envs\\radar\\lib\\site-packages\\metpy\\xarray.py:570: MetpyDeprecationWarning: The get_wind_components function was deprecated in version 0.9. This function has been renamed wind_components.\n",
      "  return func(*args, **kwargs)\n",
      "C:\\Users\\matts\\AppData\\Local\\Continuum\\anaconda3\\envs\\radar\\lib\\site-packages\\metpy\\xarray.py:570: MetpyDeprecationWarning: The get_wind_components function was deprecated in version 0.9. This function has been renamed wind_components.\n",
      "  return func(*args, **kwargs)\n",
      "C:\\Users\\matts\\AppData\\Local\\Continuum\\anaconda3\\envs\\radar\\lib\\site-packages\\metpy\\xarray.py:570: MetpyDeprecationWarning: The get_wind_components function was deprecated in version 0.9. This function has been renamed wind_components.\n",
      "  return func(*args, **kwargs)\n",
      "C:\\Users\\matts\\AppData\\Local\\Continuum\\anaconda3\\envs\\radar\\lib\\site-packages\\metpy\\xarray.py:570: MetpyDeprecationWarning: The get_wind_components function was deprecated in version 0.9. This function has been renamed wind_components.\n",
      "  return func(*args, **kwargs)\n",
      "C:\\Users\\matts\\AppData\\Local\\Continuum\\anaconda3\\envs\\radar\\lib\\site-packages\\metpy\\xarray.py:570: MetpyDeprecationWarning: The get_wind_components function was deprecated in version 0.9. This function has been renamed wind_components.\n",
      "  return func(*args, **kwargs)\n",
      "C:\\Users\\matts\\Documents\\Python Scripts\\SPORK\\ridiculous_framework_devSPINLOCAL.py:692: RuntimeWarning: invalid value encountered in double_scalars\n",
      "  col_con_centroid_lon.append(np.sum(weighted_lons_col) / np.sum(col_areas_arr[np.where(col_storm_lon == max_lons_c[i[0]])]))\n",
      "C:\\Users\\matts\\Documents\\Python Scripts\\SPORK\\ridiculous_framework_devSPINLOCAL.py:694: RuntimeWarning: invalid value encountered in double_scalars\n",
      "  col_con_centroid_lat.append(np.sum(weighted_lats_col) / np.sum(col_areas_arr[np.where(col_storm_lon == max_lons_c[i[0]])]))\n",
      "C:\\Users\\matts\\Documents\\Python Scripts\\SPORK\\ridiculous_framework_devSPINLOCAL.py:546: RuntimeWarning: invalid value encountered in double_scalars\n",
      "  hail_con_centroid_lon.append(np.sum(weighted_lons_hail) / np.sum(hail_areas_arr[np.where(hail_storm_lon == max_lons_c[i[0]])]))\n",
      "C:\\Users\\matts\\Documents\\Python Scripts\\SPORK\\ridiculous_framework_devSPINLOCAL.py:548: RuntimeWarning: invalid value encountered in double_scalars\n",
      "  hail_con_centroid_lat.append(np.sum(weighted_lats_hail) / np.sum(hail_areas_arr[np.where(hail_storm_lon == max_lons_c[i[0]])]))\n",
      "C:\\Users\\matts\\Documents\\Python Scripts\\SPORK\\ridiculous_framework_devSPINLOCAL.py:780: RuntimeWarning: invalid value encountered in true_divide\n",
      "  shaped_ang = (180-np.abs(shaped_ang))*(shaped_ang/np.abs(shaped_ang))\n"
     ]
    },
    {
     "name": "stdout",
     "output_type": "stream",
     "text": [
      "Figure Saved\n",
      "[1.5436687248637906, 2.5440149638946052, 2.1217850297286125]\n",
      "[0, 2.439846708417914, 2.0556749330790445]\n",
      "[0, 2.4792368595011407, 1.923327827485344]\n",
      "[0, 2.5310228888502526, 1.5335147008398688]\n",
      "File Reading\n",
      "Pre-grid Organization Section\n",
      "0.5355301\n",
      "bad split cut\n",
      "0.52734375\n",
      "0.8745804\n",
      "bad split cut\n",
      "0.87890625\n",
      "1.3314133\n",
      "bad split cut\n",
      "1.3183594\n",
      "1.80867\n",
      "2.4079285\n",
      "3.126297\n",
      "4.0060883\n",
      "5.1031036\n",
      "6.4257507\n",
      "7.985398\n",
      "10.0750885\n",
      "12.4795685\n",
      "15.604324\n",
      "19.493744\n",
      "KDP Section\n",
      "Grid Section\n"
     ]
    },
    {
     "name": "stderr",
     "output_type": "stream",
     "text": [
      "C:\\Users\\matts\\AppData\\Local\\Continuum\\anaconda3\\envs\\radar\\lib\\site-packages\\pyart\\map\\gates_to_grid.py:177: DeprecationWarning: Barnes weighting function is deprecated. Please use Barnes 2 to be consistent with Pauley and Wu 1990.\n",
      "  \" Pauley and Wu 1990.\", DeprecationWarning)\n",
      "C:\\Users\\matts\\AppData\\Local\\Continuum\\anaconda3\\envs\\radar\\lib\\site-packages\\pyart\\map\\gates_to_grid.py:177: DeprecationWarning: Barnes weighting function is deprecated. Please use Barnes 2 to be consistent with Pauley and Wu 1990.\n",
      "  \" Pauley and Wu 1990.\", DeprecationWarning)\n"
     ]
    },
    {
     "name": "stdout",
     "output_type": "stream",
     "text": [
      "Gradient Analysis and Masking\n"
     ]
    },
    {
     "name": "stderr",
     "output_type": "stream",
     "text": [
      "C:\\Users\\matts\\AppData\\Local\\Continuum\\anaconda3\\envs\\radar\\lib\\site-packages\\metpy\\xarray.py:570: MetpyDeprecationWarning: The get_wind_dir function was deprecated in version 0.9. This function has been renamed wind_direction.\n",
      "  return func(*args, **kwargs)\n",
      "C:\\Users\\matts\\AppData\\Local\\Continuum\\anaconda3\\envs\\radar\\lib\\site-packages\\metpy\\xarray.py:570: MetpyDeprecationWarning: The get_wind_speed function was deprecated in version 0.9. This function has been renamed wind_speed.\n",
      "  return func(*args, **kwargs)\n"
     ]
    },
    {
     "name": "stdout",
     "output_type": "stream",
     "text": [
      "[[  0   1   2 ... 497 498 499]\n",
      " [  0   1   2 ... 497 498 499]\n",
      " [  0   1   2 ... 497 498 499]\n",
      " ...\n",
      " [  0   1   2 ... 497 498 499]\n",
      " [  0   1   2 ... 497 498 499]\n",
      " [  0   1   2 ... 497 498 499]]\n",
      "(500, 500)\n",
      "(-94.84111022949219, 31.45055389404297, <cartopy.crs.PlateCarree object at 0x0000018B87DB8938>)\n",
      "Testfig Saved\n"
     ]
    },
    {
     "name": "stderr",
     "output_type": "stream",
     "text": [
      "C:\\Users\\matts\\AppData\\Local\\Continuum\\anaconda3\\envs\\radar\\lib\\site-packages\\metpy\\xarray.py:570: MetpyDeprecationWarning: The get_wind_components function was deprecated in version 0.9. This function has been renamed wind_components.\n",
      "  return func(*args, **kwargs)\n",
      "C:\\Users\\matts\\AppData\\Local\\Continuum\\anaconda3\\envs\\radar\\lib\\site-packages\\metpy\\xarray.py:570: MetpyDeprecationWarning: The get_wind_components function was deprecated in version 0.9. This function has been renamed wind_components.\n",
      "  return func(*args, **kwargs)\n",
      "C:\\Users\\matts\\AppData\\Local\\Continuum\\anaconda3\\envs\\radar\\lib\\site-packages\\metpy\\xarray.py:570: MetpyDeprecationWarning: The get_wind_components function was deprecated in version 0.9. This function has been renamed wind_components.\n",
      "  return func(*args, **kwargs)\n",
      "C:\\Users\\matts\\AppData\\Local\\Continuum\\anaconda3\\envs\\radar\\lib\\site-packages\\metpy\\xarray.py:570: MetpyDeprecationWarning: The get_wind_components function was deprecated in version 0.9. This function has been renamed wind_components.\n",
      "  return func(*args, **kwargs)\n",
      "C:\\Users\\matts\\AppData\\Local\\Continuum\\anaconda3\\envs\\radar\\lib\\site-packages\\metpy\\xarray.py:570: MetpyDeprecationWarning: The get_wind_components function was deprecated in version 0.9. This function has been renamed wind_components.\n",
      "  return func(*args, **kwargs)\n",
      "C:\\Users\\matts\\AppData\\Local\\Continuum\\anaconda3\\envs\\radar\\lib\\site-packages\\metpy\\xarray.py:570: MetpyDeprecationWarning: The get_wind_components function was deprecated in version 0.9. This function has been renamed wind_components.\n",
      "  return func(*args, **kwargs)\n",
      "C:\\Users\\matts\\AppData\\Local\\Continuum\\anaconda3\\envs\\radar\\lib\\site-packages\\metpy\\xarray.py:570: MetpyDeprecationWarning: The get_wind_components function was deprecated in version 0.9. This function has been renamed wind_components.\n",
      "  return func(*args, **kwargs)\n",
      "C:\\Users\\matts\\AppData\\Local\\Continuum\\anaconda3\\envs\\radar\\lib\\site-packages\\metpy\\xarray.py:570: MetpyDeprecationWarning: The get_wind_components function was deprecated in version 0.9. This function has been renamed wind_components.\n",
      "  return func(*args, **kwargs)\n",
      "C:\\Users\\matts\\AppData\\Local\\Continuum\\anaconda3\\envs\\radar\\lib\\site-packages\\metpy\\xarray.py:570: MetpyDeprecationWarning: The get_wind_components function was deprecated in version 0.9. This function has been renamed wind_components.\n",
      "  return func(*args, **kwargs)\n",
      "C:\\Users\\matts\\Documents\\Python Scripts\\SPORK\\ridiculous_framework_devSPINLOCAL.py:692: RuntimeWarning: invalid value encountered in double_scalars\n",
      "  col_con_centroid_lon.append(np.sum(weighted_lons_col) / np.sum(col_areas_arr[np.where(col_storm_lon == max_lons_c[i[0]])]))\n",
      "C:\\Users\\matts\\Documents\\Python Scripts\\SPORK\\ridiculous_framework_devSPINLOCAL.py:694: RuntimeWarning: invalid value encountered in double_scalars\n",
      "  col_con_centroid_lat.append(np.sum(weighted_lats_col) / np.sum(col_areas_arr[np.where(col_storm_lon == max_lons_c[i[0]])]))\n",
      "C:\\Users\\matts\\Documents\\Python Scripts\\SPORK\\ridiculous_framework_devSPINLOCAL.py:546: RuntimeWarning: invalid value encountered in double_scalars\n",
      "  hail_con_centroid_lon.append(np.sum(weighted_lons_hail) / np.sum(hail_areas_arr[np.where(hail_storm_lon == max_lons_c[i[0]])]))\n",
      "C:\\Users\\matts\\Documents\\Python Scripts\\SPORK\\ridiculous_framework_devSPINLOCAL.py:548: RuntimeWarning: invalid value encountered in double_scalars\n",
      "  hail_con_centroid_lat.append(np.sum(weighted_lats_hail) / np.sum(hail_areas_arr[np.where(hail_storm_lon == max_lons_c[i[0]])]))\n",
      "C:\\Users\\matts\\Documents\\Python Scripts\\SPORK\\ridiculous_framework_devSPINLOCAL.py:780: RuntimeWarning: invalid value encountered in true_divide\n",
      "  shaped_ang = (180-np.abs(shaped_ang))*(shaped_ang/np.abs(shaped_ang))\n"
     ]
    },
    {
     "name": "stdout",
     "output_type": "stream",
     "text": [
      "Figure Saved\n",
      "[0, 2.4492452099357913, 0, 1.6393681998138026, 2.484127898635187]\n",
      "[0, 2.411430302560782, 0, 1.8351901806216784, 2.3128866795610916]\n",
      "[0, 2.4635052302123994, 0, 2.2237744499894294, 2.1182482946157424]\n",
      "[0, 2.541131354850057, 0, 2.5933411383824425, 1.607669128093379]\n",
      "File Reading\n",
      "Pre-grid Organization Section\n",
      "0.50629425\n",
      "bad split cut\n",
      "0.48531342\n",
      "0.8725586\n",
      "bad split cut\n",
      "0.87890625\n",
      "1.3677826\n",
      "bad split cut\n",
      "1.318428\n",
      "1.8089905\n",
      "2.4073792\n",
      "3.126175\n",
      "4.0059357\n",
      "5.1006927\n",
      "6.4653015\n",
      "7.9871974\n",
      "10.025223\n",
      "12.479463\n",
      "15.603974\n",
      "19.495193\n",
      "KDP Section\n",
      "Grid Section\n"
     ]
    },
    {
     "name": "stderr",
     "output_type": "stream",
     "text": [
      "C:\\Users\\matts\\AppData\\Local\\Continuum\\anaconda3\\envs\\radar\\lib\\site-packages\\pyart\\map\\gates_to_grid.py:177: DeprecationWarning: Barnes weighting function is deprecated. Please use Barnes 2 to be consistent with Pauley and Wu 1990.\n",
      "  \" Pauley and Wu 1990.\", DeprecationWarning)\n",
      "C:\\Users\\matts\\AppData\\Local\\Continuum\\anaconda3\\envs\\radar\\lib\\site-packages\\pyart\\map\\gates_to_grid.py:177: DeprecationWarning: Barnes weighting function is deprecated. Please use Barnes 2 to be consistent with Pauley and Wu 1990.\n",
      "  \" Pauley and Wu 1990.\", DeprecationWarning)\n"
     ]
    },
    {
     "name": "stdout",
     "output_type": "stream",
     "text": [
      "Gradient Analysis and Masking\n"
     ]
    },
    {
     "name": "stderr",
     "output_type": "stream",
     "text": [
      "C:\\Users\\matts\\AppData\\Local\\Continuum\\anaconda3\\envs\\radar\\lib\\site-packages\\metpy\\xarray.py:570: MetpyDeprecationWarning: The get_wind_dir function was deprecated in version 0.9. This function has been renamed wind_direction.\n",
      "  return func(*args, **kwargs)\n",
      "C:\\Users\\matts\\AppData\\Local\\Continuum\\anaconda3\\envs\\radar\\lib\\site-packages\\metpy\\xarray.py:570: MetpyDeprecationWarning: The get_wind_speed function was deprecated in version 0.9. This function has been renamed wind_speed.\n",
      "  return func(*args, **kwargs)\n"
     ]
    },
    {
     "name": "stdout",
     "output_type": "stream",
     "text": [
      "[[  0   1   2 ... 497 498 499]\n",
      " [  0   1   2 ... 497 498 499]\n",
      " [  0   1   2 ... 497 498 499]\n",
      " ...\n",
      " [  0   1   2 ... 497 498 499]\n",
      " [  0   1   2 ... 497 498 499]\n",
      " [  0   1   2 ... 497 498 499]]\n",
      "(500, 500)\n",
      "(-94.84111022949219, 31.45055389404297, <cartopy.crs.PlateCarree object at 0x0000018B87DBD3B8>)\n",
      "Testfig Saved\n"
     ]
    },
    {
     "name": "stderr",
     "output_type": "stream",
     "text": [
      "C:\\Users\\matts\\AppData\\Local\\Continuum\\anaconda3\\envs\\radar\\lib\\site-packages\\metpy\\xarray.py:570: MetpyDeprecationWarning: The get_wind_components function was deprecated in version 0.9. This function has been renamed wind_components.\n",
      "  return func(*args, **kwargs)\n",
      "C:\\Users\\matts\\AppData\\Local\\Continuum\\anaconda3\\envs\\radar\\lib\\site-packages\\metpy\\xarray.py:570: MetpyDeprecationWarning: The get_wind_components function was deprecated in version 0.9. This function has been renamed wind_components.\n",
      "  return func(*args, **kwargs)\n",
      "C:\\Users\\matts\\AppData\\Local\\Continuum\\anaconda3\\envs\\radar\\lib\\site-packages\\metpy\\xarray.py:570: MetpyDeprecationWarning: The get_wind_components function was deprecated in version 0.9. This function has been renamed wind_components.\n",
      "  return func(*args, **kwargs)\n",
      "C:\\Users\\matts\\AppData\\Local\\Continuum\\anaconda3\\envs\\radar\\lib\\site-packages\\metpy\\xarray.py:570: MetpyDeprecationWarning: The get_wind_components function was deprecated in version 0.9. This function has been renamed wind_components.\n",
      "  return func(*args, **kwargs)\n",
      "C:\\Users\\matts\\AppData\\Local\\Continuum\\anaconda3\\envs\\radar\\lib\\site-packages\\metpy\\xarray.py:570: MetpyDeprecationWarning: The get_wind_components function was deprecated in version 0.9. This function has been renamed wind_components.\n",
      "  return func(*args, **kwargs)\n",
      "C:\\Users\\matts\\AppData\\Local\\Continuum\\anaconda3\\envs\\radar\\lib\\site-packages\\metpy\\xarray.py:570: MetpyDeprecationWarning: The get_wind_components function was deprecated in version 0.9. This function has been renamed wind_components.\n",
      "  return func(*args, **kwargs)\n",
      "C:\\Users\\matts\\AppData\\Local\\Continuum\\anaconda3\\envs\\radar\\lib\\site-packages\\metpy\\xarray.py:570: MetpyDeprecationWarning: The get_wind_components function was deprecated in version 0.9. This function has been renamed wind_components.\n",
      "  return func(*args, **kwargs)\n",
      "C:\\Users\\matts\\AppData\\Local\\Continuum\\anaconda3\\envs\\radar\\lib\\site-packages\\metpy\\xarray.py:570: MetpyDeprecationWarning: The get_wind_components function was deprecated in version 0.9. This function has been renamed wind_components.\n",
      "  return func(*args, **kwargs)\n",
      "C:\\Users\\matts\\Documents\\Python Scripts\\SPORK\\ridiculous_framework_devSPINLOCAL.py:546: RuntimeWarning: invalid value encountered in double_scalars\n",
      "  hail_con_centroid_lon.append(np.sum(weighted_lons_hail) / np.sum(hail_areas_arr[np.where(hail_storm_lon == max_lons_c[i[0]])]))\n",
      "C:\\Users\\matts\\Documents\\Python Scripts\\SPORK\\ridiculous_framework_devSPINLOCAL.py:548: RuntimeWarning: invalid value encountered in double_scalars\n",
      "  hail_con_centroid_lat.append(np.sum(weighted_lats_hail) / np.sum(hail_areas_arr[np.where(hail_storm_lon == max_lons_c[i[0]])]))\n",
      "C:\\Users\\matts\\Documents\\Python Scripts\\SPORK\\ridiculous_framework_devSPINLOCAL.py:692: RuntimeWarning: invalid value encountered in double_scalars\n",
      "  col_con_centroid_lon.append(np.sum(weighted_lons_col) / np.sum(col_areas_arr[np.where(col_storm_lon == max_lons_c[i[0]])]))\n",
      "C:\\Users\\matts\\Documents\\Python Scripts\\SPORK\\ridiculous_framework_devSPINLOCAL.py:694: RuntimeWarning: invalid value encountered in double_scalars\n",
      "  col_con_centroid_lat.append(np.sum(weighted_lats_col) / np.sum(col_areas_arr[np.where(col_storm_lon == max_lons_c[i[0]])]))\n",
      "C:\\Users\\matts\\Documents\\Python Scripts\\SPORK\\ridiculous_framework_devSPINLOCAL.py:780: RuntimeWarning: invalid value encountered in true_divide\n",
      "  shaped_ang = (180-np.abs(shaped_ang))*(shaped_ang/np.abs(shaped_ang))\n"
     ]
    },
    {
     "name": "stdout",
     "output_type": "stream",
     "text": [
      "Figure Saved\n",
      "[2.6406000200570547, 2.4482346736405227, 1.7338898284021411]\n",
      "[2.896798014539955, 2.5374083311897584, 1.9225038698632753]\n",
      "[2.7003323892244184, 2.622863973821044, 2.260396347978534]\n",
      "[2.447925403775576, 2.7367713149035917, 2.38242621149547]\n",
      "File Reading\n",
      "Pre-grid Organization Section\n",
      "0.5062332\n",
      "bad split cut\n",
      "0.48339844\n",
      "0.87137604\n",
      "bad split cut\n",
      "0.87890625\n",
      "1.3399887\n",
      "bad split cut\n",
      "1.3208923\n",
      "1.8092651\n",
      "2.4065094\n",
      "3.126999\n",
      "4.0059357\n",
      "5.099182\n",
      "6.4659424\n",
      "7.9873962\n",
      "10.025177\n",
      "12.477998\n",
      "15.60527\n",
      "19.498932\n",
      "KDP Section\n",
      "Grid Section\n"
     ]
    },
    {
     "name": "stderr",
     "output_type": "stream",
     "text": [
      "C:\\Users\\matts\\AppData\\Local\\Continuum\\anaconda3\\envs\\radar\\lib\\site-packages\\pyart\\map\\gates_to_grid.py:177: DeprecationWarning: Barnes weighting function is deprecated. Please use Barnes 2 to be consistent with Pauley and Wu 1990.\n",
      "  \" Pauley and Wu 1990.\", DeprecationWarning)\n",
      "C:\\Users\\matts\\AppData\\Local\\Continuum\\anaconda3\\envs\\radar\\lib\\site-packages\\pyart\\map\\gates_to_grid.py:177: DeprecationWarning: Barnes weighting function is deprecated. Please use Barnes 2 to be consistent with Pauley and Wu 1990.\n",
      "  \" Pauley and Wu 1990.\", DeprecationWarning)\n"
     ]
    },
    {
     "name": "stdout",
     "output_type": "stream",
     "text": [
      "Gradient Analysis and Masking\n"
     ]
    },
    {
     "name": "stderr",
     "output_type": "stream",
     "text": [
      "C:\\Users\\matts\\AppData\\Local\\Continuum\\anaconda3\\envs\\radar\\lib\\site-packages\\metpy\\xarray.py:570: MetpyDeprecationWarning: The get_wind_dir function was deprecated in version 0.9. This function has been renamed wind_direction.\n",
      "  return func(*args, **kwargs)\n",
      "C:\\Users\\matts\\AppData\\Local\\Continuum\\anaconda3\\envs\\radar\\lib\\site-packages\\metpy\\xarray.py:570: MetpyDeprecationWarning: The get_wind_speed function was deprecated in version 0.9. This function has been renamed wind_speed.\n",
      "  return func(*args, **kwargs)\n"
     ]
    },
    {
     "name": "stdout",
     "output_type": "stream",
     "text": [
      "[[  0   1   2 ... 497 498 499]\n",
      " [  0   1   2 ... 497 498 499]\n",
      " [  0   1   2 ... 497 498 499]\n",
      " ...\n",
      " [  0   1   2 ... 497 498 499]\n",
      " [  0   1   2 ... 497 498 499]\n",
      " [  0   1   2 ... 497 498 499]]\n",
      "(500, 500)\n",
      "(-94.84111022949219, 31.45055389404297, <cartopy.crs.PlateCarree object at 0x0000018B879FA8E0>)\n",
      "Testfig Saved\n"
     ]
    },
    {
     "name": "stderr",
     "output_type": "stream",
     "text": [
      "C:\\Users\\matts\\AppData\\Local\\Continuum\\anaconda3\\envs\\radar\\lib\\site-packages\\metpy\\xarray.py:570: MetpyDeprecationWarning: The get_wind_components function was deprecated in version 0.9. This function has been renamed wind_components.\n",
      "  return func(*args, **kwargs)\n",
      "C:\\Users\\matts\\AppData\\Local\\Continuum\\anaconda3\\envs\\radar\\lib\\site-packages\\metpy\\xarray.py:570: MetpyDeprecationWarning: The get_wind_components function was deprecated in version 0.9. This function has been renamed wind_components.\n",
      "  return func(*args, **kwargs)\n",
      "C:\\Users\\matts\\AppData\\Local\\Continuum\\anaconda3\\envs\\radar\\lib\\site-packages\\metpy\\xarray.py:570: MetpyDeprecationWarning: The get_wind_components function was deprecated in version 0.9. This function has been renamed wind_components.\n",
      "  return func(*args, **kwargs)\n",
      "C:\\Users\\matts\\AppData\\Local\\Continuum\\anaconda3\\envs\\radar\\lib\\site-packages\\metpy\\xarray.py:570: MetpyDeprecationWarning: The get_wind_components function was deprecated in version 0.9. This function has been renamed wind_components.\n",
      "  return func(*args, **kwargs)\n",
      "C:\\Users\\matts\\AppData\\Local\\Continuum\\anaconda3\\envs\\radar\\lib\\site-packages\\metpy\\xarray.py:570: MetpyDeprecationWarning: The get_wind_components function was deprecated in version 0.9. This function has been renamed wind_components.\n",
      "  return func(*args, **kwargs)\n",
      "C:\\Users\\matts\\AppData\\Local\\Continuum\\anaconda3\\envs\\radar\\lib\\site-packages\\metpy\\xarray.py:570: MetpyDeprecationWarning: The get_wind_components function was deprecated in version 0.9. This function has been renamed wind_components.\n",
      "  return func(*args, **kwargs)\n",
      "C:\\Users\\matts\\AppData\\Local\\Continuum\\anaconda3\\envs\\radar\\lib\\site-packages\\metpy\\xarray.py:570: MetpyDeprecationWarning: The get_wind_components function was deprecated in version 0.9. This function has been renamed wind_components.\n",
      "  return func(*args, **kwargs)\n",
      "C:\\Users\\matts\\AppData\\Local\\Continuum\\anaconda3\\envs\\radar\\lib\\site-packages\\metpy\\xarray.py:570: MetpyDeprecationWarning: The get_wind_components function was deprecated in version 0.9. This function has been renamed wind_components.\n",
      "  return func(*args, **kwargs)\n",
      "C:\\Users\\matts\\AppData\\Local\\Continuum\\anaconda3\\envs\\radar\\lib\\site-packages\\metpy\\xarray.py:570: MetpyDeprecationWarning: The get_wind_components function was deprecated in version 0.9. This function has been renamed wind_components.\n",
      "  return func(*args, **kwargs)\n",
      "C:\\Users\\matts\\AppData\\Local\\Continuum\\anaconda3\\envs\\radar\\lib\\site-packages\\metpy\\xarray.py:570: MetpyDeprecationWarning: The get_wind_components function was deprecated in version 0.9. This function has been renamed wind_components.\n",
      "  return func(*args, **kwargs)\n",
      "C:\\Users\\matts\\AppData\\Local\\Continuum\\anaconda3\\envs\\radar\\lib\\site-packages\\metpy\\xarray.py:570: MetpyDeprecationWarning: The get_wind_components function was deprecated in version 0.9. This function has been renamed wind_components.\n",
      "  return func(*args, **kwargs)\n",
      "C:\\Users\\matts\\AppData\\Local\\Continuum\\anaconda3\\envs\\radar\\lib\\site-packages\\metpy\\xarray.py:570: MetpyDeprecationWarning: The get_wind_components function was deprecated in version 0.9. This function has been renamed wind_components.\n",
      "  return func(*args, **kwargs)\n",
      "C:\\Users\\matts\\Documents\\Python Scripts\\SPORK\\ridiculous_framework_devSPINLOCAL.py:546: RuntimeWarning: invalid value encountered in double_scalars\n",
      "  hail_con_centroid_lon.append(np.sum(weighted_lons_hail) / np.sum(hail_areas_arr[np.where(hail_storm_lon == max_lons_c[i[0]])]))\n",
      "C:\\Users\\matts\\Documents\\Python Scripts\\SPORK\\ridiculous_framework_devSPINLOCAL.py:548: RuntimeWarning: invalid value encountered in double_scalars\n",
      "  hail_con_centroid_lat.append(np.sum(weighted_lats_hail) / np.sum(hail_areas_arr[np.where(hail_storm_lon == max_lons_c[i[0]])]))\n",
      "C:\\Users\\matts\\Documents\\Python Scripts\\SPORK\\ridiculous_framework_devSPINLOCAL.py:692: RuntimeWarning: invalid value encountered in double_scalars\n",
      "  col_con_centroid_lon.append(np.sum(weighted_lons_col) / np.sum(col_areas_arr[np.where(col_storm_lon == max_lons_c[i[0]])]))\n",
      "C:\\Users\\matts\\Documents\\Python Scripts\\SPORK\\ridiculous_framework_devSPINLOCAL.py:694: RuntimeWarning: invalid value encountered in double_scalars\n",
      "  col_con_centroid_lat.append(np.sum(weighted_lats_col) / np.sum(col_areas_arr[np.where(col_storm_lon == max_lons_c[i[0]])]))\n",
      "C:\\Users\\matts\\Documents\\Python Scripts\\SPORK\\ridiculous_framework_devSPINLOCAL.py:780: RuntimeWarning: invalid value encountered in true_divide\n",
      "  shaped_ang = (180-np.abs(shaped_ang))*(shaped_ang/np.abs(shaped_ang))\n"
     ]
    },
    {
     "name": "stdout",
     "output_type": "stream",
     "text": [
      "Figure Saved\n",
      "[2.116904075821321, 2.594150875923092, 0, 2.913007976495367]\n",
      "[2.0049557955664725, 2.8136064793476065, 0, 2.7862428373972286]\n",
      "[1.9402202687709769, 2.9923805554961653, 1.7913367041982187, 2.552871270179501]\n",
      "[1.902858538510072, 3.07370164913947, 2.0864883334889055, 2.2912755421303355]\n",
      "File Reading\n",
      "Pre-grid Organization Section\n",
      "0.50348663\n",
      "bad split cut\n",
      "0.48339844\n",
      "0.8724365\n",
      "bad split cut\n",
      "0.87890625\n",
      "1.3697281\n",
      "bad split cut\n",
      "1.3623047\n",
      "1.8090515\n",
      "2.4082642\n",
      "3.1259766\n",
      "4.0058746\n",
      "5.1007233\n",
      "6.4664307\n",
      "7.986404\n",
      "10.025742\n",
      "12.479446\n",
      "15.605148\n",
      "19.494797\n",
      "KDP Section\n",
      "Grid Section\n"
     ]
    },
    {
     "name": "stderr",
     "output_type": "stream",
     "text": [
      "C:\\Users\\matts\\AppData\\Local\\Continuum\\anaconda3\\envs\\radar\\lib\\site-packages\\pyart\\map\\gates_to_grid.py:177: DeprecationWarning: Barnes weighting function is deprecated. Please use Barnes 2 to be consistent with Pauley and Wu 1990.\n",
      "  \" Pauley and Wu 1990.\", DeprecationWarning)\n",
      "C:\\Users\\matts\\AppData\\Local\\Continuum\\anaconda3\\envs\\radar\\lib\\site-packages\\pyart\\map\\gates_to_grid.py:177: DeprecationWarning: Barnes weighting function is deprecated. Please use Barnes 2 to be consistent with Pauley and Wu 1990.\n",
      "  \" Pauley and Wu 1990.\", DeprecationWarning)\n"
     ]
    },
    {
     "name": "stdout",
     "output_type": "stream",
     "text": [
      "Gradient Analysis and Masking\n"
     ]
    },
    {
     "name": "stderr",
     "output_type": "stream",
     "text": [
      "C:\\Users\\matts\\AppData\\Local\\Continuum\\anaconda3\\envs\\radar\\lib\\site-packages\\metpy\\xarray.py:570: MetpyDeprecationWarning: The get_wind_dir function was deprecated in version 0.9. This function has been renamed wind_direction.\n",
      "  return func(*args, **kwargs)\n",
      "C:\\Users\\matts\\AppData\\Local\\Continuum\\anaconda3\\envs\\radar\\lib\\site-packages\\metpy\\xarray.py:570: MetpyDeprecationWarning: The get_wind_speed function was deprecated in version 0.9. This function has been renamed wind_speed.\n",
      "  return func(*args, **kwargs)\n"
     ]
    },
    {
     "name": "stdout",
     "output_type": "stream",
     "text": [
      "[[  0   1   2 ... 497 498 499]\n",
      " [  0   1   2 ... 497 498 499]\n",
      " [  0   1   2 ... 497 498 499]\n",
      " ...\n",
      " [  0   1   2 ... 497 498 499]\n",
      " [  0   1   2 ... 497 498 499]\n",
      " [  0   1   2 ... 497 498 499]]\n",
      "(500, 500)\n",
      "(-94.84111022949219, 31.45055389404297, <cartopy.crs.PlateCarree object at 0x0000018B87DBBE60>)\n",
      "Testfig Saved\n"
     ]
    },
    {
     "name": "stderr",
     "output_type": "stream",
     "text": [
      "C:\\Users\\matts\\AppData\\Local\\Continuum\\anaconda3\\envs\\radar\\lib\\site-packages\\metpy\\xarray.py:570: MetpyDeprecationWarning: The get_wind_components function was deprecated in version 0.9. This function has been renamed wind_components.\n",
      "  return func(*args, **kwargs)\n",
      "C:\\Users\\matts\\AppData\\Local\\Continuum\\anaconda3\\envs\\radar\\lib\\site-packages\\metpy\\xarray.py:570: MetpyDeprecationWarning: The get_wind_components function was deprecated in version 0.9. This function has been renamed wind_components.\n",
      "  return func(*args, **kwargs)\n",
      "C:\\Users\\matts\\AppData\\Local\\Continuum\\anaconda3\\envs\\radar\\lib\\site-packages\\metpy\\xarray.py:570: MetpyDeprecationWarning: The get_wind_components function was deprecated in version 0.9. This function has been renamed wind_components.\n",
      "  return func(*args, **kwargs)\n",
      "C:\\Users\\matts\\AppData\\Local\\Continuum\\anaconda3\\envs\\radar\\lib\\site-packages\\metpy\\xarray.py:570: MetpyDeprecationWarning: The get_wind_components function was deprecated in version 0.9. This function has been renamed wind_components.\n",
      "  return func(*args, **kwargs)\n",
      "C:\\Users\\matts\\AppData\\Local\\Continuum\\anaconda3\\envs\\radar\\lib\\site-packages\\metpy\\xarray.py:570: MetpyDeprecationWarning: The get_wind_components function was deprecated in version 0.9. This function has been renamed wind_components.\n",
      "  return func(*args, **kwargs)\n",
      "C:\\Users\\matts\\AppData\\Local\\Continuum\\anaconda3\\envs\\radar\\lib\\site-packages\\metpy\\xarray.py:570: MetpyDeprecationWarning: The get_wind_components function was deprecated in version 0.9. This function has been renamed wind_components.\n",
      "  return func(*args, **kwargs)\n",
      "C:\\Users\\matts\\AppData\\Local\\Continuum\\anaconda3\\envs\\radar\\lib\\site-packages\\metpy\\xarray.py:570: MetpyDeprecationWarning: The get_wind_components function was deprecated in version 0.9. This function has been renamed wind_components.\n",
      "  return func(*args, **kwargs)\n",
      "C:\\Users\\matts\\AppData\\Local\\Continuum\\anaconda3\\envs\\radar\\lib\\site-packages\\metpy\\xarray.py:570: MetpyDeprecationWarning: The get_wind_components function was deprecated in version 0.9. This function has been renamed wind_components.\n",
      "  return func(*args, **kwargs)\n",
      "C:\\Users\\matts\\AppData\\Local\\Continuum\\anaconda3\\envs\\radar\\lib\\site-packages\\metpy\\xarray.py:570: MetpyDeprecationWarning: The get_wind_components function was deprecated in version 0.9. This function has been renamed wind_components.\n",
      "  return func(*args, **kwargs)\n",
      "C:\\Users\\matts\\AppData\\Local\\Continuum\\anaconda3\\envs\\radar\\lib\\site-packages\\metpy\\xarray.py:570: MetpyDeprecationWarning: The get_wind_components function was deprecated in version 0.9. This function has been renamed wind_components.\n",
      "  return func(*args, **kwargs)\n",
      "C:\\Users\\matts\\Documents\\Python Scripts\\SPORK\\ridiculous_framework_devSPINLOCAL.py:546: RuntimeWarning: invalid value encountered in double_scalars\n",
      "  hail_con_centroid_lon.append(np.sum(weighted_lons_hail) / np.sum(hail_areas_arr[np.where(hail_storm_lon == max_lons_c[i[0]])]))\n",
      "C:\\Users\\matts\\Documents\\Python Scripts\\SPORK\\ridiculous_framework_devSPINLOCAL.py:548: RuntimeWarning: invalid value encountered in double_scalars\n",
      "  hail_con_centroid_lat.append(np.sum(weighted_lats_hail) / np.sum(hail_areas_arr[np.where(hail_storm_lon == max_lons_c[i[0]])]))\n",
      "C:\\Users\\matts\\Documents\\Python Scripts\\SPORK\\ridiculous_framework_devSPINLOCAL.py:780: RuntimeWarning: invalid value encountered in true_divide\n",
      "  shaped_ang = (180-np.abs(shaped_ang))*(shaped_ang/np.abs(shaped_ang))\n"
     ]
    },
    {
     "name": "stdout",
     "output_type": "stream",
     "text": [
      "Figure Saved\n",
      "[1.9978387245804008, 2.9123892535987355, 0]\n",
      "[1.904177371499157, 2.9109510505653997, 0]\n",
      "[1.831664409850558, 2.970935986812388, 0]\n",
      "[1.8035824365688318, 3.126029634581725, 1.7067879881292547]\n",
      "File Reading\n",
      "Pre-grid Organization Section\n",
      "0.50414276\n",
      "bad split cut\n",
      "0.48339844\n",
      "0.8763733\n",
      "bad split cut\n",
      "0.87890625\n",
      "1.3305511\n",
      "bad split cut\n",
      "1.3183594\n",
      "1.8086548\n",
      "2.4062195\n",
      "3.131958\n",
      "4.006424\n",
      "5.103119\n",
      "6.4281616\n",
      "7.986389\n",
      "10.025909\n",
      "12.479888\n",
      "15.605179\n",
      "19.495697\n",
      "KDP Section\n",
      "Grid Section\n"
     ]
    },
    {
     "name": "stderr",
     "output_type": "stream",
     "text": [
      "C:\\Users\\matts\\AppData\\Local\\Continuum\\anaconda3\\envs\\radar\\lib\\site-packages\\pyart\\map\\gates_to_grid.py:177: DeprecationWarning: Barnes weighting function is deprecated. Please use Barnes 2 to be consistent with Pauley and Wu 1990.\n",
      "  \" Pauley and Wu 1990.\", DeprecationWarning)\n",
      "C:\\Users\\matts\\AppData\\Local\\Continuum\\anaconda3\\envs\\radar\\lib\\site-packages\\pyart\\map\\gates_to_grid.py:177: DeprecationWarning: Barnes weighting function is deprecated. Please use Barnes 2 to be consistent with Pauley and Wu 1990.\n",
      "  \" Pauley and Wu 1990.\", DeprecationWarning)\n"
     ]
    },
    {
     "name": "stdout",
     "output_type": "stream",
     "text": [
      "Gradient Analysis and Masking\n"
     ]
    },
    {
     "name": "stderr",
     "output_type": "stream",
     "text": [
      "C:\\Users\\matts\\AppData\\Local\\Continuum\\anaconda3\\envs\\radar\\lib\\site-packages\\metpy\\xarray.py:570: MetpyDeprecationWarning: The get_wind_dir function was deprecated in version 0.9. This function has been renamed wind_direction.\n",
      "  return func(*args, **kwargs)\n",
      "C:\\Users\\matts\\AppData\\Local\\Continuum\\anaconda3\\envs\\radar\\lib\\site-packages\\metpy\\xarray.py:570: MetpyDeprecationWarning: The get_wind_speed function was deprecated in version 0.9. This function has been renamed wind_speed.\n",
      "  return func(*args, **kwargs)\n"
     ]
    },
    {
     "name": "stdout",
     "output_type": "stream",
     "text": [
      "[[  0   1   2 ... 497 498 499]\n",
      " [  0   1   2 ... 497 498 499]\n",
      " [  0   1   2 ... 497 498 499]\n",
      " ...\n",
      " [  0   1   2 ... 497 498 499]\n",
      " [  0   1   2 ... 497 498 499]\n",
      " [  0   1   2 ... 497 498 499]]\n",
      "(500, 500)\n",
      "(-94.84111022949219, 31.45055389404297, <cartopy.crs.PlateCarree object at 0x0000018B8777FCA8>)\n",
      "Testfig Saved\n"
     ]
    },
    {
     "name": "stderr",
     "output_type": "stream",
     "text": [
      "C:\\Users\\matts\\AppData\\Local\\Continuum\\anaconda3\\envs\\radar\\lib\\site-packages\\metpy\\xarray.py:570: MetpyDeprecationWarning: The get_wind_components function was deprecated in version 0.9. This function has been renamed wind_components.\n",
      "  return func(*args, **kwargs)\n",
      "C:\\Users\\matts\\AppData\\Local\\Continuum\\anaconda3\\envs\\radar\\lib\\site-packages\\metpy\\xarray.py:570: MetpyDeprecationWarning: The get_wind_components function was deprecated in version 0.9. This function has been renamed wind_components.\n",
      "  return func(*args, **kwargs)\n",
      "C:\\Users\\matts\\AppData\\Local\\Continuum\\anaconda3\\envs\\radar\\lib\\site-packages\\metpy\\xarray.py:570: MetpyDeprecationWarning: The get_wind_components function was deprecated in version 0.9. This function has been renamed wind_components.\n",
      "  return func(*args, **kwargs)\n",
      "C:\\Users\\matts\\AppData\\Local\\Continuum\\anaconda3\\envs\\radar\\lib\\site-packages\\metpy\\xarray.py:570: MetpyDeprecationWarning: The get_wind_components function was deprecated in version 0.9. This function has been renamed wind_components.\n",
      "  return func(*args, **kwargs)\n",
      "C:\\Users\\matts\\AppData\\Local\\Continuum\\anaconda3\\envs\\radar\\lib\\site-packages\\metpy\\xarray.py:570: MetpyDeprecationWarning: The get_wind_components function was deprecated in version 0.9. This function has been renamed wind_components.\n",
      "  return func(*args, **kwargs)\n",
      "C:\\Users\\matts\\AppData\\Local\\Continuum\\anaconda3\\envs\\radar\\lib\\site-packages\\metpy\\xarray.py:570: MetpyDeprecationWarning: The get_wind_components function was deprecated in version 0.9. This function has been renamed wind_components.\n",
      "  return func(*args, **kwargs)\n",
      "C:\\Users\\matts\\AppData\\Local\\Continuum\\anaconda3\\envs\\radar\\lib\\site-packages\\metpy\\xarray.py:570: MetpyDeprecationWarning: The get_wind_components function was deprecated in version 0.9. This function has been renamed wind_components.\n",
      "  return func(*args, **kwargs)\n",
      "C:\\Users\\matts\\AppData\\Local\\Continuum\\anaconda3\\envs\\radar\\lib\\site-packages\\metpy\\xarray.py:570: MetpyDeprecationWarning: The get_wind_components function was deprecated in version 0.9. This function has been renamed wind_components.\n",
      "  return func(*args, **kwargs)\n",
      "C:\\Users\\matts\\AppData\\Local\\Continuum\\anaconda3\\envs\\radar\\lib\\site-packages\\metpy\\xarray.py:570: MetpyDeprecationWarning: The get_wind_components function was deprecated in version 0.9. This function has been renamed wind_components.\n",
      "  return func(*args, **kwargs)\n",
      "C:\\Users\\matts\\AppData\\Local\\Continuum\\anaconda3\\envs\\radar\\lib\\site-packages\\metpy\\xarray.py:570: MetpyDeprecationWarning: The get_wind_components function was deprecated in version 0.9. This function has been renamed wind_components.\n",
      "  return func(*args, **kwargs)\n",
      "C:\\Users\\matts\\AppData\\Local\\Continuum\\anaconda3\\envs\\radar\\lib\\site-packages\\metpy\\xarray.py:570: MetpyDeprecationWarning: The get_wind_components function was deprecated in version 0.9. This function has been renamed wind_components.\n",
      "  return func(*args, **kwargs)\n",
      "C:\\Users\\matts\\AppData\\Local\\Continuum\\anaconda3\\envs\\radar\\lib\\site-packages\\metpy\\xarray.py:570: MetpyDeprecationWarning: The get_wind_components function was deprecated in version 0.9. This function has been renamed wind_components.\n",
      "  return func(*args, **kwargs)\n",
      "C:\\Users\\matts\\AppData\\Local\\Continuum\\anaconda3\\envs\\radar\\lib\\site-packages\\metpy\\xarray.py:570: MetpyDeprecationWarning: The get_wind_components function was deprecated in version 0.9. This function has been renamed wind_components.\n",
      "  return func(*args, **kwargs)\n",
      "C:\\Users\\matts\\AppData\\Local\\Continuum\\anaconda3\\envs\\radar\\lib\\site-packages\\metpy\\xarray.py:570: MetpyDeprecationWarning: The get_wind_components function was deprecated in version 0.9. This function has been renamed wind_components.\n",
      "  return func(*args, **kwargs)\n",
      "C:\\Users\\matts\\Documents\\Python Scripts\\SPORK\\ridiculous_framework_devSPINLOCAL.py:692: RuntimeWarning: invalid value encountered in double_scalars\n",
      "  col_con_centroid_lon.append(np.sum(weighted_lons_col) / np.sum(col_areas_arr[np.where(col_storm_lon == max_lons_c[i[0]])]))\n",
      "C:\\Users\\matts\\Documents\\Python Scripts\\SPORK\\ridiculous_framework_devSPINLOCAL.py:694: RuntimeWarning: invalid value encountered in double_scalars\n",
      "  col_con_centroid_lat.append(np.sum(weighted_lats_col) / np.sum(col_areas_arr[np.where(col_storm_lon == max_lons_c[i[0]])]))\n",
      "C:\\Users\\matts\\Documents\\Python Scripts\\SPORK\\ridiculous_framework_devSPINLOCAL.py:546: RuntimeWarning: invalid value encountered in double_scalars\n",
      "  hail_con_centroid_lon.append(np.sum(weighted_lons_hail) / np.sum(hail_areas_arr[np.where(hail_storm_lon == max_lons_c[i[0]])]))\n",
      "C:\\Users\\matts\\Documents\\Python Scripts\\SPORK\\ridiculous_framework_devSPINLOCAL.py:548: RuntimeWarning: invalid value encountered in double_scalars\n",
      "  hail_con_centroid_lat.append(np.sum(weighted_lats_hail) / np.sum(hail_areas_arr[np.where(hail_storm_lon == max_lons_c[i[0]])]))\n",
      "C:\\Users\\matts\\Documents\\Python Scripts\\SPORK\\ridiculous_framework_devSPINLOCAL.py:780: RuntimeWarning: invalid value encountered in true_divide\n",
      "  shaped_ang = (180-np.abs(shaped_ang))*(shaped_ang/np.abs(shaped_ang))\n"
     ]
    },
    {
     "name": "stdout",
     "output_type": "stream",
     "text": [
      "Figure Saved\n",
      "[1.9555418905850757, 2.813605488185354, 1.6081174101236, 0]\n",
      "[1.8953557303923732, 2.9127006806600955, 1.642029788319856, 0]\n",
      "[1.8226930807943411, 3.0499113008027363, 1.5386669950495553, 0]\n",
      "[1.7880814978372022, 3.3006030344844404, 0, 0]\n",
      "File Reading\n",
      "Pre-grid Organization Section\n",
      "0.51252747\n",
      "bad split cut\n",
      "0.48339844\n",
      "0.87506866\n",
      "bad split cut\n",
      "0.87890625\n",
      "1.3305511\n",
      "bad split cut\n",
      "1.3183594\n",
      "1.8082886\n",
      "2.4086456\n",
      "3.125946\n",
      "4.005951\n",
      "5.1004944\n",
      "6.4662623\n",
      "7.9863744\n",
      "10.025635\n",
      "12.478455\n",
      "15.604463\n",
      "19.496704\n",
      "KDP Section\n",
      "Grid Section\n"
     ]
    },
    {
     "name": "stderr",
     "output_type": "stream",
     "text": [
      "C:\\Users\\matts\\AppData\\Local\\Continuum\\anaconda3\\envs\\radar\\lib\\site-packages\\pyart\\map\\gates_to_grid.py:177: DeprecationWarning: Barnes weighting function is deprecated. Please use Barnes 2 to be consistent with Pauley and Wu 1990.\n",
      "  \" Pauley and Wu 1990.\", DeprecationWarning)\n",
      "C:\\Users\\matts\\AppData\\Local\\Continuum\\anaconda3\\envs\\radar\\lib\\site-packages\\pyart\\map\\gates_to_grid.py:177: DeprecationWarning: Barnes weighting function is deprecated. Please use Barnes 2 to be consistent with Pauley and Wu 1990.\n",
      "  \" Pauley and Wu 1990.\", DeprecationWarning)\n"
     ]
    },
    {
     "name": "stdout",
     "output_type": "stream",
     "text": [
      "Gradient Analysis and Masking\n"
     ]
    },
    {
     "name": "stderr",
     "output_type": "stream",
     "text": [
      "C:\\Users\\matts\\AppData\\Local\\Continuum\\anaconda3\\envs\\radar\\lib\\site-packages\\metpy\\xarray.py:570: MetpyDeprecationWarning: The get_wind_dir function was deprecated in version 0.9. This function has been renamed wind_direction.\n",
      "  return func(*args, **kwargs)\n",
      "C:\\Users\\matts\\AppData\\Local\\Continuum\\anaconda3\\envs\\radar\\lib\\site-packages\\metpy\\xarray.py:570: MetpyDeprecationWarning: The get_wind_speed function was deprecated in version 0.9. This function has been renamed wind_speed.\n",
      "  return func(*args, **kwargs)\n"
     ]
    },
    {
     "name": "stdout",
     "output_type": "stream",
     "text": [
      "[[  0   1   2 ... 497 498 499]\n",
      " [  0   1   2 ... 497 498 499]\n",
      " [  0   1   2 ... 497 498 499]\n",
      " ...\n",
      " [  0   1   2 ... 497 498 499]\n",
      " [  0   1   2 ... 497 498 499]\n",
      " [  0   1   2 ... 497 498 499]]\n",
      "(500, 500)\n",
      "(-94.84111022949219, 31.45055389404297, <cartopy.crs.PlateCarree object at 0x0000018B87DB88E0>)\n",
      "Testfig Saved\n"
     ]
    },
    {
     "name": "stderr",
     "output_type": "stream",
     "text": [
      "C:\\Users\\matts\\AppData\\Local\\Continuum\\anaconda3\\envs\\radar\\lib\\site-packages\\metpy\\xarray.py:570: MetpyDeprecationWarning: The get_wind_components function was deprecated in version 0.9. This function has been renamed wind_components.\n",
      "  return func(*args, **kwargs)\n",
      "C:\\Users\\matts\\AppData\\Local\\Continuum\\anaconda3\\envs\\radar\\lib\\site-packages\\metpy\\xarray.py:570: MetpyDeprecationWarning: The get_wind_components function was deprecated in version 0.9. This function has been renamed wind_components.\n",
      "  return func(*args, **kwargs)\n",
      "C:\\Users\\matts\\AppData\\Local\\Continuum\\anaconda3\\envs\\radar\\lib\\site-packages\\metpy\\xarray.py:570: MetpyDeprecationWarning: The get_wind_components function was deprecated in version 0.9. This function has been renamed wind_components.\n",
      "  return func(*args, **kwargs)\n",
      "C:\\Users\\matts\\AppData\\Local\\Continuum\\anaconda3\\envs\\radar\\lib\\site-packages\\metpy\\xarray.py:570: MetpyDeprecationWarning: The get_wind_components function was deprecated in version 0.9. This function has been renamed wind_components.\n",
      "  return func(*args, **kwargs)\n",
      "C:\\Users\\matts\\AppData\\Local\\Continuum\\anaconda3\\envs\\radar\\lib\\site-packages\\metpy\\xarray.py:570: MetpyDeprecationWarning: The get_wind_components function was deprecated in version 0.9. This function has been renamed wind_components.\n",
      "  return func(*args, **kwargs)\n",
      "C:\\Users\\matts\\AppData\\Local\\Continuum\\anaconda3\\envs\\radar\\lib\\site-packages\\numpy\\core\\fromnumeric.py:3257: RuntimeWarning: Mean of empty slice.\n",
      "  out=out, **kwargs)\n",
      "C:\\Users\\matts\\AppData\\Local\\Continuum\\anaconda3\\envs\\radar\\lib\\site-packages\\numpy\\core\\_methods.py:161: RuntimeWarning: invalid value encountered in true_divide\n",
      "  ret = ret.dtype.type(ret / rcount)\n",
      "C:\\Users\\matts\\AppData\\Local\\Continuum\\anaconda3\\envs\\radar\\lib\\site-packages\\pint\\quantity.py:1357: RuntimeWarning: Mean of empty slice.\n",
      "  value = func(*args, **kwargs)\n"
     ]
    },
    {
     "name": "stdout",
     "output_type": "stream",
     "text": [
      "col_depth []\n"
     ]
    },
    {
     "name": "stderr",
     "output_type": "stream",
     "text": [
      "C:\\Users\\matts\\AppData\\Local\\Continuum\\anaconda3\\envs\\radar\\lib\\site-packages\\metpy\\xarray.py:570: MetpyDeprecationWarning: The get_wind_components function was deprecated in version 0.9. This function has been renamed wind_components.\n",
      "  return func(*args, **kwargs)\n",
      "C:\\Users\\matts\\AppData\\Local\\Continuum\\anaconda3\\envs\\radar\\lib\\site-packages\\metpy\\xarray.py:570: MetpyDeprecationWarning: The get_wind_components function was deprecated in version 0.9. This function has been renamed wind_components.\n",
      "  return func(*args, **kwargs)\n",
      "C:\\Users\\matts\\AppData\\Local\\Continuum\\anaconda3\\envs\\radar\\lib\\site-packages\\metpy\\xarray.py:570: MetpyDeprecationWarning: The get_wind_components function was deprecated in version 0.9. This function has been renamed wind_components.\n",
      "  return func(*args, **kwargs)\n",
      "C:\\Users\\matts\\AppData\\Local\\Continuum\\anaconda3\\envs\\radar\\lib\\site-packages\\metpy\\xarray.py:570: MetpyDeprecationWarning: The get_wind_components function was deprecated in version 0.9. This function has been renamed wind_components.\n",
      "  return func(*args, **kwargs)\n",
      "C:\\Users\\matts\\AppData\\Local\\Continuum\\anaconda3\\envs\\radar\\lib\\site-packages\\metpy\\xarray.py:570: MetpyDeprecationWarning: The get_wind_components function was deprecated in version 0.9. This function has been renamed wind_components.\n",
      "  return func(*args, **kwargs)\n",
      "C:\\Users\\matts\\AppData\\Local\\Continuum\\anaconda3\\envs\\radar\\lib\\site-packages\\metpy\\xarray.py:570: MetpyDeprecationWarning: The get_wind_components function was deprecated in version 0.9. This function has been renamed wind_components.\n",
      "  return func(*args, **kwargs)\n",
      "C:\\Users\\matts\\AppData\\Local\\Continuum\\anaconda3\\envs\\radar\\lib\\site-packages\\metpy\\xarray.py:570: MetpyDeprecationWarning: The get_wind_components function was deprecated in version 0.9. This function has been renamed wind_components.\n",
      "  return func(*args, **kwargs)\n",
      "C:\\Users\\matts\\AppData\\Local\\Continuum\\anaconda3\\envs\\radar\\lib\\site-packages\\metpy\\xarray.py:570: MetpyDeprecationWarning: The get_wind_components function was deprecated in version 0.9. This function has been renamed wind_components.\n",
      "  return func(*args, **kwargs)\n",
      "C:\\Users\\matts\\AppData\\Local\\Continuum\\anaconda3\\envs\\radar\\lib\\site-packages\\metpy\\xarray.py:570: MetpyDeprecationWarning: The get_wind_components function was deprecated in version 0.9. This function has been renamed wind_components.\n",
      "  return func(*args, **kwargs)\n",
      "C:\\Users\\matts\\AppData\\Local\\Continuum\\anaconda3\\envs\\radar\\lib\\site-packages\\metpy\\xarray.py:570: MetpyDeprecationWarning: The get_wind_components function was deprecated in version 0.9. This function has been renamed wind_components.\n",
      "  return func(*args, **kwargs)\n",
      "C:\\Users\\matts\\Documents\\Python Scripts\\SPORK\\ridiculous_framework_devSPINLOCAL.py:546: RuntimeWarning: invalid value encountered in double_scalars\n",
      "  hail_con_centroid_lon.append(np.sum(weighted_lons_hail) / np.sum(hail_areas_arr[np.where(hail_storm_lon == max_lons_c[i[0]])]))\n",
      "C:\\Users\\matts\\Documents\\Python Scripts\\SPORK\\ridiculous_framework_devSPINLOCAL.py:548: RuntimeWarning: invalid value encountered in double_scalars\n",
      "  hail_con_centroid_lat.append(np.sum(weighted_lats_hail) / np.sum(hail_areas_arr[np.where(hail_storm_lon == max_lons_c[i[0]])]))\n",
      "C:\\Users\\matts\\Documents\\Python Scripts\\SPORK\\ridiculous_framework_devSPINLOCAL.py:692: RuntimeWarning: invalid value encountered in double_scalars\n",
      "  col_con_centroid_lon.append(np.sum(weighted_lons_col) / np.sum(col_areas_arr[np.where(col_storm_lon == max_lons_c[i[0]])]))\n",
      "C:\\Users\\matts\\Documents\\Python Scripts\\SPORK\\ridiculous_framework_devSPINLOCAL.py:694: RuntimeWarning: invalid value encountered in double_scalars\n",
      "  col_con_centroid_lat.append(np.sum(weighted_lats_col) / np.sum(col_areas_arr[np.where(col_storm_lon == max_lons_c[i[0]])]))\n",
      "C:\\Users\\matts\\Documents\\Python Scripts\\SPORK\\ridiculous_framework_devSPINLOCAL.py:780: RuntimeWarning: invalid value encountered in true_divide\n",
      "  shaped_ang = (180-np.abs(shaped_ang))*(shaped_ang/np.abs(shaped_ang))\n"
     ]
    },
    {
     "name": "stdout",
     "output_type": "stream",
     "text": [
      "Figure Saved\n",
      "[2.1714692579413466, 3.0811825039702345, 0, 2.621463291705224, 0]\n",
      "[2.037958680169527, 3.180184998075843, 1.6202412434162048, 2.3881264936643785, 0]\n",
      "[1.958234471423765, 3.251624450866498, 1.696671605793085, 2.3633104895248156, 0]\n",
      "[1.9083838275910072, 3.409917278672715, 1.6916550072538388, 2.262838635738089, 0]\n",
      "File Reading\n",
      "Pre-grid Organization Section\n",
      "0.50341797\n",
      "bad split cut\n",
      "0.4859314\n",
      "0.8735962\n",
      "bad split cut\n",
      "0.87890625\n",
      "1.3315735\n",
      "bad split cut\n",
      "1.3183594\n",
      "1.8091736\n",
      "2.4060822\n",
      "3.1263885\n",
      "4.0061035\n",
      "5.099869\n",
      "6.4653172\n",
      "7.9886475\n",
      "10.023422\n",
      "12.484238\n",
      "15.595825\n",
      "19.502106\n",
      "KDP Section\n",
      "Grid Section\n"
     ]
    },
    {
     "name": "stderr",
     "output_type": "stream",
     "text": [
      "C:\\Users\\matts\\AppData\\Local\\Continuum\\anaconda3\\envs\\radar\\lib\\site-packages\\pyart\\map\\gates_to_grid.py:177: DeprecationWarning: Barnes weighting function is deprecated. Please use Barnes 2 to be consistent with Pauley and Wu 1990.\n",
      "  \" Pauley and Wu 1990.\", DeprecationWarning)\n",
      "C:\\Users\\matts\\AppData\\Local\\Continuum\\anaconda3\\envs\\radar\\lib\\site-packages\\pyart\\map\\gates_to_grid.py:177: DeprecationWarning: Barnes weighting function is deprecated. Please use Barnes 2 to be consistent with Pauley and Wu 1990.\n",
      "  \" Pauley and Wu 1990.\", DeprecationWarning)\n"
     ]
    },
    {
     "name": "stdout",
     "output_type": "stream",
     "text": [
      "Gradient Analysis and Masking\n"
     ]
    },
    {
     "name": "stderr",
     "output_type": "stream",
     "text": [
      "C:\\Users\\matts\\AppData\\Local\\Continuum\\anaconda3\\envs\\radar\\lib\\site-packages\\metpy\\xarray.py:570: MetpyDeprecationWarning: The get_wind_dir function was deprecated in version 0.9. This function has been renamed wind_direction.\n",
      "  return func(*args, **kwargs)\n",
      "C:\\Users\\matts\\AppData\\Local\\Continuum\\anaconda3\\envs\\radar\\lib\\site-packages\\metpy\\xarray.py:570: MetpyDeprecationWarning: The get_wind_speed function was deprecated in version 0.9. This function has been renamed wind_speed.\n",
      "  return func(*args, **kwargs)\n"
     ]
    },
    {
     "name": "stdout",
     "output_type": "stream",
     "text": [
      "[[  0   1   2 ... 497 498 499]\n",
      " [  0   1   2 ... 497 498 499]\n",
      " [  0   1   2 ... 497 498 499]\n",
      " ...\n",
      " [  0   1   2 ... 497 498 499]\n",
      " [  0   1   2 ... 497 498 499]\n",
      " [  0   1   2 ... 497 498 499]]\n",
      "(500, 500)\n",
      "(-94.84111022949219, 31.45055389404297, <cartopy.crs.PlateCarree object at 0x0000018B87DB8E08>)\n",
      "Testfig Saved\n"
     ]
    },
    {
     "name": "stderr",
     "output_type": "stream",
     "text": [
      "C:\\Users\\matts\\AppData\\Local\\Continuum\\anaconda3\\envs\\radar\\lib\\site-packages\\metpy\\xarray.py:570: MetpyDeprecationWarning: The get_wind_components function was deprecated in version 0.9. This function has been renamed wind_components.\n",
      "  return func(*args, **kwargs)\n",
      "C:\\Users\\matts\\AppData\\Local\\Continuum\\anaconda3\\envs\\radar\\lib\\site-packages\\metpy\\xarray.py:570: MetpyDeprecationWarning: The get_wind_components function was deprecated in version 0.9. This function has been renamed wind_components.\n",
      "  return func(*args, **kwargs)\n",
      "C:\\Users\\matts\\AppData\\Local\\Continuum\\anaconda3\\envs\\radar\\lib\\site-packages\\metpy\\xarray.py:570: MetpyDeprecationWarning: The get_wind_components function was deprecated in version 0.9. This function has been renamed wind_components.\n",
      "  return func(*args, **kwargs)\n",
      "C:\\Users\\matts\\AppData\\Local\\Continuum\\anaconda3\\envs\\radar\\lib\\site-packages\\metpy\\xarray.py:570: MetpyDeprecationWarning: The get_wind_components function was deprecated in version 0.9. This function has been renamed wind_components.\n",
      "  return func(*args, **kwargs)\n",
      "C:\\Users\\matts\\AppData\\Local\\Continuum\\anaconda3\\envs\\radar\\lib\\site-packages\\metpy\\xarray.py:570: MetpyDeprecationWarning: The get_wind_components function was deprecated in version 0.9. This function has been renamed wind_components.\n",
      "  return func(*args, **kwargs)\n",
      "C:\\Users\\matts\\AppData\\Local\\Continuum\\anaconda3\\envs\\radar\\lib\\site-packages\\metpy\\xarray.py:570: MetpyDeprecationWarning: The get_wind_components function was deprecated in version 0.9. This function has been renamed wind_components.\n",
      "  return func(*args, **kwargs)\n",
      "C:\\Users\\matts\\AppData\\Local\\Continuum\\anaconda3\\envs\\radar\\lib\\site-packages\\metpy\\xarray.py:570: MetpyDeprecationWarning: The get_wind_components function was deprecated in version 0.9. This function has been renamed wind_components.\n",
      "  return func(*args, **kwargs)\n",
      "C:\\Users\\matts\\AppData\\Local\\Continuum\\anaconda3\\envs\\radar\\lib\\site-packages\\metpy\\xarray.py:570: MetpyDeprecationWarning: The get_wind_components function was deprecated in version 0.9. This function has been renamed wind_components.\n",
      "  return func(*args, **kwargs)\n",
      "C:\\Users\\matts\\AppData\\Local\\Continuum\\anaconda3\\envs\\radar\\lib\\site-packages\\metpy\\xarray.py:570: MetpyDeprecationWarning: The get_wind_components function was deprecated in version 0.9. This function has been renamed wind_components.\n",
      "  return func(*args, **kwargs)\n",
      "C:\\Users\\matts\\AppData\\Local\\Continuum\\anaconda3\\envs\\radar\\lib\\site-packages\\metpy\\xarray.py:570: MetpyDeprecationWarning: The get_wind_components function was deprecated in version 0.9. This function has been renamed wind_components.\n",
      "  return func(*args, **kwargs)\n",
      "C:\\Users\\matts\\AppData\\Local\\Continuum\\anaconda3\\envs\\radar\\lib\\site-packages\\metpy\\xarray.py:570: MetpyDeprecationWarning: The get_wind_components function was deprecated in version 0.9. This function has been renamed wind_components.\n",
      "  return func(*args, **kwargs)\n",
      "C:\\Users\\matts\\AppData\\Local\\Continuum\\anaconda3\\envs\\radar\\lib\\site-packages\\metpy\\xarray.py:570: MetpyDeprecationWarning: The get_wind_components function was deprecated in version 0.9. This function has been renamed wind_components.\n",
      "  return func(*args, **kwargs)\n",
      "C:\\Users\\matts\\AppData\\Local\\Continuum\\anaconda3\\envs\\radar\\lib\\site-packages\\metpy\\xarray.py:570: MetpyDeprecationWarning: The get_wind_components function was deprecated in version 0.9. This function has been renamed wind_components.\n",
      "  return func(*args, **kwargs)\n",
      "C:\\Users\\matts\\AppData\\Local\\Continuum\\anaconda3\\envs\\radar\\lib\\site-packages\\metpy\\xarray.py:570: MetpyDeprecationWarning: The get_wind_components function was deprecated in version 0.9. This function has been renamed wind_components.\n",
      "  return func(*args, **kwargs)\n",
      "C:\\Users\\matts\\AppData\\Local\\Continuum\\anaconda3\\envs\\radar\\lib\\site-packages\\metpy\\xarray.py:570: MetpyDeprecationWarning: The get_wind_components function was deprecated in version 0.9. This function has been renamed wind_components.\n",
      "  return func(*args, **kwargs)\n",
      "C:\\Users\\matts\\AppData\\Local\\Continuum\\anaconda3\\envs\\radar\\lib\\site-packages\\metpy\\xarray.py:570: MetpyDeprecationWarning: The get_wind_components function was deprecated in version 0.9. This function has been renamed wind_components.\n",
      "  return func(*args, **kwargs)\n",
      "C:\\Users\\matts\\AppData\\Local\\Continuum\\anaconda3\\envs\\radar\\lib\\site-packages\\metpy\\xarray.py:570: MetpyDeprecationWarning: The get_wind_components function was deprecated in version 0.9. This function has been renamed wind_components.\n",
      "  return func(*args, **kwargs)\n",
      "C:\\Users\\matts\\AppData\\Local\\Continuum\\anaconda3\\envs\\radar\\lib\\site-packages\\metpy\\xarray.py:570: MetpyDeprecationWarning: The get_wind_components function was deprecated in version 0.9. This function has been renamed wind_components.\n",
      "  return func(*args, **kwargs)\n",
      "C:\\Users\\matts\\Documents\\Python Scripts\\SPORK\\ridiculous_framework_devSPINLOCAL.py:546: RuntimeWarning: invalid value encountered in double_scalars\n",
      "  hail_con_centroid_lon.append(np.sum(weighted_lons_hail) / np.sum(hail_areas_arr[np.where(hail_storm_lon == max_lons_c[i[0]])]))\n",
      "C:\\Users\\matts\\Documents\\Python Scripts\\SPORK\\ridiculous_framework_devSPINLOCAL.py:548: RuntimeWarning: invalid value encountered in double_scalars\n",
      "  hail_con_centroid_lat.append(np.sum(weighted_lats_hail) / np.sum(hail_areas_arr[np.where(hail_storm_lon == max_lons_c[i[0]])]))\n",
      "C:\\Users\\matts\\Documents\\Python Scripts\\SPORK\\ridiculous_framework_devSPINLOCAL.py:692: RuntimeWarning: invalid value encountered in double_scalars\n",
      "  col_con_centroid_lon.append(np.sum(weighted_lons_col) / np.sum(col_areas_arr[np.where(col_storm_lon == max_lons_c[i[0]])]))\n",
      "C:\\Users\\matts\\Documents\\Python Scripts\\SPORK\\ridiculous_framework_devSPINLOCAL.py:694: RuntimeWarning: invalid value encountered in double_scalars\n",
      "  col_con_centroid_lat.append(np.sum(weighted_lats_col) / np.sum(col_areas_arr[np.where(col_storm_lon == max_lons_c[i[0]])]))\n",
      "C:\\Users\\matts\\Documents\\Python Scripts\\SPORK\\ridiculous_framework_devSPINLOCAL.py:780: RuntimeWarning: invalid value encountered in true_divide\n",
      "  shaped_ang = (180-np.abs(shaped_ang))*(shaped_ang/np.abs(shaped_ang))\n"
     ]
    },
    {
     "name": "stdout",
     "output_type": "stream",
     "text": [
      "Figure Saved\n",
      "[0, 2.147983028806925, 3.030357400847864, 2.0619158131106152, 1.5432056427328278]\n",
      "[0, 2.0332267401756026, 3.076825310754065, 2.1053374279520543, 0]\n",
      "[0, 1.979359664212698, 3.1435078115701964, 1.9645356108280514, 0]\n",
      "[0, 1.982027544441261, 3.2151764084282517, 1.821312002890362, 0]\n",
      "File Reading\n",
      "Pre-grid Organization Section\n",
      "0.506752\n",
      "bad split cut\n",
      "0.48339844\n",
      "0.8723755\n",
      "bad split cut\n",
      "0.87890625\n",
      "1.3690796\n",
      "bad split cut\n",
      "1.3635025\n",
      "1.8085785\n",
      "2.4086304\n",
      "3.125824\n",
      "4.0058746\n",
      "5.0993195\n",
      "6.4654393\n",
      "7.98677\n",
      "10.025406\n",
      "12.4761505\n",
      "15.604156\n",
      "19.495255\n",
      "KDP Section\n",
      "Grid Section\n"
     ]
    },
    {
     "name": "stderr",
     "output_type": "stream",
     "text": [
      "C:\\Users\\matts\\AppData\\Local\\Continuum\\anaconda3\\envs\\radar\\lib\\site-packages\\pyart\\map\\gates_to_grid.py:177: DeprecationWarning: Barnes weighting function is deprecated. Please use Barnes 2 to be consistent with Pauley and Wu 1990.\n",
      "  \" Pauley and Wu 1990.\", DeprecationWarning)\n",
      "C:\\Users\\matts\\AppData\\Local\\Continuum\\anaconda3\\envs\\radar\\lib\\site-packages\\pyart\\map\\gates_to_grid.py:177: DeprecationWarning: Barnes weighting function is deprecated. Please use Barnes 2 to be consistent with Pauley and Wu 1990.\n",
      "  \" Pauley and Wu 1990.\", DeprecationWarning)\n"
     ]
    },
    {
     "name": "stdout",
     "output_type": "stream",
     "text": [
      "Gradient Analysis and Masking\n"
     ]
    },
    {
     "name": "stderr",
     "output_type": "stream",
     "text": [
      "C:\\Users\\matts\\AppData\\Local\\Continuum\\anaconda3\\envs\\radar\\lib\\site-packages\\metpy\\xarray.py:570: MetpyDeprecationWarning: The get_wind_dir function was deprecated in version 0.9. This function has been renamed wind_direction.\n",
      "  return func(*args, **kwargs)\n",
      "C:\\Users\\matts\\AppData\\Local\\Continuum\\anaconda3\\envs\\radar\\lib\\site-packages\\metpy\\xarray.py:570: MetpyDeprecationWarning: The get_wind_speed function was deprecated in version 0.9. This function has been renamed wind_speed.\n",
      "  return func(*args, **kwargs)\n"
     ]
    },
    {
     "name": "stdout",
     "output_type": "stream",
     "text": [
      "[[  0   1   2 ... 497 498 499]\n",
      " [  0   1   2 ... 497 498 499]\n",
      " [  0   1   2 ... 497 498 499]\n",
      " ...\n",
      " [  0   1   2 ... 497 498 499]\n",
      " [  0   1   2 ... 497 498 499]\n",
      " [  0   1   2 ... 497 498 499]]\n",
      "(500, 500)\n",
      "(-94.84111022949219, 31.45055389404297, <cartopy.crs.PlateCarree object at 0x0000018B87DB8990>)\n",
      "Testfig Saved\n"
     ]
    },
    {
     "name": "stderr",
     "output_type": "stream",
     "text": [
      "C:\\Users\\matts\\AppData\\Local\\Continuum\\anaconda3\\envs\\radar\\lib\\site-packages\\metpy\\xarray.py:570: MetpyDeprecationWarning: The get_wind_components function was deprecated in version 0.9. This function has been renamed wind_components.\n",
      "  return func(*args, **kwargs)\n",
      "C:\\Users\\matts\\AppData\\Local\\Continuum\\anaconda3\\envs\\radar\\lib\\site-packages\\metpy\\xarray.py:570: MetpyDeprecationWarning: The get_wind_components function was deprecated in version 0.9. This function has been renamed wind_components.\n",
      "  return func(*args, **kwargs)\n",
      "C:\\Users\\matts\\AppData\\Local\\Continuum\\anaconda3\\envs\\radar\\lib\\site-packages\\metpy\\xarray.py:570: MetpyDeprecationWarning: The get_wind_components function was deprecated in version 0.9. This function has been renamed wind_components.\n",
      "  return func(*args, **kwargs)\n",
      "C:\\Users\\matts\\AppData\\Local\\Continuum\\anaconda3\\envs\\radar\\lib\\site-packages\\metpy\\xarray.py:570: MetpyDeprecationWarning: The get_wind_components function was deprecated in version 0.9. This function has been renamed wind_components.\n",
      "  return func(*args, **kwargs)\n",
      "C:\\Users\\matts\\AppData\\Local\\Continuum\\anaconda3\\envs\\radar\\lib\\site-packages\\metpy\\xarray.py:570: MetpyDeprecationWarning: The get_wind_components function was deprecated in version 0.9. This function has been renamed wind_components.\n",
      "  return func(*args, **kwargs)\n",
      "C:\\Users\\matts\\AppData\\Local\\Continuum\\anaconda3\\envs\\radar\\lib\\site-packages\\metpy\\xarray.py:570: MetpyDeprecationWarning: The get_wind_components function was deprecated in version 0.9. This function has been renamed wind_components.\n",
      "  return func(*args, **kwargs)\n",
      "C:\\Users\\matts\\AppData\\Local\\Continuum\\anaconda3\\envs\\radar\\lib\\site-packages\\metpy\\xarray.py:570: MetpyDeprecationWarning: The get_wind_components function was deprecated in version 0.9. This function has been renamed wind_components.\n",
      "  return func(*args, **kwargs)\n",
      "C:\\Users\\matts\\AppData\\Local\\Continuum\\anaconda3\\envs\\radar\\lib\\site-packages\\metpy\\xarray.py:570: MetpyDeprecationWarning: The get_wind_components function was deprecated in version 0.9. This function has been renamed wind_components.\n",
      "  return func(*args, **kwargs)\n",
      "C:\\Users\\matts\\AppData\\Local\\Continuum\\anaconda3\\envs\\radar\\lib\\site-packages\\metpy\\xarray.py:570: MetpyDeprecationWarning: The get_wind_components function was deprecated in version 0.9. This function has been renamed wind_components.\n",
      "  return func(*args, **kwargs)\n",
      "C:\\Users\\matts\\AppData\\Local\\Continuum\\anaconda3\\envs\\radar\\lib\\site-packages\\metpy\\xarray.py:570: MetpyDeprecationWarning: The get_wind_components function was deprecated in version 0.9. This function has been renamed wind_components.\n",
      "  return func(*args, **kwargs)\n",
      "C:\\Users\\matts\\AppData\\Local\\Continuum\\anaconda3\\envs\\radar\\lib\\site-packages\\metpy\\xarray.py:570: MetpyDeprecationWarning: The get_wind_components function was deprecated in version 0.9. This function has been renamed wind_components.\n",
      "  return func(*args, **kwargs)\n",
      "C:\\Users\\matts\\AppData\\Local\\Continuum\\anaconda3\\envs\\radar\\lib\\site-packages\\metpy\\xarray.py:570: MetpyDeprecationWarning: The get_wind_components function was deprecated in version 0.9. This function has been renamed wind_components.\n",
      "  return func(*args, **kwargs)\n",
      "C:\\Users\\matts\\AppData\\Local\\Continuum\\anaconda3\\envs\\radar\\lib\\site-packages\\metpy\\xarray.py:570: MetpyDeprecationWarning: The get_wind_components function was deprecated in version 0.9. This function has been renamed wind_components.\n",
      "  return func(*args, **kwargs)\n",
      "C:\\Users\\matts\\AppData\\Local\\Continuum\\anaconda3\\envs\\radar\\lib\\site-packages\\metpy\\xarray.py:570: MetpyDeprecationWarning: The get_wind_components function was deprecated in version 0.9. This function has been renamed wind_components.\n",
      "  return func(*args, **kwargs)\n",
      "C:\\Users\\matts\\AppData\\Local\\Continuum\\anaconda3\\envs\\radar\\lib\\site-packages\\metpy\\xarray.py:570: MetpyDeprecationWarning: The get_wind_components function was deprecated in version 0.9. This function has been renamed wind_components.\n",
      "  return func(*args, **kwargs)\n",
      "C:\\Users\\matts\\AppData\\Local\\Continuum\\anaconda3\\envs\\radar\\lib\\site-packages\\metpy\\xarray.py:570: MetpyDeprecationWarning: The get_wind_components function was deprecated in version 0.9. This function has been renamed wind_components.\n",
      "  return func(*args, **kwargs)\n",
      "C:\\Users\\matts\\Documents\\Python Scripts\\SPORK\\ridiculous_framework_devSPINLOCAL.py:546: RuntimeWarning: invalid value encountered in double_scalars\n",
      "  hail_con_centroid_lon.append(np.sum(weighted_lons_hail) / np.sum(hail_areas_arr[np.where(hail_storm_lon == max_lons_c[i[0]])]))\n",
      "C:\\Users\\matts\\Documents\\Python Scripts\\SPORK\\ridiculous_framework_devSPINLOCAL.py:548: RuntimeWarning: invalid value encountered in double_scalars\n",
      "  hail_con_centroid_lat.append(np.sum(weighted_lats_hail) / np.sum(hail_areas_arr[np.where(hail_storm_lon == max_lons_c[i[0]])]))\n",
      "C:\\Users\\matts\\Documents\\Python Scripts\\SPORK\\ridiculous_framework_devSPINLOCAL.py:692: RuntimeWarning: invalid value encountered in double_scalars\n",
      "  col_con_centroid_lon.append(np.sum(weighted_lons_col) / np.sum(col_areas_arr[np.where(col_storm_lon == max_lons_c[i[0]])]))\n",
      "C:\\Users\\matts\\Documents\\Python Scripts\\SPORK\\ridiculous_framework_devSPINLOCAL.py:694: RuntimeWarning: invalid value encountered in double_scalars\n",
      "  col_con_centroid_lat.append(np.sum(weighted_lats_col) / np.sum(col_areas_arr[np.where(col_storm_lon == max_lons_c[i[0]])]))\n",
      "C:\\Users\\matts\\Documents\\Python Scripts\\SPORK\\ridiculous_framework_devSPINLOCAL.py:780: RuntimeWarning: invalid value encountered in true_divide\n",
      "  shaped_ang = (180-np.abs(shaped_ang))*(shaped_ang/np.abs(shaped_ang))\n"
     ]
    },
    {
     "name": "stdout",
     "output_type": "stream",
     "text": [
      "Figure Saved\n",
      "[0, 2.566649681651116, 2.9008900874205956, 2.2838827240703745, 1.769497892239321]\n",
      "[0, 2.3643488250177747, 2.925277255605986, 2.3804316082239576, 1.6103322644598264]\n",
      "[0, 2.2432264105949917, 2.9853026121537765, 2.629130593766632, 1.5084472300356013]\n",
      "[0, 2.13448004126116, 3.118308136455586, 2.869569687992808, 0]\n",
      "File Reading\n",
      "Pre-grid Organization Section\n",
      "0.50349426\n",
      "bad split cut\n",
      "0.48339844\n",
      "0.8739166\n",
      "bad split cut\n",
      "0.87890625\n",
      "1.3699112\n",
      "bad split cut\n",
      "1.3623047\n",
      "1.8093567\n",
      "2.4072723\n",
      "3.1270752\n",
      "4.006256\n",
      "5.102524\n",
      "6.4303126\n",
      "7.985718\n",
      "10.025558\n",
      "12.479965\n",
      "15.601517\n",
      "19.498245\n",
      "KDP Section\n",
      "Grid Section\n"
     ]
    },
    {
     "name": "stderr",
     "output_type": "stream",
     "text": [
      "C:\\Users\\matts\\AppData\\Local\\Continuum\\anaconda3\\envs\\radar\\lib\\site-packages\\pyart\\map\\gates_to_grid.py:177: DeprecationWarning: Barnes weighting function is deprecated. Please use Barnes 2 to be consistent with Pauley and Wu 1990.\n",
      "  \" Pauley and Wu 1990.\", DeprecationWarning)\n",
      "C:\\Users\\matts\\AppData\\Local\\Continuum\\anaconda3\\envs\\radar\\lib\\site-packages\\pyart\\map\\gates_to_grid.py:177: DeprecationWarning: Barnes weighting function is deprecated. Please use Barnes 2 to be consistent with Pauley and Wu 1990.\n",
      "  \" Pauley and Wu 1990.\", DeprecationWarning)\n"
     ]
    },
    {
     "name": "stdout",
     "output_type": "stream",
     "text": [
      "Gradient Analysis and Masking\n"
     ]
    },
    {
     "name": "stderr",
     "output_type": "stream",
     "text": [
      "C:\\Users\\matts\\AppData\\Local\\Continuum\\anaconda3\\envs\\radar\\lib\\site-packages\\metpy\\xarray.py:570: MetpyDeprecationWarning: The get_wind_dir function was deprecated in version 0.9. This function has been renamed wind_direction.\n",
      "  return func(*args, **kwargs)\n",
      "C:\\Users\\matts\\AppData\\Local\\Continuum\\anaconda3\\envs\\radar\\lib\\site-packages\\metpy\\xarray.py:570: MetpyDeprecationWarning: The get_wind_speed function was deprecated in version 0.9. This function has been renamed wind_speed.\n",
      "  return func(*args, **kwargs)\n"
     ]
    },
    {
     "name": "stdout",
     "output_type": "stream",
     "text": [
      "[[  0   1   2 ... 497 498 499]\n",
      " [  0   1   2 ... 497 498 499]\n",
      " [  0   1   2 ... 497 498 499]\n",
      " ...\n",
      " [  0   1   2 ... 497 498 499]\n",
      " [  0   1   2 ... 497 498 499]\n",
      " [  0   1   2 ... 497 498 499]]\n",
      "(500, 500)\n",
      "(-94.84111022949219, 31.45055389404297, <cartopy.crs.PlateCarree object at 0x0000018B807B2E08>)\n",
      "Testfig Saved\n"
     ]
    },
    {
     "name": "stderr",
     "output_type": "stream",
     "text": [
      "C:\\Users\\matts\\AppData\\Local\\Continuum\\anaconda3\\envs\\radar\\lib\\site-packages\\metpy\\xarray.py:570: MetpyDeprecationWarning: The get_wind_components function was deprecated in version 0.9. This function has been renamed wind_components.\n",
      "  return func(*args, **kwargs)\n",
      "C:\\Users\\matts\\AppData\\Local\\Continuum\\anaconda3\\envs\\radar\\lib\\site-packages\\metpy\\xarray.py:570: MetpyDeprecationWarning: The get_wind_components function was deprecated in version 0.9. This function has been renamed wind_components.\n",
      "  return func(*args, **kwargs)\n",
      "C:\\Users\\matts\\AppData\\Local\\Continuum\\anaconda3\\envs\\radar\\lib\\site-packages\\metpy\\xarray.py:570: MetpyDeprecationWarning: The get_wind_components function was deprecated in version 0.9. This function has been renamed wind_components.\n",
      "  return func(*args, **kwargs)\n",
      "C:\\Users\\matts\\AppData\\Local\\Continuum\\anaconda3\\envs\\radar\\lib\\site-packages\\metpy\\xarray.py:570: MetpyDeprecationWarning: The get_wind_components function was deprecated in version 0.9. This function has been renamed wind_components.\n",
      "  return func(*args, **kwargs)\n",
      "C:\\Users\\matts\\AppData\\Local\\Continuum\\anaconda3\\envs\\radar\\lib\\site-packages\\metpy\\xarray.py:570: MetpyDeprecationWarning: The get_wind_components function was deprecated in version 0.9. This function has been renamed wind_components.\n",
      "  return func(*args, **kwargs)\n",
      "C:\\Users\\matts\\AppData\\Local\\Continuum\\anaconda3\\envs\\radar\\lib\\site-packages\\metpy\\xarray.py:570: MetpyDeprecationWarning: The get_wind_components function was deprecated in version 0.9. This function has been renamed wind_components.\n",
      "  return func(*args, **kwargs)\n",
      "C:\\Users\\matts\\AppData\\Local\\Continuum\\anaconda3\\envs\\radar\\lib\\site-packages\\metpy\\xarray.py:570: MetpyDeprecationWarning: The get_wind_components function was deprecated in version 0.9. This function has been renamed wind_components.\n",
      "  return func(*args, **kwargs)\n",
      "C:\\Users\\matts\\AppData\\Local\\Continuum\\anaconda3\\envs\\radar\\lib\\site-packages\\metpy\\xarray.py:570: MetpyDeprecationWarning: The get_wind_components function was deprecated in version 0.9. This function has been renamed wind_components.\n",
      "  return func(*args, **kwargs)\n",
      "C:\\Users\\matts\\AppData\\Local\\Continuum\\anaconda3\\envs\\radar\\lib\\site-packages\\metpy\\xarray.py:570: MetpyDeprecationWarning: The get_wind_components function was deprecated in version 0.9. This function has been renamed wind_components.\n",
      "  return func(*args, **kwargs)\n",
      "C:\\Users\\matts\\AppData\\Local\\Continuum\\anaconda3\\envs\\radar\\lib\\site-packages\\metpy\\xarray.py:570: MetpyDeprecationWarning: The get_wind_components function was deprecated in version 0.9. This function has been renamed wind_components.\n",
      "  return func(*args, **kwargs)\n",
      "C:\\Users\\matts\\AppData\\Local\\Continuum\\anaconda3\\envs\\radar\\lib\\site-packages\\metpy\\xarray.py:570: MetpyDeprecationWarning: The get_wind_components function was deprecated in version 0.9. This function has been renamed wind_components.\n",
      "  return func(*args, **kwargs)\n",
      "C:\\Users\\matts\\AppData\\Local\\Continuum\\anaconda3\\envs\\radar\\lib\\site-packages\\metpy\\xarray.py:570: MetpyDeprecationWarning: The get_wind_components function was deprecated in version 0.9. This function has been renamed wind_components.\n",
      "  return func(*args, **kwargs)\n",
      "C:\\Users\\matts\\AppData\\Local\\Continuum\\anaconda3\\envs\\radar\\lib\\site-packages\\metpy\\xarray.py:570: MetpyDeprecationWarning: The get_wind_components function was deprecated in version 0.9. This function has been renamed wind_components.\n",
      "  return func(*args, **kwargs)\n",
      "C:\\Users\\matts\\AppData\\Local\\Continuum\\anaconda3\\envs\\radar\\lib\\site-packages\\metpy\\xarray.py:570: MetpyDeprecationWarning: The get_wind_components function was deprecated in version 0.9. This function has been renamed wind_components.\n",
      "  return func(*args, **kwargs)\n",
      "C:\\Users\\matts\\AppData\\Local\\Continuum\\anaconda3\\envs\\radar\\lib\\site-packages\\metpy\\xarray.py:570: MetpyDeprecationWarning: The get_wind_components function was deprecated in version 0.9. This function has been renamed wind_components.\n",
      "  return func(*args, **kwargs)\n",
      "C:\\Users\\matts\\AppData\\Local\\Continuum\\anaconda3\\envs\\radar\\lib\\site-packages\\metpy\\xarray.py:570: MetpyDeprecationWarning: The get_wind_components function was deprecated in version 0.9. This function has been renamed wind_components.\n",
      "  return func(*args, **kwargs)\n",
      "C:\\Users\\matts\\Documents\\Python Scripts\\SPORK\\ridiculous_framework_devSPINLOCAL.py:692: RuntimeWarning: invalid value encountered in double_scalars\n",
      "  col_con_centroid_lon.append(np.sum(weighted_lons_col) / np.sum(col_areas_arr[np.where(col_storm_lon == max_lons_c[i[0]])]))\n",
      "C:\\Users\\matts\\Documents\\Python Scripts\\SPORK\\ridiculous_framework_devSPINLOCAL.py:694: RuntimeWarning: invalid value encountered in double_scalars\n",
      "  col_con_centroid_lat.append(np.sum(weighted_lats_col) / np.sum(col_areas_arr[np.where(col_storm_lon == max_lons_c[i[0]])]))\n",
      "C:\\Users\\matts\\Documents\\Python Scripts\\SPORK\\ridiculous_framework_devSPINLOCAL.py:546: RuntimeWarning: invalid value encountered in double_scalars\n",
      "  hail_con_centroid_lon.append(np.sum(weighted_lons_hail) / np.sum(hail_areas_arr[np.where(hail_storm_lon == max_lons_c[i[0]])]))\n",
      "C:\\Users\\matts\\Documents\\Python Scripts\\SPORK\\ridiculous_framework_devSPINLOCAL.py:548: RuntimeWarning: invalid value encountered in double_scalars\n",
      "  hail_con_centroid_lat.append(np.sum(weighted_lats_hail) / np.sum(hail_areas_arr[np.where(hail_storm_lon == max_lons_c[i[0]])]))\n",
      "C:\\Users\\matts\\Documents\\Python Scripts\\SPORK\\ridiculous_framework_devSPINLOCAL.py:780: RuntimeWarning: invalid value encountered in true_divide\n",
      "  shaped_ang = (180-np.abs(shaped_ang))*(shaped_ang/np.abs(shaped_ang))\n"
     ]
    },
    {
     "name": "stdout",
     "output_type": "stream",
     "text": [
      "Figure Saved\n",
      "[0, 2.3934095371807675, 2.948982315324999, 3.194189867149273, 0, 1.9340073145089387]\n",
      "[0, 2.237212626412952, 2.8851401982634486, 3.6593335898985098, 0, 1.8241447222384475]\n",
      "[0, 2.128989816552202, 2.88561713057299, 3.747610374655071, 0, 1.731555878842463]\n",
      "[0, 2.0414499578937084, 3.0487463208721333, 3.6574886154573987, 0, 1.675024125462798]\n",
      "File Reading\n",
      "Pre-grid Organization Section\n",
      "0.5363159\n",
      "bad split cut\n",
      "0.52734375\n",
      "0.8743439\n",
      "bad split cut\n",
      "0.87890625\n",
      "1.3306046\n",
      "bad split cut\n",
      "1.3183594\n",
      "1.8088837\n",
      "2.4094849\n",
      "3.1259308\n",
      "4.0060425\n",
      "5.1002045\n",
      "6.4666443\n",
      "7.9855957\n",
      "10.026215\n",
      "12.478897\n",
      "15.604141\n",
      "19.495224\n",
      "KDP Section\n",
      "Grid Section\n"
     ]
    },
    {
     "name": "stderr",
     "output_type": "stream",
     "text": [
      "C:\\Users\\matts\\AppData\\Local\\Continuum\\anaconda3\\envs\\radar\\lib\\site-packages\\pyart\\map\\gates_to_grid.py:177: DeprecationWarning: Barnes weighting function is deprecated. Please use Barnes 2 to be consistent with Pauley and Wu 1990.\n",
      "  \" Pauley and Wu 1990.\", DeprecationWarning)\n",
      "C:\\Users\\matts\\AppData\\Local\\Continuum\\anaconda3\\envs\\radar\\lib\\site-packages\\pyart\\map\\gates_to_grid.py:177: DeprecationWarning: Barnes weighting function is deprecated. Please use Barnes 2 to be consistent with Pauley and Wu 1990.\n",
      "  \" Pauley and Wu 1990.\", DeprecationWarning)\n"
     ]
    },
    {
     "name": "stdout",
     "output_type": "stream",
     "text": [
      "Gradient Analysis and Masking\n"
     ]
    },
    {
     "name": "stderr",
     "output_type": "stream",
     "text": [
      "C:\\Users\\matts\\AppData\\Local\\Continuum\\anaconda3\\envs\\radar\\lib\\site-packages\\metpy\\xarray.py:570: MetpyDeprecationWarning: The get_wind_dir function was deprecated in version 0.9. This function has been renamed wind_direction.\n",
      "  return func(*args, **kwargs)\n",
      "C:\\Users\\matts\\AppData\\Local\\Continuum\\anaconda3\\envs\\radar\\lib\\site-packages\\metpy\\xarray.py:570: MetpyDeprecationWarning: The get_wind_speed function was deprecated in version 0.9. This function has been renamed wind_speed.\n",
      "  return func(*args, **kwargs)\n"
     ]
    },
    {
     "name": "stdout",
     "output_type": "stream",
     "text": [
      "[[  0   1   2 ... 497 498 499]\n",
      " [  0   1   2 ... 497 498 499]\n",
      " [  0   1   2 ... 497 498 499]\n",
      " ...\n",
      " [  0   1   2 ... 497 498 499]\n",
      " [  0   1   2 ... 497 498 499]\n",
      " [  0   1   2 ... 497 498 499]]\n",
      "(500, 500)\n",
      "(-94.84111022949219, 31.45055389404297, <cartopy.crs.PlateCarree object at 0x0000018B87BCF2B0>)\n",
      "Testfig Saved\n"
     ]
    },
    {
     "name": "stderr",
     "output_type": "stream",
     "text": [
      "C:\\Users\\matts\\AppData\\Local\\Continuum\\anaconda3\\envs\\radar\\lib\\site-packages\\metpy\\xarray.py:570: MetpyDeprecationWarning: The get_wind_components function was deprecated in version 0.9. This function has been renamed wind_components.\n",
      "  return func(*args, **kwargs)\n",
      "C:\\Users\\matts\\AppData\\Local\\Continuum\\anaconda3\\envs\\radar\\lib\\site-packages\\metpy\\xarray.py:570: MetpyDeprecationWarning: The get_wind_components function was deprecated in version 0.9. This function has been renamed wind_components.\n",
      "  return func(*args, **kwargs)\n",
      "C:\\Users\\matts\\AppData\\Local\\Continuum\\anaconda3\\envs\\radar\\lib\\site-packages\\metpy\\xarray.py:570: MetpyDeprecationWarning: The get_wind_components function was deprecated in version 0.9. This function has been renamed wind_components.\n",
      "  return func(*args, **kwargs)\n",
      "C:\\Users\\matts\\AppData\\Local\\Continuum\\anaconda3\\envs\\radar\\lib\\site-packages\\metpy\\xarray.py:570: MetpyDeprecationWarning: The get_wind_components function was deprecated in version 0.9. This function has been renamed wind_components.\n",
      "  return func(*args, **kwargs)\n",
      "C:\\Users\\matts\\AppData\\Local\\Continuum\\anaconda3\\envs\\radar\\lib\\site-packages\\metpy\\xarray.py:570: MetpyDeprecationWarning: The get_wind_components function was deprecated in version 0.9. This function has been renamed wind_components.\n",
      "  return func(*args, **kwargs)\n",
      "C:\\Users\\matts\\AppData\\Local\\Continuum\\anaconda3\\envs\\radar\\lib\\site-packages\\metpy\\xarray.py:570: MetpyDeprecationWarning: The get_wind_components function was deprecated in version 0.9. This function has been renamed wind_components.\n",
      "  return func(*args, **kwargs)\n",
      "C:\\Users\\matts\\AppData\\Local\\Continuum\\anaconda3\\envs\\radar\\lib\\site-packages\\metpy\\xarray.py:570: MetpyDeprecationWarning: The get_wind_components function was deprecated in version 0.9. This function has been renamed wind_components.\n",
      "  return func(*args, **kwargs)\n",
      "C:\\Users\\matts\\AppData\\Local\\Continuum\\anaconda3\\envs\\radar\\lib\\site-packages\\metpy\\xarray.py:570: MetpyDeprecationWarning: The get_wind_components function was deprecated in version 0.9. This function has been renamed wind_components.\n",
      "  return func(*args, **kwargs)\n",
      "C:\\Users\\matts\\AppData\\Local\\Continuum\\anaconda3\\envs\\radar\\lib\\site-packages\\metpy\\xarray.py:570: MetpyDeprecationWarning: The get_wind_components function was deprecated in version 0.9. This function has been renamed wind_components.\n",
      "  return func(*args, **kwargs)\n",
      "C:\\Users\\matts\\AppData\\Local\\Continuum\\anaconda3\\envs\\radar\\lib\\site-packages\\metpy\\xarray.py:570: MetpyDeprecationWarning: The get_wind_components function was deprecated in version 0.9. This function has been renamed wind_components.\n",
      "  return func(*args, **kwargs)\n",
      "C:\\Users\\matts\\AppData\\Local\\Continuum\\anaconda3\\envs\\radar\\lib\\site-packages\\metpy\\xarray.py:570: MetpyDeprecationWarning: The get_wind_components function was deprecated in version 0.9. This function has been renamed wind_components.\n",
      "  return func(*args, **kwargs)\n",
      "C:\\Users\\matts\\Documents\\Python Scripts\\SPORK\\ridiculous_framework_devSPINLOCAL.py:692: RuntimeWarning: invalid value encountered in double_scalars\n",
      "  col_con_centroid_lon.append(np.sum(weighted_lons_col) / np.sum(col_areas_arr[np.where(col_storm_lon == max_lons_c[i[0]])]))\n",
      "C:\\Users\\matts\\Documents\\Python Scripts\\SPORK\\ridiculous_framework_devSPINLOCAL.py:694: RuntimeWarning: invalid value encountered in double_scalars\n",
      "  col_con_centroid_lat.append(np.sum(weighted_lats_col) / np.sum(col_areas_arr[np.where(col_storm_lon == max_lons_c[i[0]])]))\n",
      "C:\\Users\\matts\\Documents\\Python Scripts\\SPORK\\ridiculous_framework_devSPINLOCAL.py:546: RuntimeWarning: invalid value encountered in double_scalars\n",
      "  hail_con_centroid_lon.append(np.sum(weighted_lons_hail) / np.sum(hail_areas_arr[np.where(hail_storm_lon == max_lons_c[i[0]])]))\n",
      "C:\\Users\\matts\\Documents\\Python Scripts\\SPORK\\ridiculous_framework_devSPINLOCAL.py:548: RuntimeWarning: invalid value encountered in double_scalars\n",
      "  hail_con_centroid_lat.append(np.sum(weighted_lats_hail) / np.sum(hail_areas_arr[np.where(hail_storm_lon == max_lons_c[i[0]])]))\n",
      "C:\\Users\\matts\\Documents\\Python Scripts\\SPORK\\ridiculous_framework_devSPINLOCAL.py:780: RuntimeWarning: invalid value encountered in true_divide\n",
      "  shaped_ang = (180-np.abs(shaped_ang))*(shaped_ang/np.abs(shaped_ang))\n"
     ]
    },
    {
     "name": "stdout",
     "output_type": "stream",
     "text": [
      "Figure Saved\n",
      "[0, 2.0316765058062036, 3.1971918370755033, 4.550909560086655, 0, 2.0579039393450747]\n",
      "[0, 1.9187585218527847, 3.103718747790745, 4.812116368810114, 0, 1.9476616924515469]\n",
      "[0, 1.8799267616451023, 2.9939482787751066, 4.47932702569536, 0, 1.9022700431453037]\n",
      "[0, 1.8773468340229718, 2.9521172075384055, 4.2637695357015195, 0, 1.875137917143379]\n",
      "Fin\n",
      "2020-02-10 20:41:19.409806\n"
     ]
    }
   ],
   "source": [
    "#TEST LOOP-to test modifications of the algorithm\n",
    "print(datetime.utcnow())\n",
    "#for i in range(len(durations)):\n",
    "#Re-run: 0, 2, 4, 6, 8, 9, 10, 11 (for z thresholds), 12\n",
    "#for i in [5]:\n",
    "for i in [1]:\n",
    "    #print(multi_case_algorithm_ML1(150,3.25,1.5,45,50,300,25,2,2013,8,10,18,0,1.0,-0.03755074,'KAKQ',4623))\n",
    "    tracks_dataframe, zdroutlines, col_areas, col_lon, col_storm_lon = multi_case_algorithm_ML1_devSPINLOCAL(storm_relative_dirs[i],3.25,1.5,REFlevs[i],REFlev1s[i],big_storms[i],70,storm_to_tracks[i],years[i],months[i],days[i],hours[i],start_mins[i],durations[i],calibrations[i],stations[i],h_calstm[i], 246, localfolder=localfolder[i], track_dis=10, GR_mins=6)\n",
    "    #tracks_dataframe, zdroutlines, col_areas, col_lon, col_storm_lon = multi_case_algorithm_ML1_devLOCAL(storm_relative_dirs[i],3.25,1.5,REFlevs[i],REFlev1s[i],big_storms[i],70,storm_to_tracks[i],years[i],months[i],days[i],hours[i],start_mins[i],durations[i],calibrations[i],stations[i],h_calstm[i], localfolder[i], track_dis=10)\n",
    "\n",
    "    tracks_dataframe.to_pickle('SPORK_SPIN'+str(years[i])+str(months[i])+str(days[i])+str(stations[i])+'.pkl')\n",
    "print(datetime.utcnow())"
   ]
  },
  {
   "cell_type": "code",
   "execution_count": null,
   "metadata": {},
   "outputs": [],
   "source": []
  }
 ],
 "metadata": {
  "kernelspec": {
   "display_name": "Python 3",
   "language": "python",
   "name": "python3"
  },
  "language_info": {
   "codemirror_mode": {
    "name": "ipython",
    "version": 3
   },
   "file_extension": ".py",
   "mimetype": "text/x-python",
   "name": "python",
   "nbconvert_exporter": "python",
   "pygments_lexer": "ipython3",
   "version": "3.7.3"
  }
 },
 "nbformat": 4,
 "nbformat_minor": 2
}
